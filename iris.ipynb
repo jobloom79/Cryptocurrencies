{
 "cells": [
  {
   "cell_type": "code",
   "execution_count": 31,
   "metadata": {},
   "outputs": [],
   "source": [
    "import pandas as pd\n",
    "import plotly.express as px\n",
    "import hvplot.pandas\n",
    "# from sklearn.cluster import KMeans\n",
    "from sklearn.preprocessing import StandardScaler\n",
    "from sklearn.decomposition import PCA\n",
    "from sklearn.cluster import AgglomerativeClustering"
   ]
  },
  {
   "cell_type": "code",
   "execution_count": 2,
   "metadata": {},
   "outputs": [
    {
     "data": {
      "text/html": [
       "<div>\n",
       "<style scoped>\n",
       "    .dataframe tbody tr th:only-of-type {\n",
       "        vertical-align: middle;\n",
       "    }\n",
       "\n",
       "    .dataframe tbody tr th {\n",
       "        vertical-align: top;\n",
       "    }\n",
       "\n",
       "    .dataframe thead th {\n",
       "        text-align: right;\n",
       "    }\n",
       "</style>\n",
       "<table border=\"1\" class=\"dataframe\">\n",
       "  <thead>\n",
       "    <tr style=\"text-align: right;\">\n",
       "      <th></th>\n",
       "      <th>sepal_length</th>\n",
       "      <th>sepal_width</th>\n",
       "      <th>petal_length</th>\n",
       "      <th>petal_width</th>\n",
       "      <th>class</th>\n",
       "    </tr>\n",
       "  </thead>\n",
       "  <tbody>\n",
       "    <tr>\n",
       "      <th>145</th>\n",
       "      <td>6.7</td>\n",
       "      <td>3.0</td>\n",
       "      <td>5.2</td>\n",
       "      <td>2.3</td>\n",
       "      <td>Iris-virginica</td>\n",
       "    </tr>\n",
       "    <tr>\n",
       "      <th>146</th>\n",
       "      <td>6.3</td>\n",
       "      <td>2.5</td>\n",
       "      <td>5.0</td>\n",
       "      <td>1.9</td>\n",
       "      <td>Iris-virginica</td>\n",
       "    </tr>\n",
       "    <tr>\n",
       "      <th>147</th>\n",
       "      <td>6.5</td>\n",
       "      <td>3.0</td>\n",
       "      <td>5.2</td>\n",
       "      <td>2.0</td>\n",
       "      <td>Iris-virginica</td>\n",
       "    </tr>\n",
       "    <tr>\n",
       "      <th>148</th>\n",
       "      <td>6.2</td>\n",
       "      <td>3.4</td>\n",
       "      <td>5.4</td>\n",
       "      <td>2.3</td>\n",
       "      <td>Iris-virginica</td>\n",
       "    </tr>\n",
       "    <tr>\n",
       "      <th>149</th>\n",
       "      <td>5.9</td>\n",
       "      <td>3.0</td>\n",
       "      <td>5.1</td>\n",
       "      <td>1.8</td>\n",
       "      <td>Iris-virginica</td>\n",
       "    </tr>\n",
       "  </tbody>\n",
       "</table>\n",
       "</div>"
      ],
      "text/plain": [
       "     sepal_length  sepal_width  petal_length  petal_width           class\n",
       "145           6.7          3.0           5.2          2.3  Iris-virginica\n",
       "146           6.3          2.5           5.0          1.9  Iris-virginica\n",
       "147           6.5          3.0           5.2          2.0  Iris-virginica\n",
       "148           6.2          3.4           5.4          2.3  Iris-virginica\n",
       "149           5.9          3.0           5.1          1.8  Iris-virginica"
      ]
     },
     "execution_count": 2,
     "metadata": {},
     "output_type": "execute_result"
    }
   ],
   "source": [
    "file_path = r\"C:\\Users\\josep\\Documents\\GitHub\\Cryptocurrencies\\resources\\iris.csv\"\n",
    "iris_df = pd.read_csv(file_path)\n",
    "iris_df.tail()"
   ]
  },
  {
   "cell_type": "code",
   "execution_count": 3,
   "metadata": {},
   "outputs": [
    {
     "data": {
      "text/html": [
       "<div>\n",
       "<style scoped>\n",
       "    .dataframe tbody tr th:only-of-type {\n",
       "        vertical-align: middle;\n",
       "    }\n",
       "\n",
       "    .dataframe tbody tr th {\n",
       "        vertical-align: top;\n",
       "    }\n",
       "\n",
       "    .dataframe thead th {\n",
       "        text-align: right;\n",
       "    }\n",
       "</style>\n",
       "<table border=\"1\" class=\"dataframe\">\n",
       "  <thead>\n",
       "    <tr style=\"text-align: right;\">\n",
       "      <th></th>\n",
       "      <th>sepal_length</th>\n",
       "      <th>sepal_width</th>\n",
       "      <th>petal_length</th>\n",
       "      <th>petal_width</th>\n",
       "    </tr>\n",
       "  </thead>\n",
       "  <tbody>\n",
       "    <tr>\n",
       "      <th>0</th>\n",
       "      <td>5.1</td>\n",
       "      <td>3.5</td>\n",
       "      <td>1.4</td>\n",
       "      <td>0.2</td>\n",
       "    </tr>\n",
       "    <tr>\n",
       "      <th>1</th>\n",
       "      <td>4.9</td>\n",
       "      <td>3.0</td>\n",
       "      <td>1.4</td>\n",
       "      <td>0.2</td>\n",
       "    </tr>\n",
       "    <tr>\n",
       "      <th>2</th>\n",
       "      <td>4.7</td>\n",
       "      <td>3.2</td>\n",
       "      <td>1.3</td>\n",
       "      <td>0.2</td>\n",
       "    </tr>\n",
       "    <tr>\n",
       "      <th>3</th>\n",
       "      <td>4.6</td>\n",
       "      <td>3.1</td>\n",
       "      <td>1.5</td>\n",
       "      <td>0.2</td>\n",
       "    </tr>\n",
       "    <tr>\n",
       "      <th>4</th>\n",
       "      <td>5.0</td>\n",
       "      <td>3.6</td>\n",
       "      <td>1.4</td>\n",
       "      <td>0.2</td>\n",
       "    </tr>\n",
       "  </tbody>\n",
       "</table>\n",
       "</div>"
      ],
      "text/plain": [
       "   sepal_length  sepal_width  petal_length  petal_width\n",
       "0           5.1          3.5           1.4          0.2\n",
       "1           4.9          3.0           1.4          0.2\n",
       "2           4.7          3.2           1.3          0.2\n",
       "3           4.6          3.1           1.5          0.2\n",
       "4           5.0          3.6           1.4          0.2"
      ]
     },
     "execution_count": 3,
     "metadata": {},
     "output_type": "execute_result"
    }
   ],
   "source": [
    "new_iris_df= iris_df.drop(['class'],axis=1)\n",
    "new_iris_df.head()"
   ]
  },
  {
   "cell_type": "code",
   "execution_count": 4,
   "metadata": {},
   "outputs": [
    {
     "data": {
      "text/plain": [
       "['sepal_length', 'sepal_width', 'petal_length', 'petal_width']"
      ]
     },
     "execution_count": 4,
     "metadata": {},
     "output_type": "execute_result"
    }
   ],
   "source": [
    "list(new_iris_df.columns.values)"
   ]
  },
  {
   "cell_type": "code",
   "execution_count": 5,
   "metadata": {},
   "outputs": [
    {
     "data": {
      "text/html": [
       "<div>\n",
       "<style scoped>\n",
       "    .dataframe tbody tr th:only-of-type {\n",
       "        vertical-align: middle;\n",
       "    }\n",
       "\n",
       "    .dataframe tbody tr th {\n",
       "        vertical-align: top;\n",
       "    }\n",
       "\n",
       "    .dataframe thead th {\n",
       "        text-align: right;\n",
       "    }\n",
       "</style>\n",
       "<table border=\"1\" class=\"dataframe\">\n",
       "  <thead>\n",
       "    <tr style=\"text-align: right;\">\n",
       "      <th></th>\n",
       "      <th>sepal_length</th>\n",
       "      <th>petal_length</th>\n",
       "      <th>sepal_width</th>\n",
       "      <th>petal_width</th>\n",
       "    </tr>\n",
       "  </thead>\n",
       "  <tbody>\n",
       "    <tr>\n",
       "      <th>0</th>\n",
       "      <td>5.1</td>\n",
       "      <td>1.4</td>\n",
       "      <td>3.5</td>\n",
       "      <td>0.2</td>\n",
       "    </tr>\n",
       "    <tr>\n",
       "      <th>1</th>\n",
       "      <td>4.9</td>\n",
       "      <td>1.4</td>\n",
       "      <td>3.0</td>\n",
       "      <td>0.2</td>\n",
       "    </tr>\n",
       "    <tr>\n",
       "      <th>2</th>\n",
       "      <td>4.7</td>\n",
       "      <td>1.3</td>\n",
       "      <td>3.2</td>\n",
       "      <td>0.2</td>\n",
       "    </tr>\n",
       "    <tr>\n",
       "      <th>3</th>\n",
       "      <td>4.6</td>\n",
       "      <td>1.5</td>\n",
       "      <td>3.1</td>\n",
       "      <td>0.2</td>\n",
       "    </tr>\n",
       "    <tr>\n",
       "      <th>4</th>\n",
       "      <td>5.0</td>\n",
       "      <td>1.4</td>\n",
       "      <td>3.6</td>\n",
       "      <td>0.2</td>\n",
       "    </tr>\n",
       "  </tbody>\n",
       "</table>\n",
       "</div>"
      ],
      "text/plain": [
       "   sepal_length  petal_length  sepal_width  petal_width\n",
       "0           5.1           1.4          3.5          0.2\n",
       "1           4.9           1.4          3.0          0.2\n",
       "2           4.7           1.3          3.2          0.2\n",
       "3           4.6           1.5          3.1          0.2\n",
       "4           5.0           1.4          3.6          0.2"
      ]
     },
     "execution_count": 5,
     "metadata": {},
     "output_type": "execute_result"
    }
   ],
   "source": [
    "new_iris_df= new_iris_df[['sepal_length','petal_length','sepal_width','petal_width']]\n",
    "new_iris_df.head()"
   ]
  },
  {
   "cell_type": "code",
   "execution_count": 6,
   "metadata": {},
   "outputs": [],
   "source": [
    "output_iris_df = r\"C:\\Users\\josep\\Documents\\GitHub\\Cryptocurrencies\\resources\\new_iris_data.csv\"\n",
    "new_iris_df.to_csv(output_iris_df,index=False)"
   ]
  },
  {
   "cell_type": "code",
   "execution_count": 7,
   "metadata": {},
   "outputs": [
    {
     "data": {
      "text/html": [
       "<div>\n",
       "<style scoped>\n",
       "    .dataframe tbody tr th:only-of-type {\n",
       "        vertical-align: middle;\n",
       "    }\n",
       "\n",
       "    .dataframe tbody tr th {\n",
       "        vertical-align: top;\n",
       "    }\n",
       "\n",
       "    .dataframe thead th {\n",
       "        text-align: right;\n",
       "    }\n",
       "</style>\n",
       "<table border=\"1\" class=\"dataframe\">\n",
       "  <thead>\n",
       "    <tr style=\"text-align: right;\">\n",
       "      <th></th>\n",
       "      <th>sepal_length</th>\n",
       "      <th>petal_length</th>\n",
       "      <th>sepal_width</th>\n",
       "      <th>petal_width</th>\n",
       "    </tr>\n",
       "  </thead>\n",
       "  <tbody>\n",
       "    <tr>\n",
       "      <th>0</th>\n",
       "      <td>5.1</td>\n",
       "      <td>1.4</td>\n",
       "      <td>3.5</td>\n",
       "      <td>0.2</td>\n",
       "    </tr>\n",
       "    <tr>\n",
       "      <th>1</th>\n",
       "      <td>4.9</td>\n",
       "      <td>1.4</td>\n",
       "      <td>3.0</td>\n",
       "      <td>0.2</td>\n",
       "    </tr>\n",
       "    <tr>\n",
       "      <th>2</th>\n",
       "      <td>4.7</td>\n",
       "      <td>1.3</td>\n",
       "      <td>3.2</td>\n",
       "      <td>0.2</td>\n",
       "    </tr>\n",
       "    <tr>\n",
       "      <th>3</th>\n",
       "      <td>4.6</td>\n",
       "      <td>1.5</td>\n",
       "      <td>3.1</td>\n",
       "      <td>0.2</td>\n",
       "    </tr>\n",
       "    <tr>\n",
       "      <th>4</th>\n",
       "      <td>5.0</td>\n",
       "      <td>1.4</td>\n",
       "      <td>3.6</td>\n",
       "      <td>0.2</td>\n",
       "    </tr>\n",
       "    <tr>\n",
       "      <th>5</th>\n",
       "      <td>5.4</td>\n",
       "      <td>1.7</td>\n",
       "      <td>3.9</td>\n",
       "      <td>0.4</td>\n",
       "    </tr>\n",
       "    <tr>\n",
       "      <th>6</th>\n",
       "      <td>4.6</td>\n",
       "      <td>1.4</td>\n",
       "      <td>3.4</td>\n",
       "      <td>0.3</td>\n",
       "    </tr>\n",
       "    <tr>\n",
       "      <th>7</th>\n",
       "      <td>5.0</td>\n",
       "      <td>1.5</td>\n",
       "      <td>3.4</td>\n",
       "      <td>0.2</td>\n",
       "    </tr>\n",
       "    <tr>\n",
       "      <th>8</th>\n",
       "      <td>4.4</td>\n",
       "      <td>1.4</td>\n",
       "      <td>2.9</td>\n",
       "      <td>0.2</td>\n",
       "    </tr>\n",
       "    <tr>\n",
       "      <th>9</th>\n",
       "      <td>4.9</td>\n",
       "      <td>1.5</td>\n",
       "      <td>3.1</td>\n",
       "      <td>0.1</td>\n",
       "    </tr>\n",
       "  </tbody>\n",
       "</table>\n",
       "</div>"
      ],
      "text/plain": [
       "   sepal_length  petal_length  sepal_width  petal_width\n",
       "0           5.1           1.4          3.5          0.2\n",
       "1           4.9           1.4          3.0          0.2\n",
       "2           4.7           1.3          3.2          0.2\n",
       "3           4.6           1.5          3.1          0.2\n",
       "4           5.0           1.4          3.6          0.2\n",
       "5           5.4           1.7          3.9          0.4\n",
       "6           4.6           1.4          3.4          0.3\n",
       "7           5.0           1.5          3.4          0.2\n",
       "8           4.4           1.4          2.9          0.2\n",
       "9           4.9           1.5          3.1          0.1"
      ]
     },
     "execution_count": 7,
     "metadata": {},
     "output_type": "execute_result"
    }
   ],
   "source": [
    "file_path = r\"C:\\Users\\josep\\Documents\\GitHub\\Cryptocurrencies\\resources\\new_iris_data.csv\"\n",
    "df_iris = pd.read_csv(file_path)\n",
    "df_iris.head(10)"
   ]
  },
  {
   "cell_type": "code",
   "execution_count": 8,
   "metadata": {},
   "outputs": [
    {
     "data": {
      "text/plain": [
       "KMeans(n_clusters=3, random_state=5)"
      ]
     },
     "execution_count": 8,
     "metadata": {},
     "output_type": "execute_result"
    }
   ],
   "source": [
    "#istantiate the model with K=3\n",
    "model = KMeans(n_clusters=3, random_state=5)\n",
    "model"
   ]
  },
  {
   "cell_type": "code",
   "execution_count": 9,
   "metadata": {},
   "outputs": [
    {
     "data": {
      "text/plain": [
       "KMeans(n_clusters=3, random_state=5)"
      ]
     },
     "execution_count": 9,
     "metadata": {},
     "output_type": "execute_result"
    }
   ],
   "source": [
    "# Fitting the model\n",
    "model.fit(df_iris)"
   ]
  },
  {
   "cell_type": "code",
   "execution_count": 10,
   "metadata": {},
   "outputs": [
    {
     "name": "stdout",
     "output_type": "stream",
     "text": [
      "[1 1 1 1 1 1 1 1 1 1 1 1 1 1 1 1 1 1 1 1 1 1 1 1 1 1 1 1 1 1 1 1 1 1 1 1 1\n",
      " 1 1 1 1 1 1 1 1 1 1 1 1 1 0 0 2 0 0 0 0 0 0 0 0 0 0 0 0 0 0 0 0 0 0 0 0 0\n",
      " 0 0 0 2 0 0 0 0 0 0 0 0 0 0 0 0 0 0 0 0 0 0 0 0 0 0 2 0 2 2 2 2 0 2 2 2 2\n",
      " 2 2 0 0 2 2 2 2 0 2 0 2 0 2 2 0 0 2 2 2 2 2 0 2 2 2 2 0 2 2 2 0 2 2 2 0 2\n",
      " 2 0]\n"
     ]
    }
   ],
   "source": [
    "# Get predictions\n",
    "predictions= model.predict(df_iris)\n",
    "print(predictions)"
   ]
  },
  {
   "cell_type": "code",
   "execution_count": 11,
   "metadata": {},
   "outputs": [
    {
     "data": {
      "text/html": [
       "<div>\n",
       "<style scoped>\n",
       "    .dataframe tbody tr th:only-of-type {\n",
       "        vertical-align: middle;\n",
       "    }\n",
       "\n",
       "    .dataframe tbody tr th {\n",
       "        vertical-align: top;\n",
       "    }\n",
       "\n",
       "    .dataframe thead th {\n",
       "        text-align: right;\n",
       "    }\n",
       "</style>\n",
       "<table border=\"1\" class=\"dataframe\">\n",
       "  <thead>\n",
       "    <tr style=\"text-align: right;\">\n",
       "      <th></th>\n",
       "      <th>sepal_length</th>\n",
       "      <th>petal_length</th>\n",
       "      <th>sepal_width</th>\n",
       "      <th>petal_width</th>\n",
       "      <th>class</th>\n",
       "    </tr>\n",
       "  </thead>\n",
       "  <tbody>\n",
       "    <tr>\n",
       "      <th>0</th>\n",
       "      <td>5.1</td>\n",
       "      <td>1.4</td>\n",
       "      <td>3.5</td>\n",
       "      <td>0.2</td>\n",
       "      <td>1</td>\n",
       "    </tr>\n",
       "    <tr>\n",
       "      <th>1</th>\n",
       "      <td>4.9</td>\n",
       "      <td>1.4</td>\n",
       "      <td>3.0</td>\n",
       "      <td>0.2</td>\n",
       "      <td>1</td>\n",
       "    </tr>\n",
       "    <tr>\n",
       "      <th>2</th>\n",
       "      <td>4.7</td>\n",
       "      <td>1.3</td>\n",
       "      <td>3.2</td>\n",
       "      <td>0.2</td>\n",
       "      <td>1</td>\n",
       "    </tr>\n",
       "    <tr>\n",
       "      <th>3</th>\n",
       "      <td>4.6</td>\n",
       "      <td>1.5</td>\n",
       "      <td>3.1</td>\n",
       "      <td>0.2</td>\n",
       "      <td>1</td>\n",
       "    </tr>\n",
       "    <tr>\n",
       "      <th>4</th>\n",
       "      <td>5.0</td>\n",
       "      <td>1.4</td>\n",
       "      <td>3.6</td>\n",
       "      <td>0.2</td>\n",
       "      <td>1</td>\n",
       "    </tr>\n",
       "  </tbody>\n",
       "</table>\n",
       "</div>"
      ],
      "text/plain": [
       "   sepal_length  petal_length  sepal_width  petal_width  class\n",
       "0           5.1           1.4          3.5          0.2      1\n",
       "1           4.9           1.4          3.0          0.2      1\n",
       "2           4.7           1.3          3.2          0.2      1\n",
       "3           4.6           1.5          3.1          0.2      1\n",
       "4           5.0           1.4          3.6          0.2      1"
      ]
     },
     "execution_count": 11,
     "metadata": {},
     "output_type": "execute_result"
    }
   ],
   "source": [
    "# Add a new class column to df_iris\n",
    "df_iris['class'] = model.labels_\n",
    "df_iris.head()"
   ]
  },
  {
   "cell_type": "code",
   "execution_count": 12,
   "metadata": {},
   "outputs": [
    {
     "data": {},
     "metadata": {},
     "output_type": "display_data"
    },
    {
     "data": {
      "application/vnd.holoviews_exec.v0+json": "",
      "text/html": [
       "<div id='1002'>\n",
       "\n",
       "\n",
       "\n",
       "\n",
       "\n",
       "  <div class=\"bk-root\" id=\"543e522b-b7d5-4a38-9aa7-2b3aaa02982e\" data-root-id=\"1002\"></div>\n",
       "</div>\n",
       "<script type=\"application/javascript\">(function(root) {\n",
       "  function embed_document(root) {\n",
       "    var docs_json = {\"0c8198b5-c38e-4cb7-891b-fda3e66c2821\":{\"defs\":[{\"extends\":null,\"module\":null,\"name\":\"ReactiveHTML1\",\"overrides\":[],\"properties\":[]},{\"extends\":null,\"module\":null,\"name\":\"FlexBox1\",\"overrides\":[],\"properties\":[{\"default\":\"flex-start\",\"kind\":null,\"name\":\"align_content\"},{\"default\":\"flex-start\",\"kind\":null,\"name\":\"align_items\"},{\"default\":\"row\",\"kind\":null,\"name\":\"flex_direction\"},{\"default\":\"wrap\",\"kind\":null,\"name\":\"flex_wrap\"},{\"default\":\"flex-start\",\"kind\":null,\"name\":\"justify_content\"}]},{\"extends\":null,\"module\":null,\"name\":\"GridStack1\",\"overrides\":[],\"properties\":[{\"default\":\"warn\",\"kind\":null,\"name\":\"mode\"},{\"default\":null,\"kind\":null,\"name\":\"ncols\"},{\"default\":null,\"kind\":null,\"name\":\"nrows\"},{\"default\":true,\"kind\":null,\"name\":\"allow_resize\"},{\"default\":true,\"kind\":null,\"name\":\"allow_drag\"},{\"default\":[],\"kind\":null,\"name\":\"state\"}]},{\"extends\":null,\"module\":null,\"name\":\"click1\",\"overrides\":[],\"properties\":[{\"default\":\"\",\"kind\":null,\"name\":\"terminal_output\"},{\"default\":\"\",\"kind\":null,\"name\":\"debug_name\"},{\"default\":0,\"kind\":null,\"name\":\"clears\"}]},{\"extends\":null,\"module\":null,\"name\":\"TemplateActions1\",\"overrides\":[],\"properties\":[{\"default\":0,\"kind\":null,\"name\":\"open_modal\"},{\"default\":0,\"kind\":null,\"name\":\"close_modal\"}]},{\"extends\":null,\"module\":null,\"name\":\"MaterialTemplateActions1\",\"overrides\":[],\"properties\":[{\"default\":0,\"kind\":null,\"name\":\"open_modal\"},{\"default\":0,\"kind\":null,\"name\":\"close_modal\"}]}],\"roots\":{\"references\":[{\"attributes\":{\"fill_alpha\":{\"value\":0.1},\"fill_color\":{\"value\":\"#fc4f30\"},\"hatch_alpha\":{\"value\":0.1},\"hatch_color\":{\"value\":\"#fc4f30\"},\"line_alpha\":{\"value\":0.1},\"line_color\":{\"value\":\"#fc4f30\"},\"size\":{\"value\":5.477225575051661},\"x\":{\"field\":\"sepal_length\"},\"y\":{\"field\":\"sepal_width\"}},\"id\":\"1070\",\"type\":\"Scatter\"},{\"attributes\":{},\"id\":\"1107\",\"type\":\"UnionRenderers\"},{\"attributes\":{},\"id\":\"1089\",\"type\":\"Selection\"},{\"attributes\":{\"click_policy\":\"mute\",\"coordinates\":null,\"group\":null,\"items\":[{\"id\":\"1064\"},{\"id\":\"1086\"},{\"id\":\"1110\"}],\"location\":[0,0],\"title\":\"class\"},\"id\":\"1063\",\"type\":\"Legend\"},{\"attributes\":{\"angle\":{\"value\":0.0},\"fill_alpha\":{\"value\":1.0},\"fill_color\":{\"value\":\"#e5ae38\"},\"hatch_alpha\":{\"value\":1.0},\"hatch_color\":{\"value\":\"#e5ae38\"},\"hatch_scale\":{\"value\":12.0},\"hatch_weight\":{\"value\":1.0},\"line_alpha\":{\"value\":1.0},\"line_cap\":{\"value\":\"butt\"},\"line_color\":{\"value\":\"#e5ae38\"},\"line_dash\":{\"value\":[]},\"line_dash_offset\":{\"value\":0},\"line_join\":{\"value\":\"bevel\"},\"line_width\":{\"value\":1},\"marker\":{\"value\":\"circle\"},\"size\":{\"value\":5.477225575051661},\"x\":{\"field\":\"sepal_length\"},\"y\":{\"field\":\"sepal_width\"}},\"id\":\"1111\",\"type\":\"Scatter\"},{\"attributes\":{},\"id\":\"1023\",\"type\":\"BasicTicker\"},{\"attributes\":{\"coordinates\":null,\"group\":null,\"text_color\":\"black\",\"text_font_size\":\"12pt\"},\"id\":\"1010\",\"type\":\"Title\"},{\"attributes\":{\"coordinates\":null,\"data_source\":{\"id\":\"1066\"},\"glyph\":{\"id\":\"1069\"},\"group\":null,\"hover_glyph\":null,\"muted_glyph\":{\"id\":\"1071\"},\"nonselection_glyph\":{\"id\":\"1070\"},\"selection_glyph\":{\"id\":\"1087\"},\"view\":{\"id\":\"1073\"}},\"id\":\"1072\",\"type\":\"GlyphRenderer\"},{\"attributes\":{\"axis\":{\"id\":\"1018\"},\"coordinates\":null,\"grid_line_color\":null,\"group\":null,\"ticker\":null},\"id\":\"1021\",\"type\":\"Grid\"},{\"attributes\":{},\"id\":\"1044\",\"type\":\"AllLabels\"},{\"attributes\":{},\"id\":\"1046\",\"type\":\"Selection\"},{\"attributes\":{\"margin\":[5,5,5,5],\"name\":\"HSpacer01686\",\"sizing_mode\":\"stretch_width\"},\"id\":\"1238\",\"type\":\"Spacer\"},{\"attributes\":{\"fill_alpha\":{\"value\":0.2},\"fill_color\":{\"value\":\"#e5ae38\"},\"hatch_alpha\":{\"value\":0.2},\"hatch_color\":{\"value\":\"#e5ae38\"},\"line_alpha\":{\"value\":0.2},\"line_color\":{\"value\":\"#e5ae38\"},\"size\":{\"value\":5.477225575051661},\"x\":{\"field\":\"sepal_length\"},\"y\":{\"field\":\"sepal_width\"}},\"id\":\"1093\",\"type\":\"Scatter\"},{\"attributes\":{},\"id\":\"1019\",\"type\":\"BasicTicker\"},{\"attributes\":{\"angle\":{\"value\":0.0},\"fill_alpha\":{\"value\":1.0},\"fill_color\":{\"value\":\"#30a2da\"},\"hatch_alpha\":{\"value\":1.0},\"hatch_color\":{\"value\":\"#30a2da\"},\"hatch_scale\":{\"value\":12.0},\"hatch_weight\":{\"value\":1.0},\"line_alpha\":{\"value\":1.0},\"line_cap\":{\"value\":\"butt\"},\"line_color\":{\"value\":\"#30a2da\"},\"line_dash\":{\"value\":[]},\"line_dash_offset\":{\"value\":0},\"line_join\":{\"value\":\"bevel\"},\"line_width\":{\"value\":1},\"marker\":{\"value\":\"circle\"},\"size\":{\"value\":5.477225575051661},\"x\":{\"field\":\"sepal_length\"},\"y\":{\"field\":\"sepal_width\"}},\"id\":\"1065\",\"type\":\"Scatter\"},{\"attributes\":{\"fill_color\":{\"value\":\"#fc4f30\"},\"hatch_color\":{\"value\":\"#fc4f30\"},\"line_color\":{\"value\":\"#fc4f30\"},\"size\":{\"value\":5.477225575051661},\"x\":{\"field\":\"sepal_length\"},\"y\":{\"field\":\"sepal_width\"}},\"id\":\"1069\",\"type\":\"Scatter\"},{\"attributes\":{},\"id\":\"1040\",\"type\":\"BasicTickFormatter\"},{\"attributes\":{\"label\":{\"value\":\"2\"},\"renderers\":[{\"id\":\"1094\"}]},\"id\":\"1110\",\"type\":\"LegendItem\"},{\"attributes\":{\"end\":8.054285714285715,\"reset_end\":8.054285714285715,\"reset_start\":4.145714285714286,\"start\":4.145714285714286,\"tags\":[[[\"sepal_length\",\"sepal_length\",null]]]},\"id\":\"1004\",\"type\":\"Range1d\"},{\"attributes\":{},\"id\":\"1016\",\"type\":\"LinearScale\"},{\"attributes\":{\"fill_alpha\":{\"value\":0.2},\"fill_color\":{\"value\":\"#fc4f30\"},\"hatch_alpha\":{\"value\":0.2},\"hatch_color\":{\"value\":\"#fc4f30\"},\"line_alpha\":{\"value\":0.2},\"line_color\":{\"value\":\"#fc4f30\"},\"size\":{\"value\":5.477225575051661},\"x\":{\"field\":\"sepal_length\"},\"y\":{\"field\":\"sepal_width\"}},\"id\":\"1071\",\"type\":\"Scatter\"},{\"attributes\":{\"source\":{\"id\":\"1088\"}},\"id\":\"1095\",\"type\":\"CDSView\"},{\"attributes\":{\"coordinates\":null,\"data_source\":{\"id\":\"1088\"},\"glyph\":{\"id\":\"1091\"},\"group\":null,\"hover_glyph\":null,\"muted_glyph\":{\"id\":\"1093\"},\"nonselection_glyph\":{\"id\":\"1092\"},\"selection_glyph\":{\"id\":\"1111\"},\"view\":{\"id\":\"1095\"}},\"id\":\"1094\",\"type\":\"GlyphRenderer\"},{\"attributes\":{\"axis_label\":\"sepal_width\",\"coordinates\":null,\"formatter\":{\"id\":\"1043\"},\"group\":null,\"major_label_policy\":{\"id\":\"1044\"},\"ticker\":{\"id\":\"1023\"}},\"id\":\"1022\",\"type\":\"LinearAxis\"},{\"attributes\":{\"axis_label\":\"sepal_length\",\"coordinates\":null,\"formatter\":{\"id\":\"1040\"},\"group\":null,\"major_label_policy\":{\"id\":\"1041\"},\"ticker\":{\"id\":\"1019\"}},\"id\":\"1018\",\"type\":\"LinearAxis\"},{\"attributes\":{\"fill_alpha\":{\"value\":0.1},\"fill_color\":{\"value\":\"#e5ae38\"},\"hatch_alpha\":{\"value\":0.1},\"hatch_color\":{\"value\":\"#e5ae38\"},\"line_alpha\":{\"value\":0.1},\"line_color\":{\"value\":\"#e5ae38\"},\"size\":{\"value\":5.477225575051661},\"x\":{\"field\":\"sepal_length\"},\"y\":{\"field\":\"sepal_width\"}},\"id\":\"1092\",\"type\":\"Scatter\"},{\"attributes\":{\"end\":4.640000000000001,\"reset_end\":4.640000000000001,\"reset_start\":1.76,\"start\":1.76,\"tags\":[[[\"sepal_width\",\"sepal_width\",null]]]},\"id\":\"1005\",\"type\":\"Range1d\"},{\"attributes\":{\"data\":{\"class\":[1,1,1,1,1,1,1,1,1,1,1,1,1,1,1,1,1,1,1,1,1,1,1,1,1,1,1,1,1,1,1,1,1,1,1,1,1,1,1,1,1,1,1,1,1,1,1,1,1,1],\"sepal_length\":{\"__ndarray__\":\"ZmZmZmZmFECamZmZmZkTQM3MzMzMzBJAZmZmZmZmEkAAAAAAAAAUQJqZmZmZmRVAZmZmZmZmEkAAAAAAAAAUQJqZmZmZmRFAmpmZmZmZE0CamZmZmZkVQDMzMzMzMxNAMzMzMzMzE0AzMzMzMzMRQDMzMzMzMxdAzczMzMzMFkCamZmZmZkVQGZmZmZmZhRAzczMzMzMFkBmZmZmZmYUQJqZmZmZmRVAZmZmZmZmFEBmZmZmZmYSQGZmZmZmZhRAMzMzMzMzE0AAAAAAAAAUQAAAAAAAABRAzczMzMzMFEDNzMzMzMwUQM3MzMzMzBJAMzMzMzMzE0CamZmZmZkVQM3MzMzMzBRAAAAAAAAAFkCamZmZmZkTQAAAAAAAABRAAAAAAAAAFkCamZmZmZkTQJqZmZmZmRFAZmZmZmZmFEAAAAAAAAAUQAAAAAAAABJAmpmZmZmZEUAAAAAAAAAUQGZmZmZmZhRAMzMzMzMzE0BmZmZmZmYUQGZmZmZmZhJAMzMzMzMzFUAAAAAAAAAUQA==\",\"dtype\":\"float64\",\"order\":\"little\",\"shape\":[50]},\"sepal_width\":{\"__ndarray__\":\"AAAAAAAADEAAAAAAAAAIQJqZmZmZmQlAzczMzMzMCEDNzMzMzMwMQDMzMzMzMw9AMzMzMzMzC0AzMzMzMzMLQDMzMzMzMwdAzczMzMzMCECamZmZmZkNQDMzMzMzMwtAAAAAAAAACEAAAAAAAAAIQAAAAAAAABBAmpmZmZmZEUAzMzMzMzMPQAAAAAAAAAxAZmZmZmZmDkBmZmZmZmYOQDMzMzMzMwtAmpmZmZmZDUDNzMzMzMwMQGZmZmZmZgpAMzMzMzMzC0AAAAAAAAAIQDMzMzMzMwtAAAAAAAAADEAzMzMzMzMLQJqZmZmZmQlAzczMzMzMCEAzMzMzMzMLQGZmZmZmZhBAzczMzMzMEEDNzMzMzMwIQJqZmZmZmQlAAAAAAAAADEDNzMzMzMwIQAAAAAAAAAhAMzMzMzMzC0AAAAAAAAAMQGZmZmZmZgJAmpmZmZmZCUAAAAAAAAAMQGZmZmZmZg5AAAAAAAAACEBmZmZmZmYOQJqZmZmZmQlAmpmZmZmZDUBmZmZmZmYKQA==\",\"dtype\":\"float64\",\"order\":\"little\",\"shape\":[50]}},\"selected\":{\"id\":\"1067\"},\"selection_policy\":{\"id\":\"1083\"}},\"id\":\"1066\",\"type\":\"ColumnDataSource\"},{\"attributes\":{\"label\":{\"value\":\"0\"},\"renderers\":[{\"id\":\"1051\"}]},\"id\":\"1064\",\"type\":\"LegendItem\"},{\"attributes\":{\"coordinates\":null,\"data_source\":{\"id\":\"1045\"},\"glyph\":{\"id\":\"1048\"},\"group\":null,\"hover_glyph\":null,\"muted_glyph\":{\"id\":\"1050\"},\"nonselection_glyph\":{\"id\":\"1049\"},\"selection_glyph\":{\"id\":\"1065\"},\"view\":{\"id\":\"1052\"}},\"id\":\"1051\",\"type\":\"GlyphRenderer\"},{\"attributes\":{\"angle\":{\"value\":0.0},\"fill_alpha\":{\"value\":1.0},\"fill_color\":{\"value\":\"#fc4f30\"},\"hatch_alpha\":{\"value\":1.0},\"hatch_color\":{\"value\":\"#fc4f30\"},\"hatch_scale\":{\"value\":12.0},\"hatch_weight\":{\"value\":1.0},\"line_alpha\":{\"value\":1.0},\"line_cap\":{\"value\":\"butt\"},\"line_color\":{\"value\":\"#fc4f30\"},\"line_dash\":{\"value\":[]},\"line_dash_offset\":{\"value\":0},\"line_join\":{\"value\":\"bevel\"},\"line_width\":{\"value\":1},\"marker\":{\"value\":\"circle\"},\"size\":{\"value\":5.477225575051661},\"x\":{\"field\":\"sepal_length\"},\"y\":{\"field\":\"sepal_width\"}},\"id\":\"1087\",\"type\":\"Scatter\"},{\"attributes\":{},\"id\":\"1083\",\"type\":\"UnionRenderers\"},{\"attributes\":{},\"id\":\"1067\",\"type\":\"Selection\"},{\"attributes\":{\"axis\":{\"id\":\"1022\"},\"coordinates\":null,\"dimension\":1,\"grid_line_color\":null,\"group\":null,\"ticker\":null},\"id\":\"1025\",\"type\":\"Grid\"},{\"attributes\":{\"label\":{\"value\":\"1\"},\"renderers\":[{\"id\":\"1072\"}]},\"id\":\"1086\",\"type\":\"LegendItem\"},{\"attributes\":{},\"id\":\"1060\",\"type\":\"UnionRenderers\"},{\"attributes\":{\"bottom_units\":\"screen\",\"coordinates\":null,\"fill_alpha\":0.5,\"fill_color\":\"lightgrey\",\"group\":null,\"left_units\":\"screen\",\"level\":\"overlay\",\"line_alpha\":1.0,\"line_color\":\"black\",\"line_dash\":[4,4],\"line_width\":2,\"right_units\":\"screen\",\"syncable\":false,\"top_units\":\"screen\"},\"id\":\"1031\",\"type\":\"BoxAnnotation\"},{\"attributes\":{},\"id\":\"1014\",\"type\":\"LinearScale\"},{\"attributes\":{\"data\":{\"class\":[2,2,2,2,2,2,2,2,2,2,2,2,2,2,2,2,2,2,2,2,2,2,2,2,2,2,2,2,2,2,2,2,2,2,2,2,2,2],\"sepal_length\":{\"__ndarray__\":\"mpmZmZmZG0DNzMzMzMwaQDMzMzMzMxlAZmZmZmZmHEAzMzMzMzMZQAAAAAAAABpAZmZmZmZmHkAzMzMzMzMdQM3MzMzMzBpAzczMzMzMHEAAAAAAAAAaQJqZmZmZmRlAMzMzMzMzG0CamZmZmZkZQAAAAAAAABpAzczMzMzMHkDNzMzMzMweQJqZmZmZmRtAzczMzMzMHkDNzMzMzMwaQM3MzMzMzBxAmpmZmZmZGUDNzMzMzMwcQJqZmZmZmR1AmpmZmZmZH0CamZmZmZkZQGZmZmZmZhhAzczMzMzMHkAzMzMzMzMZQJqZmZmZmRlAmpmZmZmZG0DNzMzMzMwaQJqZmZmZmRtAMzMzMzMzG0DNzMzMzMwaQM3MzMzMzBpAAAAAAAAAGkDNzMzMzMwYQA==\",\"dtype\":\"float64\",\"order\":\"little\",\"shape\":[38]},\"sepal_width\":{\"__ndarray__\":\"zczMzMzMCEAAAAAAAAAIQGZmZmZmZgpAAAAAAAAACEAzMzMzMzMHQAAAAAAAAAhAAAAAAAAACEAzMzMzMzMHQAAAAAAAAARAzczMzMzMDECamZmZmZkJQJqZmZmZmQVAAAAAAAAACECamZmZmZkJQAAAAAAAAAhAZmZmZmZmDkDNzMzMzMwEQJqZmZmZmQlAZmZmZmZmBkBmZmZmZmYKQJqZmZmZmQlAZmZmZmZmBkAAAAAAAAAIQGZmZmZmZgZAZmZmZmZmDkBmZmZmZmYGQM3MzMzMzARAAAAAAAAACEAzMzMzMzMLQM3MzMzMzAhAzczMzMzMCEDNzMzMzMwIQM3MzMzMzAhAmpmZmZmZCUBmZmZmZmYKQAAAAAAAAAhAAAAAAAAACEAzMzMzMzMLQA==\",\"dtype\":\"float64\",\"order\":\"little\",\"shape\":[38]}},\"selected\":{\"id\":\"1089\"},\"selection_policy\":{\"id\":\"1107\"}},\"id\":\"1088\",\"type\":\"ColumnDataSource\"},{\"attributes\":{\"fill_alpha\":{\"value\":0.1},\"fill_color\":{\"value\":\"#30a2da\"},\"hatch_alpha\":{\"value\":0.1},\"hatch_color\":{\"value\":\"#30a2da\"},\"line_alpha\":{\"value\":0.1},\"line_color\":{\"value\":\"#30a2da\"},\"size\":{\"value\":5.477225575051661},\"x\":{\"field\":\"sepal_length\"},\"y\":{\"field\":\"sepal_width\"}},\"id\":\"1049\",\"type\":\"Scatter\"},{\"attributes\":{\"tools\":[{\"id\":\"1006\"},{\"id\":\"1026\"},{\"id\":\"1027\"},{\"id\":\"1028\"},{\"id\":\"1029\"},{\"id\":\"1030\"}]},\"id\":\"1032\",\"type\":\"Toolbar\"},{\"attributes\":{\"callback\":null,\"renderers\":[{\"id\":\"1051\"},{\"id\":\"1072\"},{\"id\":\"1094\"}],\"tags\":[\"hv_created\"],\"tooltips\":[[\"class\",\"@{class}\"],[\"sepal_length\",\"@{sepal_length}\"],[\"sepal_width\",\"@{sepal_width}\"]]},\"id\":\"1006\",\"type\":\"HoverTool\"},{\"attributes\":{},\"id\":\"1041\",\"type\":\"AllLabels\"},{\"attributes\":{},\"id\":\"1026\",\"type\":\"SaveTool\"},{\"attributes\":{\"margin\":[5,5,5,5],\"name\":\"HSpacer01685\",\"sizing_mode\":\"stretch_width\"},\"id\":\"1003\",\"type\":\"Spacer\"},{\"attributes\":{},\"id\":\"1027\",\"type\":\"PanTool\"},{\"attributes\":{},\"id\":\"1030\",\"type\":\"ResetTool\"},{\"attributes\":{\"below\":[{\"id\":\"1018\"}],\"center\":[{\"id\":\"1021\"},{\"id\":\"1025\"}],\"height\":300,\"left\":[{\"id\":\"1022\"}],\"margin\":[5,5,5,5],\"min_border_bottom\":10,\"min_border_left\":10,\"min_border_right\":10,\"min_border_top\":10,\"renderers\":[{\"id\":\"1051\"},{\"id\":\"1072\"},{\"id\":\"1094\"}],\"right\":[{\"id\":\"1063\"}],\"sizing_mode\":\"fixed\",\"title\":{\"id\":\"1010\"},\"toolbar\":{\"id\":\"1032\"},\"width\":700,\"x_range\":{\"id\":\"1004\"},\"x_scale\":{\"id\":\"1014\"},\"y_range\":{\"id\":\"1005\"},\"y_scale\":{\"id\":\"1016\"}},\"id\":\"1009\",\"subtype\":\"Figure\",\"type\":\"Plot\"},{\"attributes\":{\"source\":{\"id\":\"1066\"}},\"id\":\"1073\",\"type\":\"CDSView\"},{\"attributes\":{},\"id\":\"1028\",\"type\":\"WheelZoomTool\"},{\"attributes\":{\"children\":[{\"id\":\"1003\"},{\"id\":\"1009\"},{\"id\":\"1238\"}],\"margin\":[0,0,0,0],\"name\":\"Row01681\",\"tags\":[\"embedded\"]},\"id\":\"1002\",\"type\":\"Row\"},{\"attributes\":{\"data\":{\"class\":[0,0,0,0,0,0,0,0,0,0,0,0,0,0,0,0,0,0,0,0,0,0,0,0,0,0,0,0,0,0,0,0,0,0,0,0,0,0,0,0,0,0,0,0,0,0,0,0,0,0,0,0,0,0,0,0,0,0,0,0,0,0],\"sepal_length\":{\"__ndarray__\":\"AAAAAAAAHECamZmZmZkZQAAAAAAAABZAAAAAAAAAGkDNzMzMzMwWQDMzMzMzMxlAmpmZmZmZE0BmZmZmZmYaQM3MzMzMzBRAAAAAAAAAFECamZmZmZkXQAAAAAAAABhAZmZmZmZmGEBmZmZmZmYWQM3MzMzMzBpAZmZmZmZmFkAzMzMzMzMXQM3MzMzMzBhAZmZmZmZmFkCamZmZmZkXQGZmZmZmZhhAMzMzMzMzGUBmZmZmZmYYQJqZmZmZmRlAZmZmZmZmGkAzMzMzMzMbQAAAAAAAABhAzczMzMzMFkAAAAAAAAAWQAAAAAAAABZAMzMzMzMzF0AAAAAAAAAYQJqZmZmZmRVAAAAAAAAAGEDNzMzMzMwaQDMzMzMzMxlAZmZmZmZmFkAAAAAAAAAWQAAAAAAAABZAZmZmZmZmGEAzMzMzMzMXQAAAAAAAABRAZmZmZmZmFkDNzMzMzMwWQM3MzMzMzBZAzczMzMzMGEBmZmZmZmYUQM3MzMzMzBZAMzMzMzMzF0CamZmZmZkTQM3MzMzMzBZAMzMzMzMzF0AAAAAAAAAYQGZmZmZmZhZAMzMzMzMzGUDNzMzMzMwYQGZmZmZmZhhAMzMzMzMzGUAAAAAAAAAYQDMzMzMzMxdAMzMzMzMzGUCamZmZmZkXQA==\",\"dtype\":\"float64\",\"order\":\"little\",\"shape\":[62]},\"sepal_width\":{\"__ndarray__\":\"mpmZmZmZCUCamZmZmZkJQGZmZmZmZgJAZmZmZmZmBkBmZmZmZmYGQGZmZmZmZgpAMzMzMzMzA0AzMzMzMzMHQJqZmZmZmQVAAAAAAAAAAEAAAAAAAAAIQJqZmZmZmQFAMzMzMzMzB0AzMzMzMzMHQM3MzMzMzAhAAAAAAAAACECamZmZmZkFQJqZmZmZmQFAAAAAAAAABECamZmZmZkJQGZmZmZmZgZAAAAAAAAABEBmZmZmZmYGQDMzMzMzMwdAAAAAAAAACEBmZmZmZmYGQDMzMzMzMwdAzczMzMzMBEAzMzMzMzMDQDMzMzMzMwNAmpmZmZmZBUCamZmZmZkFQAAAAAAAAAhAMzMzMzMzC0DNzMzMzMwIQGZmZmZmZgJAAAAAAAAACEAAAAAAAAAEQM3MzMzMzARAAAAAAAAACEDNzMzMzMwEQGZmZmZmZgJAmpmZmZmZBUAAAAAAAAAIQDMzMzMzMwdAMzMzMzMzB0AAAAAAAAAEQGZmZmZmZgZAmpmZmZmZBUAAAAAAAAAEQAAAAAAAAARAZmZmZmZmBkCamZmZmZkBQGZmZmZmZgZAmpmZmZmZBUBmZmZmZmYGQAAAAAAAAAhAZmZmZmZmBkAAAAAAAAAIQJqZmZmZmQVAAAAAAAAABEAAAAAAAAAIQA==\",\"dtype\":\"float64\",\"order\":\"little\",\"shape\":[62]}},\"selected\":{\"id\":\"1046\"},\"selection_policy\":{\"id\":\"1060\"}},\"id\":\"1045\",\"type\":\"ColumnDataSource\"},{\"attributes\":{\"fill_alpha\":{\"value\":0.2},\"fill_color\":{\"value\":\"#30a2da\"},\"hatch_alpha\":{\"value\":0.2},\"hatch_color\":{\"value\":\"#30a2da\"},\"line_alpha\":{\"value\":0.2},\"line_color\":{\"value\":\"#30a2da\"},\"size\":{\"value\":5.477225575051661},\"x\":{\"field\":\"sepal_length\"},\"y\":{\"field\":\"sepal_width\"}},\"id\":\"1050\",\"type\":\"Scatter\"},{\"attributes\":{\"fill_color\":{\"value\":\"#e5ae38\"},\"hatch_color\":{\"value\":\"#e5ae38\"},\"line_color\":{\"value\":\"#e5ae38\"},\"size\":{\"value\":5.477225575051661},\"x\":{\"field\":\"sepal_length\"},\"y\":{\"field\":\"sepal_width\"}},\"id\":\"1091\",\"type\":\"Scatter\"},{\"attributes\":{\"overlay\":{\"id\":\"1031\"}},\"id\":\"1029\",\"type\":\"BoxZoomTool\"},{\"attributes\":{},\"id\":\"1043\",\"type\":\"BasicTickFormatter\"},{\"attributes\":{\"fill_color\":{\"value\":\"#30a2da\"},\"hatch_color\":{\"value\":\"#30a2da\"},\"line_color\":{\"value\":\"#30a2da\"},\"size\":{\"value\":5.477225575051661},\"x\":{\"field\":\"sepal_length\"},\"y\":{\"field\":\"sepal_width\"}},\"id\":\"1048\",\"type\":\"Scatter\"},{\"attributes\":{\"source\":{\"id\":\"1045\"}},\"id\":\"1052\",\"type\":\"CDSView\"}],\"root_ids\":[\"1002\"]},\"title\":\"Bokeh Application\",\"version\":\"2.4.2\"}};\n",
       "    var render_items = [{\"docid\":\"0c8198b5-c38e-4cb7-891b-fda3e66c2821\",\"root_ids\":[\"1002\"],\"roots\":{\"1002\":\"543e522b-b7d5-4a38-9aa7-2b3aaa02982e\"}}];\n",
       "    root.Bokeh.embed.embed_items_notebook(docs_json, render_items);\n",
       "  }\n",
       "  if (root.Bokeh !== undefined && root.Bokeh.Panel !== undefined) {\n",
       "    embed_document(root);\n",
       "  } else {\n",
       "    var attempts = 0;\n",
       "    var timer = setInterval(function(root) {\n",
       "      if (root.Bokeh !== undefined && root.Bokeh.Panel !== undefined) {\n",
       "        clearInterval(timer);\n",
       "        embed_document(root);\n",
       "      } else if (document.readyState == \"complete\") {\n",
       "        attempts++;\n",
       "        if (attempts > 200) {\n",
       "          clearInterval(timer);\n",
       "          console.log(\"Bokeh: ERROR: Unable to run BokehJS code because BokehJS library is missing\");\n",
       "        }\n",
       "      }\n",
       "    }, 25, root)\n",
       "  }\n",
       "})(window);</script>"
      ],
      "text/plain": [
       ":NdOverlay   [class]\n",
       "   :Scatter   [sepal_length]   (sepal_width)"
      ]
     },
     "execution_count": 12,
     "metadata": {
      "application/vnd.holoviews_exec.v0+json": {
       "id": "1002"
      }
     },
     "output_type": "execute_result"
    }
   ],
   "source": [
    "df_iris.hvplot.scatter(x='sepal_length',y='sepal_width',by='class')"
   ]
  },
  {
   "cell_type": "code",
   "execution_count": 13,
   "metadata": {},
   "outputs": [
    {
     "data": {
      "application/vnd.plotly.v1+json": {
       "config": {
        "plotlyServerURL": "https://plot.ly"
       },
       "data": [
        {
         "hovertemplate": "class=%{marker.color}<br>petal_width=%{x}<br>sepal_length=%{y}<br>petal_length=%{z}<br>sepal_width=%{marker.size}<extra></extra>",
         "legendgroup": "1",
         "marker": {
          "color": [
           1,
           1,
           1,
           1,
           1,
           1,
           1,
           1,
           1,
           1,
           1,
           1,
           1,
           1,
           1,
           1,
           1,
           1,
           1,
           1,
           1,
           1,
           1,
           1,
           1,
           1,
           1,
           1,
           1,
           1,
           1,
           1,
           1,
           1,
           1,
           1,
           1,
           1,
           1,
           1,
           1,
           1,
           1,
           1,
           1,
           1,
           1,
           1,
           1,
           1
          ],
          "coloraxis": "coloraxis",
          "size": [
           3.5,
           3,
           3.2,
           3.1,
           3.6,
           3.9,
           3.4,
           3.4,
           2.9,
           3.1,
           3.7,
           3.4,
           3,
           3,
           4,
           4.4,
           3.9,
           3.5,
           3.8,
           3.8,
           3.4,
           3.7,
           3.6,
           3.3,
           3.4,
           3,
           3.4,
           3.5,
           3.4,
           3.2,
           3.1,
           3.4,
           4.1,
           4.2,
           3.1,
           3.2,
           3.5,
           3.1,
           3,
           3.4,
           3.5,
           2.3,
           3.2,
           3.5,
           3.8,
           3,
           3.8,
           3.2,
           3.7,
           3.3
          ],
          "sizemode": "area",
          "sizeref": 0.011000000000000001,
          "symbol": "circle"
         },
         "mode": "markers",
         "name": "1",
         "scene": "scene",
         "showlegend": true,
         "type": "scatter3d",
         "x": [
          0.2,
          0.2,
          0.2,
          0.2,
          0.2,
          0.4,
          0.3,
          0.2,
          0.2,
          0.1,
          0.2,
          0.2,
          0.1,
          0.1,
          0.2,
          0.4,
          0.4,
          0.3,
          0.3,
          0.3,
          0.2,
          0.4,
          0.2,
          0.5,
          0.2,
          0.2,
          0.4,
          0.2,
          0.2,
          0.2,
          0.2,
          0.4,
          0.1,
          0.2,
          0.1,
          0.2,
          0.2,
          0.1,
          0.2,
          0.2,
          0.3,
          0.3,
          0.2,
          0.6,
          0.4,
          0.3,
          0.2,
          0.2,
          0.2,
          0.2
         ],
         "y": [
          5.1,
          4.9,
          4.7,
          4.6,
          5,
          5.4,
          4.6,
          5,
          4.4,
          4.9,
          5.4,
          4.8,
          4.8,
          4.3,
          5.8,
          5.7,
          5.4,
          5.1,
          5.7,
          5.1,
          5.4,
          5.1,
          4.6,
          5.1,
          4.8,
          5,
          5,
          5.2,
          5.2,
          4.7,
          4.8,
          5.4,
          5.2,
          5.5,
          4.9,
          5,
          5.5,
          4.9,
          4.4,
          5.1,
          5,
          4.5,
          4.4,
          5,
          5.1,
          4.8,
          5.1,
          4.6,
          5.3,
          5
         ],
         "z": [
          1.4,
          1.4,
          1.3,
          1.5,
          1.4,
          1.7,
          1.4,
          1.5,
          1.4,
          1.5,
          1.5,
          1.6,
          1.4,
          1.1,
          1.2,
          1.5,
          1.3,
          1.4,
          1.7,
          1.5,
          1.7,
          1.5,
          1,
          1.7,
          1.9,
          1.6,
          1.6,
          1.5,
          1.4,
          1.6,
          1.6,
          1.5,
          1.5,
          1.4,
          1.5,
          1.2,
          1.3,
          1.5,
          1.3,
          1.5,
          1.3,
          1.3,
          1.3,
          1.6,
          1.9,
          1.4,
          1.6,
          1.4,
          1.5,
          1.4
         ]
        },
        {
         "hovertemplate": "class=%{marker.color}<br>petal_width=%{x}<br>sepal_length=%{y}<br>petal_length=%{z}<br>sepal_width=%{marker.size}<extra></extra>",
         "legendgroup": "0",
         "marker": {
          "color": [
           0,
           0,
           0,
           0,
           0,
           0,
           0,
           0,
           0,
           0,
           0,
           0,
           0,
           0,
           0,
           0,
           0,
           0,
           0,
           0,
           0,
           0,
           0,
           0,
           0,
           0,
           0,
           0,
           0,
           0,
           0,
           0,
           0,
           0,
           0,
           0,
           0,
           0,
           0,
           0,
           0,
           0,
           0,
           0,
           0,
           0,
           0,
           0,
           0,
           0,
           0,
           0,
           0,
           0,
           0,
           0,
           0,
           0,
           0,
           0,
           0,
           0
          ],
          "coloraxis": "coloraxis",
          "size": [
           3.2,
           3.2,
           2.3,
           2.8,
           2.8,
           3.3,
           2.4,
           2.9,
           2.7,
           2,
           3,
           2.2,
           2.9,
           2.9,
           3.1,
           3,
           2.7,
           2.2,
           2.5,
           3.2,
           2.8,
           2.5,
           2.8,
           2.9,
           3,
           2.8,
           2.9,
           2.6,
           2.4,
           2.4,
           2.7,
           2.7,
           3,
           3.4,
           3.1,
           2.3,
           3,
           2.5,
           2.6,
           3,
           2.6,
           2.3,
           2.7,
           3,
           2.9,
           2.9,
           2.5,
           2.8,
           2.7,
           2.5,
           2.5,
           2.8,
           2.2,
           2.8,
           2.7,
           2.8,
           3,
           2.8,
           3,
           2.7,
           2.5,
           3
          ],
          "sizemode": "area",
          "sizeref": 0.011000000000000001,
          "symbol": "diamond"
         },
         "mode": "markers",
         "name": "0",
         "scene": "scene",
         "showlegend": true,
         "type": "scatter3d",
         "x": [
          1.4,
          1.5,
          1.3,
          1.5,
          1.3,
          1.6,
          1,
          1.3,
          1.4,
          1,
          1.5,
          1,
          1.4,
          1.3,
          1.4,
          1.5,
          1,
          1.5,
          1.1,
          1.8,
          1.3,
          1.5,
          1.2,
          1.3,
          1.4,
          1.4,
          1.5,
          1,
          1.1,
          1,
          1.2,
          1.6,
          1.5,
          1.6,
          1.5,
          1.3,
          1.3,
          1.3,
          1.2,
          1.4,
          1.2,
          1,
          1.3,
          1.2,
          1.3,
          1.3,
          1.1,
          1.3,
          1.9,
          1.7,
          2,
          2.4,
          1.5,
          2,
          1.8,
          1.8,
          1.8,
          1.5,
          1.8,
          1.9,
          1.9,
          1.8
         ],
         "y": [
          7,
          6.4,
          5.5,
          6.5,
          5.7,
          6.3,
          4.9,
          6.6,
          5.2,
          5,
          5.9,
          6,
          6.1,
          5.6,
          6.7,
          5.6,
          5.8,
          6.2,
          5.6,
          5.9,
          6.1,
          6.3,
          6.1,
          6.4,
          6.6,
          6.8,
          6,
          5.7,
          5.5,
          5.5,
          5.8,
          6,
          5.4,
          6,
          6.7,
          6.3,
          5.6,
          5.5,
          5.5,
          6.1,
          5.8,
          5,
          5.6,
          5.7,
          5.7,
          6.2,
          5.1,
          5.7,
          5.8,
          4.9,
          5.7,
          5.8,
          6,
          5.6,
          6.3,
          6.2,
          6.1,
          6.3,
          6,
          5.8,
          6.3,
          5.9
         ],
         "z": [
          4.7,
          4.5,
          4,
          4.6,
          4.5,
          4.7,
          3.3,
          4.6,
          3.9,
          3.5,
          4.2,
          4,
          4.7,
          3.6,
          4.4,
          4.5,
          4.1,
          4.5,
          3.9,
          4.8,
          4,
          4.9,
          4.7,
          4.3,
          4.4,
          4.8,
          4.5,
          3.5,
          3.8,
          3.7,
          3.9,
          5.1,
          4.5,
          4.5,
          4.7,
          4.4,
          4.1,
          4,
          4.4,
          4.6,
          4,
          3.3,
          4.2,
          4.2,
          4.2,
          4.3,
          3,
          4.1,
          5.1,
          4.5,
          5,
          5.1,
          5,
          4.9,
          4.9,
          4.8,
          4.9,
          5.1,
          4.8,
          5.1,
          5,
          5.1
         ]
        },
        {
         "hovertemplate": "class=%{marker.color}<br>petal_width=%{x}<br>sepal_length=%{y}<br>petal_length=%{z}<br>sepal_width=%{marker.size}<extra></extra>",
         "legendgroup": "2",
         "marker": {
          "color": [
           2,
           2,
           2,
           2,
           2,
           2,
           2,
           2,
           2,
           2,
           2,
           2,
           2,
           2,
           2,
           2,
           2,
           2,
           2,
           2,
           2,
           2,
           2,
           2,
           2,
           2,
           2,
           2,
           2,
           2,
           2,
           2,
           2,
           2,
           2,
           2,
           2,
           2
          ],
          "coloraxis": "coloraxis",
          "size": [
           3.1,
           3,
           3.3,
           3,
           2.9,
           3,
           3,
           2.9,
           2.5,
           3.6,
           3.2,
           2.7,
           3,
           3.2,
           3,
           3.8,
           2.6,
           3.2,
           2.8,
           3.3,
           3.2,
           2.8,
           3,
           2.8,
           3.8,
           2.8,
           2.6,
           3,
           3.4,
           3.1,
           3.1,
           3.1,
           3.1,
           3.2,
           3.3,
           3,
           3,
           3.4
          ],
          "sizemode": "area",
          "sizeref": 0.011000000000000001,
          "symbol": "square"
         },
         "mode": "markers",
         "name": "2",
         "scene": "scene",
         "showlegend": true,
         "type": "scatter3d",
         "x": [
          1.5,
          1.7,
          2.5,
          2.1,
          1.8,
          2.2,
          2.1,
          1.8,
          1.8,
          2.5,
          2,
          1.9,
          2.1,
          2.3,
          1.8,
          2.2,
          2.3,
          2.3,
          2,
          2.1,
          1.8,
          2.1,
          1.6,
          1.9,
          2,
          2.2,
          1.4,
          2.3,
          2.4,
          1.8,
          2.1,
          2.4,
          2.3,
          2.3,
          2.5,
          2.3,
          2,
          2.3
         ],
         "y": [
          6.9,
          6.7,
          6.3,
          7.1,
          6.3,
          6.5,
          7.6,
          7.3,
          6.7,
          7.2,
          6.5,
          6.4,
          6.8,
          6.4,
          6.5,
          7.7,
          7.7,
          6.9,
          7.7,
          6.7,
          7.2,
          6.4,
          7.2,
          7.4,
          7.9,
          6.4,
          6.1,
          7.7,
          6.3,
          6.4,
          6.9,
          6.7,
          6.9,
          6.8,
          6.7,
          6.7,
          6.5,
          6.2
         ],
         "z": [
          4.9,
          5,
          6,
          5.9,
          5.6,
          5.8,
          6.6,
          6.3,
          5.8,
          6.1,
          5.1,
          5.3,
          5.5,
          5.3,
          5.5,
          6.7,
          6.9,
          5.7,
          6.7,
          5.7,
          6,
          5.6,
          5.8,
          6.1,
          6.4,
          5.6,
          5.6,
          6.1,
          5.6,
          5.5,
          5.4,
          5.6,
          5.1,
          5.9,
          5.7,
          5.2,
          5.2,
          5.4
         ]
        }
       ],
       "layout": {
        "coloraxis": {
         "colorbar": {
          "title": {
           "text": "class"
          }
         },
         "colorscale": [
          [
           0,
           "#0d0887"
          ],
          [
           0.1111111111111111,
           "#46039f"
          ],
          [
           0.2222222222222222,
           "#7201a8"
          ],
          [
           0.3333333333333333,
           "#9c179e"
          ],
          [
           0.4444444444444444,
           "#bd3786"
          ],
          [
           0.5555555555555556,
           "#d8576b"
          ],
          [
           0.6666666666666666,
           "#ed7953"
          ],
          [
           0.7777777777777778,
           "#fb9f3a"
          ],
          [
           0.8888888888888888,
           "#fdca26"
          ],
          [
           1,
           "#f0f921"
          ]
         ]
        },
        "legend": {
         "itemsizing": "constant",
         "title": {
          "text": "class"
         },
         "tracegroupgap": 0,
         "x": 0,
         "y": 1
        },
        "margin": {
         "t": 60
        },
        "scene": {
         "domain": {
          "x": [
           0,
           1
          ],
          "y": [
           0,
           1
          ]
         },
         "xaxis": {
          "title": {
           "text": "petal_width"
          }
         },
         "yaxis": {
          "title": {
           "text": "sepal_length"
          }
         },
         "zaxis": {
          "title": {
           "text": "petal_length"
          }
         }
        },
        "template": {
         "data": {
          "bar": [
           {
            "error_x": {
             "color": "#2a3f5f"
            },
            "error_y": {
             "color": "#2a3f5f"
            },
            "marker": {
             "line": {
              "color": "#E5ECF6",
              "width": 0.5
             },
             "pattern": {
              "fillmode": "overlay",
              "size": 10,
              "solidity": 0.2
             }
            },
            "type": "bar"
           }
          ],
          "barpolar": [
           {
            "marker": {
             "line": {
              "color": "#E5ECF6",
              "width": 0.5
             },
             "pattern": {
              "fillmode": "overlay",
              "size": 10,
              "solidity": 0.2
             }
            },
            "type": "barpolar"
           }
          ],
          "carpet": [
           {
            "aaxis": {
             "endlinecolor": "#2a3f5f",
             "gridcolor": "white",
             "linecolor": "white",
             "minorgridcolor": "white",
             "startlinecolor": "#2a3f5f"
            },
            "baxis": {
             "endlinecolor": "#2a3f5f",
             "gridcolor": "white",
             "linecolor": "white",
             "minorgridcolor": "white",
             "startlinecolor": "#2a3f5f"
            },
            "type": "carpet"
           }
          ],
          "choropleth": [
           {
            "colorbar": {
             "outlinewidth": 0,
             "ticks": ""
            },
            "type": "choropleth"
           }
          ],
          "contour": [
           {
            "colorbar": {
             "outlinewidth": 0,
             "ticks": ""
            },
            "colorscale": [
             [
              0,
              "#0d0887"
             ],
             [
              0.1111111111111111,
              "#46039f"
             ],
             [
              0.2222222222222222,
              "#7201a8"
             ],
             [
              0.3333333333333333,
              "#9c179e"
             ],
             [
              0.4444444444444444,
              "#bd3786"
             ],
             [
              0.5555555555555556,
              "#d8576b"
             ],
             [
              0.6666666666666666,
              "#ed7953"
             ],
             [
              0.7777777777777778,
              "#fb9f3a"
             ],
             [
              0.8888888888888888,
              "#fdca26"
             ],
             [
              1,
              "#f0f921"
             ]
            ],
            "type": "contour"
           }
          ],
          "contourcarpet": [
           {
            "colorbar": {
             "outlinewidth": 0,
             "ticks": ""
            },
            "type": "contourcarpet"
           }
          ],
          "heatmap": [
           {
            "colorbar": {
             "outlinewidth": 0,
             "ticks": ""
            },
            "colorscale": [
             [
              0,
              "#0d0887"
             ],
             [
              0.1111111111111111,
              "#46039f"
             ],
             [
              0.2222222222222222,
              "#7201a8"
             ],
             [
              0.3333333333333333,
              "#9c179e"
             ],
             [
              0.4444444444444444,
              "#bd3786"
             ],
             [
              0.5555555555555556,
              "#d8576b"
             ],
             [
              0.6666666666666666,
              "#ed7953"
             ],
             [
              0.7777777777777778,
              "#fb9f3a"
             ],
             [
              0.8888888888888888,
              "#fdca26"
             ],
             [
              1,
              "#f0f921"
             ]
            ],
            "type": "heatmap"
           }
          ],
          "heatmapgl": [
           {
            "colorbar": {
             "outlinewidth": 0,
             "ticks": ""
            },
            "colorscale": [
             [
              0,
              "#0d0887"
             ],
             [
              0.1111111111111111,
              "#46039f"
             ],
             [
              0.2222222222222222,
              "#7201a8"
             ],
             [
              0.3333333333333333,
              "#9c179e"
             ],
             [
              0.4444444444444444,
              "#bd3786"
             ],
             [
              0.5555555555555556,
              "#d8576b"
             ],
             [
              0.6666666666666666,
              "#ed7953"
             ],
             [
              0.7777777777777778,
              "#fb9f3a"
             ],
             [
              0.8888888888888888,
              "#fdca26"
             ],
             [
              1,
              "#f0f921"
             ]
            ],
            "type": "heatmapgl"
           }
          ],
          "histogram": [
           {
            "marker": {
             "pattern": {
              "fillmode": "overlay",
              "size": 10,
              "solidity": 0.2
             }
            },
            "type": "histogram"
           }
          ],
          "histogram2d": [
           {
            "colorbar": {
             "outlinewidth": 0,
             "ticks": ""
            },
            "colorscale": [
             [
              0,
              "#0d0887"
             ],
             [
              0.1111111111111111,
              "#46039f"
             ],
             [
              0.2222222222222222,
              "#7201a8"
             ],
             [
              0.3333333333333333,
              "#9c179e"
             ],
             [
              0.4444444444444444,
              "#bd3786"
             ],
             [
              0.5555555555555556,
              "#d8576b"
             ],
             [
              0.6666666666666666,
              "#ed7953"
             ],
             [
              0.7777777777777778,
              "#fb9f3a"
             ],
             [
              0.8888888888888888,
              "#fdca26"
             ],
             [
              1,
              "#f0f921"
             ]
            ],
            "type": "histogram2d"
           }
          ],
          "histogram2dcontour": [
           {
            "colorbar": {
             "outlinewidth": 0,
             "ticks": ""
            },
            "colorscale": [
             [
              0,
              "#0d0887"
             ],
             [
              0.1111111111111111,
              "#46039f"
             ],
             [
              0.2222222222222222,
              "#7201a8"
             ],
             [
              0.3333333333333333,
              "#9c179e"
             ],
             [
              0.4444444444444444,
              "#bd3786"
             ],
             [
              0.5555555555555556,
              "#d8576b"
             ],
             [
              0.6666666666666666,
              "#ed7953"
             ],
             [
              0.7777777777777778,
              "#fb9f3a"
             ],
             [
              0.8888888888888888,
              "#fdca26"
             ],
             [
              1,
              "#f0f921"
             ]
            ],
            "type": "histogram2dcontour"
           }
          ],
          "mesh3d": [
           {
            "colorbar": {
             "outlinewidth": 0,
             "ticks": ""
            },
            "type": "mesh3d"
           }
          ],
          "parcoords": [
           {
            "line": {
             "colorbar": {
              "outlinewidth": 0,
              "ticks": ""
             }
            },
            "type": "parcoords"
           }
          ],
          "pie": [
           {
            "automargin": true,
            "type": "pie"
           }
          ],
          "scatter": [
           {
            "marker": {
             "colorbar": {
              "outlinewidth": 0,
              "ticks": ""
             }
            },
            "type": "scatter"
           }
          ],
          "scatter3d": [
           {
            "line": {
             "colorbar": {
              "outlinewidth": 0,
              "ticks": ""
             }
            },
            "marker": {
             "colorbar": {
              "outlinewidth": 0,
              "ticks": ""
             }
            },
            "type": "scatter3d"
           }
          ],
          "scattercarpet": [
           {
            "marker": {
             "colorbar": {
              "outlinewidth": 0,
              "ticks": ""
             }
            },
            "type": "scattercarpet"
           }
          ],
          "scattergeo": [
           {
            "marker": {
             "colorbar": {
              "outlinewidth": 0,
              "ticks": ""
             }
            },
            "type": "scattergeo"
           }
          ],
          "scattergl": [
           {
            "marker": {
             "colorbar": {
              "outlinewidth": 0,
              "ticks": ""
             }
            },
            "type": "scattergl"
           }
          ],
          "scattermapbox": [
           {
            "marker": {
             "colorbar": {
              "outlinewidth": 0,
              "ticks": ""
             }
            },
            "type": "scattermapbox"
           }
          ],
          "scatterpolar": [
           {
            "marker": {
             "colorbar": {
              "outlinewidth": 0,
              "ticks": ""
             }
            },
            "type": "scatterpolar"
           }
          ],
          "scatterpolargl": [
           {
            "marker": {
             "colorbar": {
              "outlinewidth": 0,
              "ticks": ""
             }
            },
            "type": "scatterpolargl"
           }
          ],
          "scatterternary": [
           {
            "marker": {
             "colorbar": {
              "outlinewidth": 0,
              "ticks": ""
             }
            },
            "type": "scatterternary"
           }
          ],
          "surface": [
           {
            "colorbar": {
             "outlinewidth": 0,
             "ticks": ""
            },
            "colorscale": [
             [
              0,
              "#0d0887"
             ],
             [
              0.1111111111111111,
              "#46039f"
             ],
             [
              0.2222222222222222,
              "#7201a8"
             ],
             [
              0.3333333333333333,
              "#9c179e"
             ],
             [
              0.4444444444444444,
              "#bd3786"
             ],
             [
              0.5555555555555556,
              "#d8576b"
             ],
             [
              0.6666666666666666,
              "#ed7953"
             ],
             [
              0.7777777777777778,
              "#fb9f3a"
             ],
             [
              0.8888888888888888,
              "#fdca26"
             ],
             [
              1,
              "#f0f921"
             ]
            ],
            "type": "surface"
           }
          ],
          "table": [
           {
            "cells": {
             "fill": {
              "color": "#EBF0F8"
             },
             "line": {
              "color": "white"
             }
            },
            "header": {
             "fill": {
              "color": "#C8D4E3"
             },
             "line": {
              "color": "white"
             }
            },
            "type": "table"
           }
          ]
         },
         "layout": {
          "annotationdefaults": {
           "arrowcolor": "#2a3f5f",
           "arrowhead": 0,
           "arrowwidth": 1
          },
          "autotypenumbers": "strict",
          "coloraxis": {
           "colorbar": {
            "outlinewidth": 0,
            "ticks": ""
           }
          },
          "colorscale": {
           "diverging": [
            [
             0,
             "#8e0152"
            ],
            [
             0.1,
             "#c51b7d"
            ],
            [
             0.2,
             "#de77ae"
            ],
            [
             0.3,
             "#f1b6da"
            ],
            [
             0.4,
             "#fde0ef"
            ],
            [
             0.5,
             "#f7f7f7"
            ],
            [
             0.6,
             "#e6f5d0"
            ],
            [
             0.7,
             "#b8e186"
            ],
            [
             0.8,
             "#7fbc41"
            ],
            [
             0.9,
             "#4d9221"
            ],
            [
             1,
             "#276419"
            ]
           ],
           "sequential": [
            [
             0,
             "#0d0887"
            ],
            [
             0.1111111111111111,
             "#46039f"
            ],
            [
             0.2222222222222222,
             "#7201a8"
            ],
            [
             0.3333333333333333,
             "#9c179e"
            ],
            [
             0.4444444444444444,
             "#bd3786"
            ],
            [
             0.5555555555555556,
             "#d8576b"
            ],
            [
             0.6666666666666666,
             "#ed7953"
            ],
            [
             0.7777777777777778,
             "#fb9f3a"
            ],
            [
             0.8888888888888888,
             "#fdca26"
            ],
            [
             1,
             "#f0f921"
            ]
           ],
           "sequentialminus": [
            [
             0,
             "#0d0887"
            ],
            [
             0.1111111111111111,
             "#46039f"
            ],
            [
             0.2222222222222222,
             "#7201a8"
            ],
            [
             0.3333333333333333,
             "#9c179e"
            ],
            [
             0.4444444444444444,
             "#bd3786"
            ],
            [
             0.5555555555555556,
             "#d8576b"
            ],
            [
             0.6666666666666666,
             "#ed7953"
            ],
            [
             0.7777777777777778,
             "#fb9f3a"
            ],
            [
             0.8888888888888888,
             "#fdca26"
            ],
            [
             1,
             "#f0f921"
            ]
           ]
          },
          "colorway": [
           "#636efa",
           "#EF553B",
           "#00cc96",
           "#ab63fa",
           "#FFA15A",
           "#19d3f3",
           "#FF6692",
           "#B6E880",
           "#FF97FF",
           "#FECB52"
          ],
          "font": {
           "color": "#2a3f5f"
          },
          "geo": {
           "bgcolor": "white",
           "lakecolor": "white",
           "landcolor": "#E5ECF6",
           "showlakes": true,
           "showland": true,
           "subunitcolor": "white"
          },
          "hoverlabel": {
           "align": "left"
          },
          "hovermode": "closest",
          "mapbox": {
           "style": "light"
          },
          "paper_bgcolor": "white",
          "plot_bgcolor": "#E5ECF6",
          "polar": {
           "angularaxis": {
            "gridcolor": "white",
            "linecolor": "white",
            "ticks": ""
           },
           "bgcolor": "#E5ECF6",
           "radialaxis": {
            "gridcolor": "white",
            "linecolor": "white",
            "ticks": ""
           }
          },
          "scene": {
           "xaxis": {
            "backgroundcolor": "#E5ECF6",
            "gridcolor": "white",
            "gridwidth": 2,
            "linecolor": "white",
            "showbackground": true,
            "ticks": "",
            "zerolinecolor": "white"
           },
           "yaxis": {
            "backgroundcolor": "#E5ECF6",
            "gridcolor": "white",
            "gridwidth": 2,
            "linecolor": "white",
            "showbackground": true,
            "ticks": "",
            "zerolinecolor": "white"
           },
           "zaxis": {
            "backgroundcolor": "#E5ECF6",
            "gridcolor": "white",
            "gridwidth": 2,
            "linecolor": "white",
            "showbackground": true,
            "ticks": "",
            "zerolinecolor": "white"
           }
          },
          "shapedefaults": {
           "line": {
            "color": "#2a3f5f"
           }
          },
          "ternary": {
           "aaxis": {
            "gridcolor": "white",
            "linecolor": "white",
            "ticks": ""
           },
           "baxis": {
            "gridcolor": "white",
            "linecolor": "white",
            "ticks": ""
           },
           "bgcolor": "#E5ECF6",
           "caxis": {
            "gridcolor": "white",
            "linecolor": "white",
            "ticks": ""
           }
          },
          "title": {
           "x": 0.05
          },
          "xaxis": {
           "automargin": true,
           "gridcolor": "white",
           "linecolor": "white",
           "ticks": "",
           "title": {
            "standoff": 15
           },
           "zerolinecolor": "white",
           "zerolinewidth": 2
          },
          "yaxis": {
           "automargin": true,
           "gridcolor": "white",
           "linecolor": "white",
           "ticks": "",
           "title": {
            "standoff": 15
           },
           "zerolinecolor": "white",
           "zerolinewidth": 2
          }
         }
        },
        "width": 800
       }
      }
     },
     "metadata": {},
     "output_type": "display_data"
    }
   ],
   "source": [
    "# Plotting the clusters with three features\n",
    "fig= px.scatter_3d(\n",
    "    df_iris,\n",
    "    x='petal_width',\n",
    "    y='sepal_length',\n",
    "    z='petal_length',\n",
    "    color='class',\n",
    "    symbol='class',\n",
    "    size='sepal_width',\n",
    "    width=800,\n",
    ")\n",
    "fig.update_layout(legend=dict(x=0,y=1))\n",
    "fig.show()"
   ]
  },
  {
   "cell_type": "code",
   "execution_count": 14,
   "metadata": {},
   "outputs": [
    {
     "data": {
      "text/html": [
       "<div>\n",
       "<style scoped>\n",
       "    .dataframe tbody tr th:only-of-type {\n",
       "        vertical-align: middle;\n",
       "    }\n",
       "\n",
       "    .dataframe tbody tr th {\n",
       "        vertical-align: top;\n",
       "    }\n",
       "\n",
       "    .dataframe thead th {\n",
       "        text-align: right;\n",
       "    }\n",
       "</style>\n",
       "<table border=\"1\" class=\"dataframe\">\n",
       "  <thead>\n",
       "    <tr style=\"text-align: right;\">\n",
       "      <th></th>\n",
       "      <th>sepal_length</th>\n",
       "      <th>petal_length</th>\n",
       "      <th>sepal_width</th>\n",
       "      <th>petal_width</th>\n",
       "      <th>class</th>\n",
       "    </tr>\n",
       "  </thead>\n",
       "  <tbody>\n",
       "    <tr>\n",
       "      <th>0</th>\n",
       "      <td>5.1</td>\n",
       "      <td>1.4</td>\n",
       "      <td>3.5</td>\n",
       "      <td>0.2</td>\n",
       "      <td>1</td>\n",
       "    </tr>\n",
       "    <tr>\n",
       "      <th>1</th>\n",
       "      <td>4.9</td>\n",
       "      <td>1.4</td>\n",
       "      <td>3.0</td>\n",
       "      <td>0.2</td>\n",
       "      <td>1</td>\n",
       "    </tr>\n",
       "    <tr>\n",
       "      <th>2</th>\n",
       "      <td>4.7</td>\n",
       "      <td>1.3</td>\n",
       "      <td>3.2</td>\n",
       "      <td>0.2</td>\n",
       "      <td>1</td>\n",
       "    </tr>\n",
       "    <tr>\n",
       "      <th>3</th>\n",
       "      <td>4.6</td>\n",
       "      <td>1.5</td>\n",
       "      <td>3.1</td>\n",
       "      <td>0.2</td>\n",
       "      <td>1</td>\n",
       "    </tr>\n",
       "    <tr>\n",
       "      <th>4</th>\n",
       "      <td>5.0</td>\n",
       "      <td>1.4</td>\n",
       "      <td>3.6</td>\n",
       "      <td>0.2</td>\n",
       "      <td>1</td>\n",
       "    </tr>\n",
       "    <tr>\n",
       "      <th>5</th>\n",
       "      <td>5.4</td>\n",
       "      <td>1.7</td>\n",
       "      <td>3.9</td>\n",
       "      <td>0.4</td>\n",
       "      <td>1</td>\n",
       "    </tr>\n",
       "    <tr>\n",
       "      <th>6</th>\n",
       "      <td>4.6</td>\n",
       "      <td>1.4</td>\n",
       "      <td>3.4</td>\n",
       "      <td>0.3</td>\n",
       "      <td>1</td>\n",
       "    </tr>\n",
       "    <tr>\n",
       "      <th>7</th>\n",
       "      <td>5.0</td>\n",
       "      <td>1.5</td>\n",
       "      <td>3.4</td>\n",
       "      <td>0.2</td>\n",
       "      <td>1</td>\n",
       "    </tr>\n",
       "    <tr>\n",
       "      <th>8</th>\n",
       "      <td>4.4</td>\n",
       "      <td>1.4</td>\n",
       "      <td>2.9</td>\n",
       "      <td>0.2</td>\n",
       "      <td>1</td>\n",
       "    </tr>\n",
       "    <tr>\n",
       "      <th>9</th>\n",
       "      <td>4.9</td>\n",
       "      <td>1.5</td>\n",
       "      <td>3.1</td>\n",
       "      <td>0.1</td>\n",
       "      <td>1</td>\n",
       "    </tr>\n",
       "  </tbody>\n",
       "</table>\n",
       "</div>"
      ],
      "text/plain": [
       "   sepal_length  petal_length  sepal_width  petal_width  class\n",
       "0           5.1           1.4          3.5          0.2      1\n",
       "1           4.9           1.4          3.0          0.2      1\n",
       "2           4.7           1.3          3.2          0.2      1\n",
       "3           4.6           1.5          3.1          0.2      1\n",
       "4           5.0           1.4          3.6          0.2      1\n",
       "5           5.4           1.7          3.9          0.4      1\n",
       "6           4.6           1.4          3.4          0.3      1\n",
       "7           5.0           1.5          3.4          0.2      1\n",
       "8           4.4           1.4          2.9          0.2      1\n",
       "9           4.9           1.5          3.1          0.1      1"
      ]
     },
     "execution_count": 14,
     "metadata": {},
     "output_type": "execute_result"
    }
   ],
   "source": [
    "df_iris.head(10)"
   ]
  },
  {
   "cell_type": "code",
   "execution_count": 15,
   "metadata": {},
   "outputs": [],
   "source": [
    "# create an empty list\n",
    "inertia = []\n",
    "k = list(range(1,11))"
   ]
  },
  {
   "cell_type": "code",
   "execution_count": 16,
   "metadata": {},
   "outputs": [],
   "source": [
    "# Looking for the best K\n",
    "for i in k:\n",
    "    km= KMeans(n_clusters=i, random_state=0)\n",
    "    km.fit(df_iris)\n",
    "    inertia.append(km.inertia_)"
   ]
  },
  {
   "cell_type": "code",
   "execution_count": 17,
   "metadata": {},
   "outputs": [
    {
     "data": {},
     "metadata": {},
     "output_type": "display_data"
    },
    {
     "data": {
      "application/vnd.holoviews_exec.v0+json": "",
      "text/html": [
       "<div id='1310'>\n",
       "\n",
       "\n",
       "\n",
       "\n",
       "\n",
       "  <div class=\"bk-root\" id=\"143f9192-4e62-4986-9054-1e2fb81b490d\" data-root-id=\"1310\"></div>\n",
       "</div>\n",
       "<script type=\"application/javascript\">(function(root) {\n",
       "  function embed_document(root) {\n",
       "    var docs_json = {\"a5a174ba-56c6-4745-9b6e-5d3eeca731ae\":{\"defs\":[{\"extends\":null,\"module\":null,\"name\":\"ReactiveHTML1\",\"overrides\":[],\"properties\":[]},{\"extends\":null,\"module\":null,\"name\":\"FlexBox1\",\"overrides\":[],\"properties\":[{\"default\":\"flex-start\",\"kind\":null,\"name\":\"align_content\"},{\"default\":\"flex-start\",\"kind\":null,\"name\":\"align_items\"},{\"default\":\"row\",\"kind\":null,\"name\":\"flex_direction\"},{\"default\":\"wrap\",\"kind\":null,\"name\":\"flex_wrap\"},{\"default\":\"flex-start\",\"kind\":null,\"name\":\"justify_content\"}]},{\"extends\":null,\"module\":null,\"name\":\"GridStack1\",\"overrides\":[],\"properties\":[{\"default\":\"warn\",\"kind\":null,\"name\":\"mode\"},{\"default\":null,\"kind\":null,\"name\":\"ncols\"},{\"default\":null,\"kind\":null,\"name\":\"nrows\"},{\"default\":true,\"kind\":null,\"name\":\"allow_resize\"},{\"default\":true,\"kind\":null,\"name\":\"allow_drag\"},{\"default\":[],\"kind\":null,\"name\":\"state\"}]},{\"extends\":null,\"module\":null,\"name\":\"click1\",\"overrides\":[],\"properties\":[{\"default\":\"\",\"kind\":null,\"name\":\"terminal_output\"},{\"default\":\"\",\"kind\":null,\"name\":\"debug_name\"},{\"default\":0,\"kind\":null,\"name\":\"clears\"}]},{\"extends\":null,\"module\":null,\"name\":\"TemplateActions1\",\"overrides\":[],\"properties\":[{\"default\":0,\"kind\":null,\"name\":\"open_modal\"},{\"default\":0,\"kind\":null,\"name\":\"close_modal\"}]},{\"extends\":null,\"module\":null,\"name\":\"MaterialTemplateActions1\",\"overrides\":[],\"properties\":[{\"default\":0,\"kind\":null,\"name\":\"open_modal\"},{\"default\":0,\"kind\":null,\"name\":\"close_modal\"}]}],\"roots\":{\"references\":[{\"attributes\":{\"axis\":{\"id\":\"1328\"},\"coordinates\":null,\"dimension\":1,\"grid_line_color\":null,\"group\":null,\"ticker\":null},\"id\":\"1331\",\"type\":\"Grid\"},{\"attributes\":{\"margin\":[5,5,5,5],\"name\":\"HSpacer02241\",\"sizing_mode\":\"stretch_width\"},\"id\":\"1311\",\"type\":\"Spacer\"},{\"attributes\":{\"end\":10.0,\"reset_end\":10.0,\"reset_start\":1.0,\"start\":1.0,\"tags\":[[[\"k\",\"k\",null]]]},\"id\":\"1312\",\"type\":\"Range1d\"},{\"attributes\":{},\"id\":\"1346\",\"type\":\"Selection\"},{\"attributes\":{\"source\":{\"id\":\"1345\"}},\"id\":\"1352\",\"type\":\"CDSView\"},{\"attributes\":{},\"id\":\"1361\",\"type\":\"BasicTickFormatter\"},{\"attributes\":{},\"id\":\"1369\",\"type\":\"UnionRenderers\"},{\"attributes\":{\"line_alpha\":0.2,\"line_color\":\"#30a2da\",\"line_width\":2,\"x\":{\"field\":\"k\"},\"y\":{\"field\":\"inertia\"}},\"id\":\"1350\",\"type\":\"Line\"},{\"attributes\":{\"line_color\":\"#30a2da\",\"line_width\":2,\"x\":{\"field\":\"k\"},\"y\":{\"field\":\"inertia\"}},\"id\":\"1348\",\"type\":\"Line\"},{\"attributes\":{\"callback\":null,\"renderers\":[{\"id\":\"1351\"}],\"tags\":[\"hv_created\"],\"tooltips\":[[\"k\",\"@{k}\"],[\"inertia\",\"@{inertia}\"]]},\"id\":\"1314\",\"type\":\"HoverTool\"},{\"attributes\":{\"tools\":[{\"id\":\"1314\"},{\"id\":\"1332\"},{\"id\":\"1333\"},{\"id\":\"1334\"},{\"id\":\"1335\"},{\"id\":\"1336\"}]},\"id\":\"1338\",\"type\":\"Toolbar\"},{\"attributes\":{},\"id\":\"1356\",\"type\":\"BasicTickFormatter\"},{\"attributes\":{\"margin\":[5,5,5,5],\"name\":\"HSpacer02242\",\"sizing_mode\":\"stretch_width\"},\"id\":\"1381\",\"type\":\"Spacer\"},{\"attributes\":{\"line_color\":\"#30a2da\",\"line_width\":2,\"x\":{\"field\":\"k\"},\"y\":{\"field\":\"inertia\"}},\"id\":\"1353\",\"type\":\"Line\"},{\"attributes\":{},\"id\":\"1332\",\"type\":\"SaveTool\"},{\"attributes\":{\"data\":{\"inertia\":{\"__ndarray__\":\"dHEbDeBHiECjl9FO4fRuQDkB9b42vFNA4ctBzxW4TUCUUyvxh4lHQCgZYMkjvENAOs8acKOHQUDSkfYhmg8/QE3pGmhu1jxAPcCcabC3OkA=\",\"dtype\":\"float64\",\"order\":\"little\",\"shape\":[10]},\"k\":[1,2,3,4,5,6,7,8,9,10]},\"selected\":{\"id\":\"1346\"},\"selection_policy\":{\"id\":\"1369\"}},\"id\":\"1345\",\"type\":\"ColumnDataSource\"},{\"attributes\":{\"end\":852.0110864408139,\"reset_end\":852.0110864408139,\"reset_start\":-48.30915084895496,\"start\":-48.30915084895496,\"tags\":[[[\"inertia\",\"inertia\",null]]]},\"id\":\"1313\",\"type\":\"Range1d\"},{\"attributes\":{},\"id\":\"1333\",\"type\":\"PanTool\"},{\"attributes\":{\"ticks\":[1,2,3,4,5,6,7,8,9,10]},\"id\":\"1354\",\"type\":\"FixedTicker\"},{\"attributes\":{},\"id\":\"1336\",\"type\":\"ResetTool\"},{\"attributes\":{},\"id\":\"1357\",\"type\":\"AllLabels\"},{\"attributes\":{},\"id\":\"1334\",\"type\":\"WheelZoomTool\"},{\"attributes\":{\"line_alpha\":0.1,\"line_color\":\"#30a2da\",\"line_width\":2,\"x\":{\"field\":\"k\"},\"y\":{\"field\":\"inertia\"}},\"id\":\"1349\",\"type\":\"Line\"},{\"attributes\":{\"overlay\":{\"id\":\"1337\"}},\"id\":\"1335\",\"type\":\"BoxZoomTool\"},{\"attributes\":{},\"id\":\"1329\",\"type\":\"BasicTicker\"},{\"attributes\":{},\"id\":\"1320\",\"type\":\"LinearScale\"},{\"attributes\":{\"bottom_units\":\"screen\",\"coordinates\":null,\"fill_alpha\":0.5,\"fill_color\":\"lightgrey\",\"group\":null,\"left_units\":\"screen\",\"level\":\"overlay\",\"line_alpha\":1.0,\"line_color\":\"black\",\"line_dash\":[4,4],\"line_width\":2,\"right_units\":\"screen\",\"syncable\":false,\"top_units\":\"screen\"},\"id\":\"1337\",\"type\":\"BoxAnnotation\"},{\"attributes\":{\"coordinates\":null,\"group\":null,\"text\":\"Elbow Curve\",\"text_color\":\"black\",\"text_font_size\":\"12pt\"},\"id\":\"1316\",\"type\":\"Title\"},{\"attributes\":{\"coordinates\":null,\"data_source\":{\"id\":\"1345\"},\"glyph\":{\"id\":\"1348\"},\"group\":null,\"hover_glyph\":null,\"muted_glyph\":{\"id\":\"1350\"},\"nonselection_glyph\":{\"id\":\"1349\"},\"selection_glyph\":{\"id\":\"1353\"},\"view\":{\"id\":\"1352\"}},\"id\":\"1351\",\"type\":\"GlyphRenderer\"},{\"attributes\":{\"axis\":{\"id\":\"1324\"},\"coordinates\":null,\"grid_line_color\":null,\"group\":null,\"ticker\":null},\"id\":\"1327\",\"type\":\"Grid\"},{\"attributes\":{\"children\":[{\"id\":\"1311\"},{\"id\":\"1315\"},{\"id\":\"1381\"}],\"margin\":[0,0,0,0],\"name\":\"Row02237\",\"tags\":[\"embedded\"]},\"id\":\"1310\",\"type\":\"Row\"},{\"attributes\":{},\"id\":\"1322\",\"type\":\"LinearScale\"},{\"attributes\":{\"below\":[{\"id\":\"1324\"}],\"center\":[{\"id\":\"1327\"},{\"id\":\"1331\"}],\"height\":300,\"left\":[{\"id\":\"1328\"}],\"margin\":[5,5,5,5],\"min_border_bottom\":10,\"min_border_left\":10,\"min_border_right\":10,\"min_border_top\":10,\"renderers\":[{\"id\":\"1351\"}],\"sizing_mode\":\"fixed\",\"title\":{\"id\":\"1316\"},\"toolbar\":{\"id\":\"1338\"},\"width\":700,\"x_range\":{\"id\":\"1312\"},\"x_scale\":{\"id\":\"1320\"},\"y_range\":{\"id\":\"1313\"},\"y_scale\":{\"id\":\"1322\"}},\"id\":\"1315\",\"subtype\":\"Figure\",\"type\":\"Plot\"},{\"attributes\":{\"axis_label\":\"inertia\",\"coordinates\":null,\"formatter\":{\"id\":\"1361\"},\"group\":null,\"major_label_policy\":{\"id\":\"1362\"},\"ticker\":{\"id\":\"1329\"}},\"id\":\"1328\",\"type\":\"LinearAxis\"},{\"attributes\":{\"axis_label\":\"k\",\"coordinates\":null,\"formatter\":{\"id\":\"1356\"},\"group\":null,\"major_label_policy\":{\"id\":\"1357\"},\"ticker\":{\"id\":\"1354\"}},\"id\":\"1324\",\"type\":\"LinearAxis\"},{\"attributes\":{},\"id\":\"1362\",\"type\":\"AllLabels\"}],\"root_ids\":[\"1310\"]},\"title\":\"Bokeh Application\",\"version\":\"2.4.2\"}};\n",
       "    var render_items = [{\"docid\":\"a5a174ba-56c6-4745-9b6e-5d3eeca731ae\",\"root_ids\":[\"1310\"],\"roots\":{\"1310\":\"143f9192-4e62-4986-9054-1e2fb81b490d\"}}];\n",
       "    root.Bokeh.embed.embed_items_notebook(docs_json, render_items);\n",
       "  }\n",
       "  if (root.Bokeh !== undefined && root.Bokeh.Panel !== undefined) {\n",
       "    embed_document(root);\n",
       "  } else {\n",
       "    var attempts = 0;\n",
       "    var timer = setInterval(function(root) {\n",
       "      if (root.Bokeh !== undefined && root.Bokeh.Panel !== undefined) {\n",
       "        clearInterval(timer);\n",
       "        embed_document(root);\n",
       "      } else if (document.readyState == \"complete\") {\n",
       "        attempts++;\n",
       "        if (attempts > 200) {\n",
       "          clearInterval(timer);\n",
       "          console.log(\"Bokeh: ERROR: Unable to run BokehJS code because BokehJS library is missing\");\n",
       "        }\n",
       "      }\n",
       "    }, 25, root)\n",
       "  }\n",
       "})(window);</script>"
      ],
      "text/plain": [
       ":Curve   [k]   (inertia)"
      ]
     },
     "execution_count": 17,
     "metadata": {
      "application/vnd.holoviews_exec.v0+json": {
       "id": "1310"
      }
     },
     "output_type": "execute_result"
    }
   ],
   "source": [
    "elbow_data= {'k': k, 'inertia': inertia}\n",
    "df_elbow= pd.DataFrame(elbow_data)\n",
    "df_elbow.hvplot.line(x='k', y='inertia', title='Elbow Curve',xticks=k)"
   ]
  },
  {
   "cell_type": "code",
   "execution_count": 19,
   "metadata": {},
   "outputs": [
    {
     "data": {
      "text/html": [
       "<div>\n",
       "<style scoped>\n",
       "    .dataframe tbody tr th:only-of-type {\n",
       "        vertical-align: middle;\n",
       "    }\n",
       "\n",
       "    .dataframe tbody tr th {\n",
       "        vertical-align: top;\n",
       "    }\n",
       "\n",
       "    .dataframe thead th {\n",
       "        text-align: right;\n",
       "    }\n",
       "</style>\n",
       "<table border=\"1\" class=\"dataframe\">\n",
       "  <thead>\n",
       "    <tr style=\"text-align: right;\">\n",
       "      <th></th>\n",
       "      <th>sepal_length</th>\n",
       "      <th>petal_length</th>\n",
       "      <th>sepal_width</th>\n",
       "      <th>petal_width</th>\n",
       "      <th>class</th>\n",
       "    </tr>\n",
       "  </thead>\n",
       "  <tbody>\n",
       "    <tr>\n",
       "      <th>0</th>\n",
       "      <td>5.1</td>\n",
       "      <td>1.4</td>\n",
       "      <td>3.5</td>\n",
       "      <td>0.2</td>\n",
       "      <td>1</td>\n",
       "    </tr>\n",
       "    <tr>\n",
       "      <th>1</th>\n",
       "      <td>4.9</td>\n",
       "      <td>1.4</td>\n",
       "      <td>3.0</td>\n",
       "      <td>0.2</td>\n",
       "      <td>1</td>\n",
       "    </tr>\n",
       "    <tr>\n",
       "      <th>2</th>\n",
       "      <td>4.7</td>\n",
       "      <td>1.3</td>\n",
       "      <td>3.2</td>\n",
       "      <td>0.2</td>\n",
       "      <td>1</td>\n",
       "    </tr>\n",
       "    <tr>\n",
       "      <th>3</th>\n",
       "      <td>4.6</td>\n",
       "      <td>1.5</td>\n",
       "      <td>3.1</td>\n",
       "      <td>0.2</td>\n",
       "      <td>1</td>\n",
       "    </tr>\n",
       "    <tr>\n",
       "      <th>4</th>\n",
       "      <td>5.0</td>\n",
       "      <td>1.4</td>\n",
       "      <td>3.6</td>\n",
       "      <td>0.2</td>\n",
       "      <td>1</td>\n",
       "    </tr>\n",
       "  </tbody>\n",
       "</table>\n",
       "</div>"
      ],
      "text/plain": [
       "   sepal_length  petal_length  sepal_width  petal_width  class\n",
       "0           5.1           1.4          3.5          0.2      1\n",
       "1           4.9           1.4          3.0          0.2      1\n",
       "2           4.7           1.3          3.2          0.2      1\n",
       "3           4.6           1.5          3.1          0.2      1\n",
       "4           5.0           1.4          3.6          0.2      1"
      ]
     },
     "execution_count": 19,
     "metadata": {},
     "output_type": "execute_result"
    }
   ],
   "source": [
    "df_iris.head()"
   ]
  },
  {
   "cell_type": "code",
   "execution_count": 20,
   "metadata": {},
   "outputs": [
    {
     "data": {
      "text/html": [
       "<div>\n",
       "<style scoped>\n",
       "    .dataframe tbody tr th:only-of-type {\n",
       "        vertical-align: middle;\n",
       "    }\n",
       "\n",
       "    .dataframe tbody tr th {\n",
       "        vertical-align: top;\n",
       "    }\n",
       "\n",
       "    .dataframe thead th {\n",
       "        text-align: right;\n",
       "    }\n",
       "</style>\n",
       "<table border=\"1\" class=\"dataframe\">\n",
       "  <thead>\n",
       "    <tr style=\"text-align: right;\">\n",
       "      <th></th>\n",
       "      <th>sepal_length</th>\n",
       "      <th>petal_length</th>\n",
       "      <th>sepal_width</th>\n",
       "      <th>petal_width</th>\n",
       "    </tr>\n",
       "  </thead>\n",
       "  <tbody>\n",
       "    <tr>\n",
       "      <th>0</th>\n",
       "      <td>5.1</td>\n",
       "      <td>1.4</td>\n",
       "      <td>3.5</td>\n",
       "      <td>0.2</td>\n",
       "    </tr>\n",
       "    <tr>\n",
       "      <th>1</th>\n",
       "      <td>4.9</td>\n",
       "      <td>1.4</td>\n",
       "      <td>3.0</td>\n",
       "      <td>0.2</td>\n",
       "    </tr>\n",
       "    <tr>\n",
       "      <th>2</th>\n",
       "      <td>4.7</td>\n",
       "      <td>1.3</td>\n",
       "      <td>3.2</td>\n",
       "      <td>0.2</td>\n",
       "    </tr>\n",
       "    <tr>\n",
       "      <th>3</th>\n",
       "      <td>4.6</td>\n",
       "      <td>1.5</td>\n",
       "      <td>3.1</td>\n",
       "      <td>0.2</td>\n",
       "    </tr>\n",
       "    <tr>\n",
       "      <th>4</th>\n",
       "      <td>5.0</td>\n",
       "      <td>1.4</td>\n",
       "      <td>3.6</td>\n",
       "      <td>0.2</td>\n",
       "    </tr>\n",
       "    <tr>\n",
       "      <th>5</th>\n",
       "      <td>5.4</td>\n",
       "      <td>1.7</td>\n",
       "      <td>3.9</td>\n",
       "      <td>0.4</td>\n",
       "    </tr>\n",
       "    <tr>\n",
       "      <th>6</th>\n",
       "      <td>4.6</td>\n",
       "      <td>1.4</td>\n",
       "      <td>3.4</td>\n",
       "      <td>0.3</td>\n",
       "    </tr>\n",
       "    <tr>\n",
       "      <th>7</th>\n",
       "      <td>5.0</td>\n",
       "      <td>1.5</td>\n",
       "      <td>3.4</td>\n",
       "      <td>0.2</td>\n",
       "    </tr>\n",
       "    <tr>\n",
       "      <th>8</th>\n",
       "      <td>4.4</td>\n",
       "      <td>1.4</td>\n",
       "      <td>2.9</td>\n",
       "      <td>0.2</td>\n",
       "    </tr>\n",
       "    <tr>\n",
       "      <th>9</th>\n",
       "      <td>4.9</td>\n",
       "      <td>1.5</td>\n",
       "      <td>3.1</td>\n",
       "      <td>0.1</td>\n",
       "    </tr>\n",
       "  </tbody>\n",
       "</table>\n",
       "</div>"
      ],
      "text/plain": [
       "   sepal_length  petal_length  sepal_width  petal_width\n",
       "0           5.1           1.4          3.5          0.2\n",
       "1           4.9           1.4          3.0          0.2\n",
       "2           4.7           1.3          3.2          0.2\n",
       "3           4.6           1.5          3.1          0.2\n",
       "4           5.0           1.4          3.6          0.2\n",
       "5           5.4           1.7          3.9          0.4\n",
       "6           4.6           1.4          3.4          0.3\n",
       "7           5.0           1.5          3.4          0.2\n",
       "8           4.4           1.4          2.9          0.2\n",
       "9           4.9           1.5          3.1          0.1"
      ]
     },
     "execution_count": 20,
     "metadata": {},
     "output_type": "execute_result"
    }
   ],
   "source": [
    "file_path = r\"C:\\Users\\josep\\Documents\\GitHub\\Cryptocurrencies\\resources\\new_iris_data.csv\"\n",
    "df_iris = pd.read_csv(file_path)\n",
    "df_iris.head(10)"
   ]
  },
  {
   "cell_type": "code",
   "execution_count": 21,
   "metadata": {},
   "outputs": [
    {
     "name": "stdout",
     "output_type": "stream",
     "text": [
      "[[-0.90068117 -1.3412724   1.03205722 -1.31297673]\n",
      " [-1.14301691 -1.3412724  -0.1249576  -1.31297673]\n",
      " [-1.38535265 -1.39813811  0.33784833 -1.31297673]\n",
      " [-1.50652052 -1.2844067   0.10644536 -1.31297673]\n",
      " [-1.02184904 -1.3412724   1.26346019 -1.31297673]]\n"
     ]
    }
   ],
   "source": [
    "iris_scaled = StandardScaler().fit_transform(df_iris)\n",
    "print(iris_scaled[0:5])"
   ]
  },
  {
   "cell_type": "code",
   "execution_count": 22,
   "metadata": {},
   "outputs": [],
   "source": [
    "# Istantiate PCA model\n",
    "pca = PCA(n_components=2)"
   ]
  },
  {
   "cell_type": "code",
   "execution_count": 23,
   "metadata": {},
   "outputs": [],
   "source": [
    "# Get two principal components for the iris data\n",
    "iris_pca = pca.fit_transform(iris_scaled)"
   ]
  },
  {
   "cell_type": "code",
   "execution_count": 24,
   "metadata": {},
   "outputs": [
    {
     "data": {
      "text/html": [
       "<div>\n",
       "<style scoped>\n",
       "    .dataframe tbody tr th:only-of-type {\n",
       "        vertical-align: middle;\n",
       "    }\n",
       "\n",
       "    .dataframe tbody tr th {\n",
       "        vertical-align: top;\n",
       "    }\n",
       "\n",
       "    .dataframe thead th {\n",
       "        text-align: right;\n",
       "    }\n",
       "</style>\n",
       "<table border=\"1\" class=\"dataframe\">\n",
       "  <thead>\n",
       "    <tr style=\"text-align: right;\">\n",
       "      <th></th>\n",
       "      <th>principal component 1</th>\n",
       "      <th>principal component 2</th>\n",
       "    </tr>\n",
       "  </thead>\n",
       "  <tbody>\n",
       "    <tr>\n",
       "      <th>0</th>\n",
       "      <td>-2.264542</td>\n",
       "      <td>0.505704</td>\n",
       "    </tr>\n",
       "    <tr>\n",
       "      <th>1</th>\n",
       "      <td>-2.086426</td>\n",
       "      <td>-0.655405</td>\n",
       "    </tr>\n",
       "    <tr>\n",
       "      <th>2</th>\n",
       "      <td>-2.367950</td>\n",
       "      <td>-0.318477</td>\n",
       "    </tr>\n",
       "    <tr>\n",
       "      <th>3</th>\n",
       "      <td>-2.304197</td>\n",
       "      <td>-0.575368</td>\n",
       "    </tr>\n",
       "    <tr>\n",
       "      <th>4</th>\n",
       "      <td>-2.388777</td>\n",
       "      <td>0.674767</td>\n",
       "    </tr>\n",
       "  </tbody>\n",
       "</table>\n",
       "</div>"
      ],
      "text/plain": [
       "   principal component 1  principal component 2\n",
       "0              -2.264542               0.505704\n",
       "1              -2.086426              -0.655405\n",
       "2              -2.367950              -0.318477\n",
       "3              -2.304197              -0.575368\n",
       "4              -2.388777               0.674767"
      ]
     },
     "execution_count": 24,
     "metadata": {},
     "output_type": "execute_result"
    }
   ],
   "source": [
    "df_iris_pca= pd.DataFrame(\n",
    "    data=iris_pca, columns=['principal component 1', 'principal component 2']\n",
    ")\n",
    "df_iris_pca.head()"
   ]
  },
  {
   "cell_type": "code",
   "execution_count": 25,
   "metadata": {},
   "outputs": [
    {
     "data": {
      "text/plain": [
       "array([0.72770452, 0.23030523])"
      ]
     },
     "execution_count": 25,
     "metadata": {},
     "output_type": "execute_result"
    }
   ],
   "source": [
    "# Fetch the explained variance\n",
    "pca.explained_variance_ratio_"
   ]
  },
  {
   "cell_type": "code",
   "execution_count": 27,
   "metadata": {},
   "outputs": [
    {
     "data": {},
     "metadata": {},
     "output_type": "display_data"
    },
    {
     "data": {
      "application/vnd.holoviews_exec.v0+json": "",
      "text/html": [
       "<div id='1546'>\n",
       "\n",
       "\n",
       "\n",
       "\n",
       "\n",
       "  <div class=\"bk-root\" id=\"ee5da24c-b60b-40ef-921e-affe253c370c\" data-root-id=\"1546\"></div>\n",
       "</div>\n",
       "<script type=\"application/javascript\">(function(root) {\n",
       "  function embed_document(root) {\n",
       "    var docs_json = {\"0a711695-5b78-4d43-8cdb-fda117e331f1\":{\"defs\":[{\"extends\":null,\"module\":null,\"name\":\"ReactiveHTML1\",\"overrides\":[],\"properties\":[]},{\"extends\":null,\"module\":null,\"name\":\"FlexBox1\",\"overrides\":[],\"properties\":[{\"default\":\"flex-start\",\"kind\":null,\"name\":\"align_content\"},{\"default\":\"flex-start\",\"kind\":null,\"name\":\"align_items\"},{\"default\":\"row\",\"kind\":null,\"name\":\"flex_direction\"},{\"default\":\"wrap\",\"kind\":null,\"name\":\"flex_wrap\"},{\"default\":\"flex-start\",\"kind\":null,\"name\":\"justify_content\"}]},{\"extends\":null,\"module\":null,\"name\":\"GridStack1\",\"overrides\":[],\"properties\":[{\"default\":\"warn\",\"kind\":null,\"name\":\"mode\"},{\"default\":null,\"kind\":null,\"name\":\"ncols\"},{\"default\":null,\"kind\":null,\"name\":\"nrows\"},{\"default\":true,\"kind\":null,\"name\":\"allow_resize\"},{\"default\":true,\"kind\":null,\"name\":\"allow_drag\"},{\"default\":[],\"kind\":null,\"name\":\"state\"}]},{\"extends\":null,\"module\":null,\"name\":\"click1\",\"overrides\":[],\"properties\":[{\"default\":\"\",\"kind\":null,\"name\":\"terminal_output\"},{\"default\":\"\",\"kind\":null,\"name\":\"debug_name\"},{\"default\":0,\"kind\":null,\"name\":\"clears\"}]},{\"extends\":null,\"module\":null,\"name\":\"TemplateActions1\",\"overrides\":[],\"properties\":[{\"default\":0,\"kind\":null,\"name\":\"open_modal\"},{\"default\":0,\"kind\":null,\"name\":\"close_modal\"}]},{\"extends\":null,\"module\":null,\"name\":\"MaterialTemplateActions1\",\"overrides\":[],\"properties\":[{\"default\":0,\"kind\":null,\"name\":\"open_modal\"},{\"default\":0,\"kind\":null,\"name\":\"close_modal\"}]}],\"roots\":{\"references\":[{\"attributes\":{},\"id\":\"1592\",\"type\":\"BasicTickFormatter\"},{\"attributes\":{\"line_color\":\"#30a2da\",\"line_width\":2,\"x\":{\"field\":\"k\"},\"y\":{\"field\":\"inertia\"}},\"id\":\"1589\",\"type\":\"Line\"},{\"attributes\":{\"tools\":[{\"id\":\"1550\"},{\"id\":\"1568\"},{\"id\":\"1569\"},{\"id\":\"1570\"},{\"id\":\"1571\"},{\"id\":\"1572\"}]},\"id\":\"1574\",\"type\":\"Toolbar\"},{\"attributes\":{\"data\":{\"inertia\":{\"__ndarray__\":\"YjafYnL2gUAqbWBmntZoQKCmqsr9Bl1ATPWgT6xnVkDd0qR94pNQQAgzFtg6gkxAK4lQDTvuR0DyMOcNVaJDQOa1b3wwFkBA7S2/QpNqPEA=\",\"dtype\":\"float64\",\"order\":\"little\",\"shape\":[10]},\"k\":[1,2,3,4,5,6,7,8,9,10]},\"selected\":{\"id\":\"1582\"},\"selection_policy\":{\"id\":\"1605\"}},\"id\":\"1581\",\"type\":\"ColumnDataSource\"},{\"attributes\":{\"coordinates\":null,\"data_source\":{\"id\":\"1581\"},\"glyph\":{\"id\":\"1584\"},\"group\":null,\"hover_glyph\":null,\"muted_glyph\":{\"id\":\"1586\"},\"nonselection_glyph\":{\"id\":\"1585\"},\"selection_glyph\":{\"id\":\"1589\"},\"view\":{\"id\":\"1588\"}},\"id\":\"1587\",\"type\":\"GlyphRenderer\"},{\"attributes\":{\"bottom_units\":\"screen\",\"coordinates\":null,\"fill_alpha\":0.5,\"fill_color\":\"lightgrey\",\"group\":null,\"left_units\":\"screen\",\"level\":\"overlay\",\"line_alpha\":1.0,\"line_color\":\"black\",\"line_dash\":[4,4],\"line_width\":2,\"right_units\":\"screen\",\"syncable\":false,\"top_units\":\"screen\"},\"id\":\"1573\",\"type\":\"BoxAnnotation\"},{\"attributes\":{\"end\":629.4448064337391,\"reset_end\":629.4448064337391,\"reset_start\":-26.22264474443683,\"start\":-26.22264474443683,\"tags\":[[[\"inertia\",\"inertia\",null]]]},\"id\":\"1549\",\"type\":\"Range1d\"},{\"attributes\":{},\"id\":\"1568\",\"type\":\"SaveTool\"},{\"attributes\":{\"line_color\":\"#30a2da\",\"line_width\":2,\"x\":{\"field\":\"k\"},\"y\":{\"field\":\"inertia\"}},\"id\":\"1584\",\"type\":\"Line\"},{\"attributes\":{\"line_alpha\":0.1,\"line_color\":\"#30a2da\",\"line_width\":2,\"x\":{\"field\":\"k\"},\"y\":{\"field\":\"inertia\"}},\"id\":\"1585\",\"type\":\"Line\"},{\"attributes\":{},\"id\":\"1569\",\"type\":\"PanTool\"},{\"attributes\":{},\"id\":\"1598\",\"type\":\"AllLabels\"},{\"attributes\":{\"source\":{\"id\":\"1581\"}},\"id\":\"1588\",\"type\":\"CDSView\"},{\"attributes\":{},\"id\":\"1572\",\"type\":\"ResetTool\"},{\"attributes\":{},\"id\":\"1570\",\"type\":\"WheelZoomTool\"},{\"attributes\":{},\"id\":\"1582\",\"type\":\"Selection\"},{\"attributes\":{\"line_alpha\":0.2,\"line_color\":\"#30a2da\",\"line_width\":2,\"x\":{\"field\":\"k\"},\"y\":{\"field\":\"inertia\"}},\"id\":\"1586\",\"type\":\"Line\"},{\"attributes\":{\"overlay\":{\"id\":\"1573\"}},\"id\":\"1571\",\"type\":\"BoxZoomTool\"},{\"attributes\":{},\"id\":\"1605\",\"type\":\"UnionRenderers\"},{\"attributes\":{},\"id\":\"1565\",\"type\":\"BasicTicker\"},{\"attributes\":{},\"id\":\"1556\",\"type\":\"LinearScale\"},{\"attributes\":{\"coordinates\":null,\"group\":null,\"text\":\"Elbow Curve\",\"text_color\":\"black\",\"text_font_size\":\"12pt\"},\"id\":\"1552\",\"type\":\"Title\"},{\"attributes\":{\"end\":10.0,\"reset_end\":10.0,\"reset_start\":1.0,\"start\":1.0,\"tags\":[[[\"k\",\"k\",null]]]},\"id\":\"1548\",\"type\":\"Range1d\"},{\"attributes\":{\"axis\":{\"id\":\"1560\"},\"coordinates\":null,\"grid_line_color\":null,\"group\":null,\"ticker\":null},\"id\":\"1563\",\"type\":\"Grid\"},{\"attributes\":{\"callback\":null,\"renderers\":[{\"id\":\"1587\"}],\"tags\":[\"hv_created\"],\"tooltips\":[[\"k\",\"@{k}\"],[\"inertia\",\"@{inertia}\"]]},\"id\":\"1550\",\"type\":\"HoverTool\"},{\"attributes\":{\"ticks\":[1,2,3,4,5,6,7,8,9,10]},\"id\":\"1590\",\"type\":\"FixedTicker\"},{\"attributes\":{},\"id\":\"1558\",\"type\":\"LinearScale\"},{\"attributes\":{\"axis_label\":\"inertia\",\"coordinates\":null,\"formatter\":{\"id\":\"1597\"},\"group\":null,\"major_label_policy\":{\"id\":\"1598\"},\"ticker\":{\"id\":\"1565\"}},\"id\":\"1564\",\"type\":\"LinearAxis\"},{\"attributes\":{\"axis_label\":\"k\",\"coordinates\":null,\"formatter\":{\"id\":\"1592\"},\"group\":null,\"major_label_policy\":{\"id\":\"1593\"},\"ticker\":{\"id\":\"1590\"}},\"id\":\"1560\",\"type\":\"LinearAxis\"},{\"attributes\":{},\"id\":\"1593\",\"type\":\"AllLabels\"},{\"attributes\":{},\"id\":\"1597\",\"type\":\"BasicTickFormatter\"},{\"attributes\":{\"below\":[{\"id\":\"1560\"}],\"center\":[{\"id\":\"1563\"},{\"id\":\"1567\"}],\"height\":300,\"left\":[{\"id\":\"1564\"}],\"margin\":[5,5,5,5],\"min_border_bottom\":10,\"min_border_left\":10,\"min_border_right\":10,\"min_border_top\":10,\"renderers\":[{\"id\":\"1587\"}],\"sizing_mode\":\"fixed\",\"title\":{\"id\":\"1552\"},\"toolbar\":{\"id\":\"1574\"},\"width\":700,\"x_range\":{\"id\":\"1548\"},\"x_scale\":{\"id\":\"1556\"},\"y_range\":{\"id\":\"1549\"},\"y_scale\":{\"id\":\"1558\"}},\"id\":\"1551\",\"subtype\":\"Figure\",\"type\":\"Plot\"},{\"attributes\":{\"margin\":[5,5,5,5],\"name\":\"HSpacer02598\",\"sizing_mode\":\"stretch_width\"},\"id\":\"1617\",\"type\":\"Spacer\"},{\"attributes\":{\"axis\":{\"id\":\"1564\"},\"coordinates\":null,\"dimension\":1,\"grid_line_color\":null,\"group\":null,\"ticker\":null},\"id\":\"1567\",\"type\":\"Grid\"},{\"attributes\":{\"margin\":[5,5,5,5],\"name\":\"HSpacer02597\",\"sizing_mode\":\"stretch_width\"},\"id\":\"1547\",\"type\":\"Spacer\"},{\"attributes\":{\"children\":[{\"id\":\"1547\"},{\"id\":\"1551\"},{\"id\":\"1617\"}],\"margin\":[0,0,0,0],\"name\":\"Row02593\",\"tags\":[\"embedded\"]},\"id\":\"1546\",\"type\":\"Row\"}],\"root_ids\":[\"1546\"]},\"title\":\"Bokeh Application\",\"version\":\"2.4.2\"}};\n",
       "    var render_items = [{\"docid\":\"0a711695-5b78-4d43-8cdb-fda117e331f1\",\"root_ids\":[\"1546\"],\"roots\":{\"1546\":\"ee5da24c-b60b-40ef-921e-affe253c370c\"}}];\n",
       "    root.Bokeh.embed.embed_items_notebook(docs_json, render_items);\n",
       "  }\n",
       "  if (root.Bokeh !== undefined && root.Bokeh.Panel !== undefined) {\n",
       "    embed_document(root);\n",
       "  } else {\n",
       "    var attempts = 0;\n",
       "    var timer = setInterval(function(root) {\n",
       "      if (root.Bokeh !== undefined && root.Bokeh.Panel !== undefined) {\n",
       "        clearInterval(timer);\n",
       "        embed_document(root);\n",
       "      } else if (document.readyState == \"complete\") {\n",
       "        attempts++;\n",
       "        if (attempts > 200) {\n",
       "          clearInterval(timer);\n",
       "          console.log(\"Bokeh: ERROR: Unable to run BokehJS code because BokehJS library is missing\");\n",
       "        }\n",
       "      }\n",
       "    }, 25, root)\n",
       "  }\n",
       "})(window);</script>"
      ],
      "text/plain": [
       ":Curve   [k]   (inertia)"
      ]
     },
     "execution_count": 27,
     "metadata": {
      "application/vnd.holoviews_exec.v0+json": {
       "id": "1546"
      }
     },
     "output_type": "execute_result"
    }
   ],
   "source": [
    "# Find best value for K\n",
    "inertia= []\n",
    "k = list(range(1,11))\n",
    "\n",
    "# Calculate the inertia for th erange of K values\n",
    "for i in k:\n",
    "    km = KMeans(n_clusters=i,random_state=0)\n",
    "    km.fit(df_iris_pca)\n",
    "    inertia.append(km.inertia_)\n",
    "\n",
    "# Create the elbow curve\n",
    "elbow_data = {'k': k, 'inertia': inertia}\n",
    "df_elbow = pd.DataFrame(elbow_data)\n",
    "df_elbow.hvplot.line(x='k', y='inertia', xticks=k, title='Elbow Curve')"
   ]
  },
  {
   "cell_type": "code",
   "execution_count": 28,
   "metadata": {},
   "outputs": [
    {
     "data": {
      "text/html": [
       "<div>\n",
       "<style scoped>\n",
       "    .dataframe tbody tr th:only-of-type {\n",
       "        vertical-align: middle;\n",
       "    }\n",
       "\n",
       "    .dataframe tbody tr th {\n",
       "        vertical-align: top;\n",
       "    }\n",
       "\n",
       "    .dataframe thead th {\n",
       "        text-align: right;\n",
       "    }\n",
       "</style>\n",
       "<table border=\"1\" class=\"dataframe\">\n",
       "  <thead>\n",
       "    <tr style=\"text-align: right;\">\n",
       "      <th></th>\n",
       "      <th>principal component 1</th>\n",
       "      <th>principal component 2</th>\n",
       "      <th>class</th>\n",
       "    </tr>\n",
       "  </thead>\n",
       "  <tbody>\n",
       "    <tr>\n",
       "      <th>0</th>\n",
       "      <td>-2.264542</td>\n",
       "      <td>0.505704</td>\n",
       "      <td>0</td>\n",
       "    </tr>\n",
       "    <tr>\n",
       "      <th>1</th>\n",
       "      <td>-2.086426</td>\n",
       "      <td>-0.655405</td>\n",
       "      <td>0</td>\n",
       "    </tr>\n",
       "    <tr>\n",
       "      <th>2</th>\n",
       "      <td>-2.367950</td>\n",
       "      <td>-0.318477</td>\n",
       "      <td>0</td>\n",
       "    </tr>\n",
       "    <tr>\n",
       "      <th>3</th>\n",
       "      <td>-2.304197</td>\n",
       "      <td>-0.575368</td>\n",
       "      <td>0</td>\n",
       "    </tr>\n",
       "    <tr>\n",
       "      <th>4</th>\n",
       "      <td>-2.388777</td>\n",
       "      <td>0.674767</td>\n",
       "      <td>0</td>\n",
       "    </tr>\n",
       "  </tbody>\n",
       "</table>\n",
       "</div>"
      ],
      "text/plain": [
       "   principal component 1  principal component 2  class\n",
       "0              -2.264542               0.505704      0\n",
       "1              -2.086426              -0.655405      0\n",
       "2              -2.367950              -0.318477      0\n",
       "3              -2.304197              -0.575368      0\n",
       "4              -2.388777               0.674767      0"
      ]
     },
     "execution_count": 28,
     "metadata": {},
     "output_type": "execute_result"
    }
   ],
   "source": [
    "# Initialize the K-Means model\n",
    "model = KMeans(n_clusters=3, random_state=0)\n",
    "\n",
    "model.fit(df_iris_pca)\n",
    "predictions= model.predict(df_iris_pca)\n",
    "\n",
    "df_iris_pca['class']= model.labels_\n",
    "df_iris_pca.head()"
   ]
  },
  {
   "cell_type": "code",
   "execution_count": 30,
   "metadata": {},
   "outputs": [
    {
     "data": {},
     "metadata": {},
     "output_type": "display_data"
    },
    {
     "data": {
      "application/vnd.holoviews_exec.v0+json": "",
      "text/html": [
       "<div id='1664'>\n",
       "\n",
       "\n",
       "\n",
       "\n",
       "\n",
       "  <div class=\"bk-root\" id=\"fda36510-8b34-4778-898e-9d63340ba7b9\" data-root-id=\"1664\"></div>\n",
       "</div>\n",
       "<script type=\"application/javascript\">(function(root) {\n",
       "  function embed_document(root) {\n",
       "    var docs_json = {\"73d991a9-a0c5-4cd5-881f-7ef12a40ed1b\":{\"defs\":[{\"extends\":null,\"module\":null,\"name\":\"ReactiveHTML1\",\"overrides\":[],\"properties\":[]},{\"extends\":null,\"module\":null,\"name\":\"FlexBox1\",\"overrides\":[],\"properties\":[{\"default\":\"flex-start\",\"kind\":null,\"name\":\"align_content\"},{\"default\":\"flex-start\",\"kind\":null,\"name\":\"align_items\"},{\"default\":\"row\",\"kind\":null,\"name\":\"flex_direction\"},{\"default\":\"wrap\",\"kind\":null,\"name\":\"flex_wrap\"},{\"default\":\"flex-start\",\"kind\":null,\"name\":\"justify_content\"}]},{\"extends\":null,\"module\":null,\"name\":\"GridStack1\",\"overrides\":[],\"properties\":[{\"default\":\"warn\",\"kind\":null,\"name\":\"mode\"},{\"default\":null,\"kind\":null,\"name\":\"ncols\"},{\"default\":null,\"kind\":null,\"name\":\"nrows\"},{\"default\":true,\"kind\":null,\"name\":\"allow_resize\"},{\"default\":true,\"kind\":null,\"name\":\"allow_drag\"},{\"default\":[],\"kind\":null,\"name\":\"state\"}]},{\"extends\":null,\"module\":null,\"name\":\"click1\",\"overrides\":[],\"properties\":[{\"default\":\"\",\"kind\":null,\"name\":\"terminal_output\"},{\"default\":\"\",\"kind\":null,\"name\":\"debug_name\"},{\"default\":0,\"kind\":null,\"name\":\"clears\"}]},{\"extends\":null,\"module\":null,\"name\":\"TemplateActions1\",\"overrides\":[],\"properties\":[{\"default\":0,\"kind\":null,\"name\":\"open_modal\"},{\"default\":0,\"kind\":null,\"name\":\"close_modal\"}]},{\"extends\":null,\"module\":null,\"name\":\"MaterialTemplateActions1\",\"overrides\":[],\"properties\":[{\"default\":0,\"kind\":null,\"name\":\"open_modal\"},{\"default\":0,\"kind\":null,\"name\":\"close_modal\"}]}],\"roots\":{\"references\":[{\"attributes\":{\"axis\":{\"id\":\"1680\"},\"coordinates\":null,\"grid_line_color\":null,\"group\":null,\"ticker\":null},\"id\":\"1683\",\"type\":\"Grid\"},{\"attributes\":{\"angle\":{\"value\":0.0},\"fill_alpha\":{\"value\":1.0},\"fill_color\":{\"value\":\"#e5ae38\"},\"hatch_alpha\":{\"value\":1.0},\"hatch_color\":{\"value\":\"#e5ae38\"},\"hatch_scale\":{\"value\":12.0},\"hatch_weight\":{\"value\":1.0},\"line_alpha\":{\"value\":1.0},\"line_cap\":{\"value\":\"butt\"},\"line_color\":{\"value\":\"#e5ae38\"},\"line_dash\":{\"value\":[]},\"line_dash_offset\":{\"value\":0},\"line_join\":{\"value\":\"bevel\"},\"line_width\":{\"value\":1},\"marker\":{\"value\":\"circle\"},\"size\":{\"value\":5.477225575051661},\"x\":{\"field\":\"principal component 1\"},\"y\":{\"field\":\"principal component 2\"}},\"id\":\"1773\",\"type\":\"Scatter\"},{\"attributes\":{},\"id\":\"1702\",\"type\":\"BasicTickFormatter\"},{\"attributes\":{\"below\":[{\"id\":\"1680\"}],\"center\":[{\"id\":\"1683\"},{\"id\":\"1687\"}],\"height\":300,\"left\":[{\"id\":\"1684\"}],\"margin\":[5,5,5,5],\"min_border_bottom\":10,\"min_border_left\":10,\"min_border_right\":10,\"min_border_top\":10,\"renderers\":[{\"id\":\"1713\"},{\"id\":\"1734\"},{\"id\":\"1756\"}],\"right\":[{\"id\":\"1725\"}],\"sizing_mode\":\"fixed\",\"title\":{\"id\":\"1672\"},\"toolbar\":{\"id\":\"1694\"},\"width\":700,\"x_range\":{\"id\":\"1666\"},\"x_scale\":{\"id\":\"1676\"},\"y_range\":{\"id\":\"1667\"},\"y_scale\":{\"id\":\"1678\"}},\"id\":\"1671\",\"subtype\":\"Figure\",\"type\":\"Plot\"},{\"attributes\":{\"angle\":{\"value\":0.0},\"fill_alpha\":{\"value\":1.0},\"fill_color\":{\"value\":\"#30a2da\"},\"hatch_alpha\":{\"value\":1.0},\"hatch_color\":{\"value\":\"#30a2da\"},\"hatch_scale\":{\"value\":12.0},\"hatch_weight\":{\"value\":1.0},\"line_alpha\":{\"value\":1.0},\"line_cap\":{\"value\":\"butt\"},\"line_color\":{\"value\":\"#30a2da\"},\"line_dash\":{\"value\":[]},\"line_dash_offset\":{\"value\":0},\"line_join\":{\"value\":\"bevel\"},\"line_width\":{\"value\":1},\"marker\":{\"value\":\"circle\"},\"size\":{\"value\":5.477225575051661},\"x\":{\"field\":\"principal component 1\"},\"y\":{\"field\":\"principal component 2\"}},\"id\":\"1727\",\"type\":\"Scatter\"},{\"attributes\":{\"source\":{\"id\":\"1728\"}},\"id\":\"1735\",\"type\":\"CDSView\"},{\"attributes\":{\"coordinates\":null,\"group\":null,\"text_color\":\"black\",\"text_font_size\":\"12pt\"},\"id\":\"1672\",\"type\":\"Title\"},{\"attributes\":{},\"id\":\"1681\",\"type\":\"BasicTicker\"},{\"attributes\":{\"fill_color\":{\"value\":\"#fc4f30\"},\"hatch_color\":{\"value\":\"#fc4f30\"},\"line_color\":{\"value\":\"#fc4f30\"},\"size\":{\"value\":5.477225575051661},\"x\":{\"field\":\"principal component 1\"},\"y\":{\"field\":\"principal component 2\"}},\"id\":\"1731\",\"type\":\"Scatter\"},{\"attributes\":{},\"id\":\"1685\",\"type\":\"BasicTicker\"},{\"attributes\":{\"label\":{\"value\":\"1\"},\"renderers\":[{\"id\":\"1734\"}]},\"id\":\"1748\",\"type\":\"LegendItem\"},{\"attributes\":{},\"id\":\"1745\",\"type\":\"UnionRenderers\"},{\"attributes\":{\"label\":{\"value\":\"2\"},\"renderers\":[{\"id\":\"1756\"}]},\"id\":\"1772\",\"type\":\"LegendItem\"},{\"attributes\":{\"fill_alpha\":{\"value\":0.2},\"fill_color\":{\"value\":\"#30a2da\"},\"hatch_alpha\":{\"value\":0.2},\"hatch_color\":{\"value\":\"#30a2da\"},\"line_alpha\":{\"value\":0.2},\"line_color\":{\"value\":\"#30a2da\"},\"size\":{\"value\":5.477225575051661},\"x\":{\"field\":\"principal component 1\"},\"y\":{\"field\":\"principal component 2\"}},\"id\":\"1712\",\"type\":\"Scatter\"},{\"attributes\":{\"overlay\":{\"id\":\"1693\"}},\"id\":\"1691\",\"type\":\"BoxZoomTool\"},{\"attributes\":{\"end\":3.569854510235274,\"reset_end\":3.569854510235274,\"reset_start\":-3.0348831212643517,\"start\":-3.0348831212643517,\"tags\":[[[\"principal component 1\",\"principal component 1\",null]]]},\"id\":\"1666\",\"type\":\"Range1d\"},{\"attributes\":{},\"id\":\"1678\",\"type\":\"LinearScale\"},{\"attributes\":{\"data\":{\"class\":{\"__ndarray__\":\"AAAAAAAAAAAAAAAAAAAAAAAAAAAAAAAAAAAAAAAAAAAAAAAAAAAAAAAAAAAAAAAAAAAAAAAAAAAAAAAAAAAAAAAAAAAAAAAAAAAAAAAAAAAAAAAAAAAAAAAAAAAAAAAAAAAAAAAAAAAAAAAAAAAAAAAAAAAAAAAAAAAAAAAAAAAAAAAAAAAAAAAAAAAAAAAAAAAAAAAAAAAAAAAAAAAAAAAAAAAAAAAAAAAAAAAAAAAAAAAAAAAAAAAAAAAAAAAAAAAAAAAAAAA=\",\"dtype\":\"int32\",\"order\":\"little\",\"shape\":[50]},\"principal component 1\":{\"__ndarray__\":\"NhG/DcgdAsCdflXa/7AAwCwtSgGQ8QLAqnjV6/5uAsB7OOBfNxwDwK8JAJp1kADA6FhZG9GQA8C1vPx66N4BwLbvZ05UvALA4NUzb2iCAcDEACQK0k4BwHyPWzp4ngLAakHW4evKAcBsYBiPIx4FwN5kYiHQiQHA6sLFMQADAsC/icmkO58BwNDnRqd8hQHADrKL2CBO/r9tMd43N7gCwDQu6+IFov6/JnpNIB2jAcAhHszufzEGwG6yHOBnIP2/cW9EsmPTAcBhStBn+E//v+UJWiugagDAzRcE6nVYAcDx6Z27WB8BwCANM3l7JgLA3OURJwwoAcCsCNRTnk/9v3SUD3eZ3QTAxIxIYeyAA8Dg1TNvaIIBwALB4qBfsAHApwtPDPdaAMDg1TNvaIIBwJrdMoLUfAPAUiP02UddAcA54QHLzkoCwFtzDEaD8v2/W/lj5HF2BMD0iQQfsG3/v/eHnMYlEQHAnu7lFFWaAMDO+qMb0QwDwI5moB9/LwPAKZosq3LQAcDajpZMy6UBwA==\",\"dtype\":\"float64\",\"order\":\"little\",\"shape\":[50]},\"principal component 2\":{\"__ndarray__\":\"WO9787ku4D/sF8lWE/nkv27YpqjuYdS/CSSQjGlp4r/P0afLsZflP7S+IZP5S/g/VySoGooWsz9ueXQ10LHPP8oIOjG4hfG/hU6pnFa23L9jMKXTKCHxPzO/qP2XTMQ/o6o3kBix5r+BiXLvZwbuv8+ryBtaPf4/jrWrfGrHBUBZjF03Ujj4PzL+/04udeA/7Uk0V9Tl9j8lpZIPTofyP17AlsG9jNs/1fKSxId67j9Fu+o4P1TfPxrWDBwFVLs/U+1BJITCxD+1YRod23Pjv2mqjuRgBtE/aYxIfx6q4T/SGaA2hIvVP1ZBWpX4JtS/QAayRej43r8Blx54QH/cP7RxJTRvQf0/wLJwma57AUCFTqmcVrbcvyDn16FhmMe/qeVDvSnr5T+FTqmcVrbcv2/EP1q7Ouy/b0SP1gm80j9OwmaGk/PdP3x/28YcnwLAmu8l3FML3b9kssu+Q9XfP+zeGJkvvvI/+Iwv2S8k5r9PqsG4/WjyP8yttwhpMde/c+6vZGBo8D/D7UmWeoGgPw==\",\"dtype\":\"float64\",\"order\":\"little\",\"shape\":[50]},\"principal_component_1\":{\"__ndarray__\":\"NhG/DcgdAsCdflXa/7AAwCwtSgGQ8QLAqnjV6/5uAsB7OOBfNxwDwK8JAJp1kADA6FhZG9GQA8C1vPx66N4BwLbvZ05UvALA4NUzb2iCAcDEACQK0k4BwHyPWzp4ngLAakHW4evKAcBsYBiPIx4FwN5kYiHQiQHA6sLFMQADAsC/icmkO58BwNDnRqd8hQHADrKL2CBO/r9tMd43N7gCwDQu6+IFov6/JnpNIB2jAcAhHszufzEGwG6yHOBnIP2/cW9EsmPTAcBhStBn+E//v+UJWiugagDAzRcE6nVYAcDx6Z27WB8BwCANM3l7JgLA3OURJwwoAcCsCNRTnk/9v3SUD3eZ3QTAxIxIYeyAA8Dg1TNvaIIBwALB4qBfsAHApwtPDPdaAMDg1TNvaIIBwJrdMoLUfAPAUiP02UddAcA54QHLzkoCwFtzDEaD8v2/W/lj5HF2BMD0iQQfsG3/v/eHnMYlEQHAnu7lFFWaAMDO+qMb0QwDwI5moB9/LwPAKZosq3LQAcDajpZMy6UBwA==\",\"dtype\":\"float64\",\"order\":\"little\",\"shape\":[50]},\"principal_component_2\":{\"__ndarray__\":\"WO9787ku4D/sF8lWE/nkv27YpqjuYdS/CSSQjGlp4r/P0afLsZflP7S+IZP5S/g/VySoGooWsz9ueXQ10LHPP8oIOjG4hfG/hU6pnFa23L9jMKXTKCHxPzO/qP2XTMQ/o6o3kBix5r+BiXLvZwbuv8+ryBtaPf4/jrWrfGrHBUBZjF03Ujj4PzL+/04udeA/7Uk0V9Tl9j8lpZIPTofyP17AlsG9jNs/1fKSxId67j9Fu+o4P1TfPxrWDBwFVLs/U+1BJITCxD+1YRod23Pjv2mqjuRgBtE/aYxIfx6q4T/SGaA2hIvVP1ZBWpX4JtS/QAayRej43r8Blx54QH/cP7RxJTRvQf0/wLJwma57AUCFTqmcVrbcvyDn16FhmMe/qeVDvSnr5T+FTqmcVrbcv2/EP1q7Ouy/b0SP1gm80j9OwmaGk/PdP3x/28YcnwLAmu8l3FML3b9kssu+Q9XfP+zeGJkvvvI/+Iwv2S8k5r9PqsG4/WjyP8yttwhpMde/c+6vZGBo8D/D7UmWeoGgPw==\",\"dtype\":\"float64\",\"order\":\"little\",\"shape\":[50]}},\"selected\":{\"id\":\"1708\"},\"selection_policy\":{\"id\":\"1722\"}},\"id\":\"1707\",\"type\":\"ColumnDataSource\"},{\"attributes\":{\"fill_color\":{\"value\":\"#30a2da\"},\"hatch_color\":{\"value\":\"#30a2da\"},\"line_color\":{\"value\":\"#30a2da\"},\"size\":{\"value\":5.477225575051661},\"x\":{\"field\":\"principal component 1\"},\"y\":{\"field\":\"principal component 2\"}},\"id\":\"1710\",\"type\":\"Scatter\"},{\"attributes\":{\"coordinates\":null,\"data_source\":{\"id\":\"1750\"},\"glyph\":{\"id\":\"1753\"},\"group\":null,\"hover_glyph\":null,\"muted_glyph\":{\"id\":\"1755\"},\"nonselection_glyph\":{\"id\":\"1754\"},\"selection_glyph\":{\"id\":\"1773\"},\"view\":{\"id\":\"1757\"}},\"id\":\"1756\",\"type\":\"GlyphRenderer\"},{\"attributes\":{\"axis_label\":\"principal component 2\",\"coordinates\":null,\"formatter\":{\"id\":\"1705\"},\"group\":null,\"major_label_policy\":{\"id\":\"1706\"},\"ticker\":{\"id\":\"1685\"}},\"id\":\"1684\",\"type\":\"LinearAxis\"},{\"attributes\":{\"angle\":{\"value\":0.0},\"fill_alpha\":{\"value\":1.0},\"fill_color\":{\"value\":\"#fc4f30\"},\"hatch_alpha\":{\"value\":1.0},\"hatch_color\":{\"value\":\"#fc4f30\"},\"hatch_scale\":{\"value\":12.0},\"hatch_weight\":{\"value\":1.0},\"line_alpha\":{\"value\":1.0},\"line_cap\":{\"value\":\"butt\"},\"line_color\":{\"value\":\"#fc4f30\"},\"line_dash\":{\"value\":[]},\"line_dash_offset\":{\"value\":0},\"line_join\":{\"value\":\"bevel\"},\"line_width\":{\"value\":1},\"marker\":{\"value\":\"circle\"},\"size\":{\"value\":5.477225575051661},\"x\":{\"field\":\"principal component 1\"},\"y\":{\"field\":\"principal component 2\"}},\"id\":\"1749\",\"type\":\"Scatter\"},{\"attributes\":{\"fill_alpha\":{\"value\":0.1},\"fill_color\":{\"value\":\"#fc4f30\"},\"hatch_alpha\":{\"value\":0.1},\"hatch_color\":{\"value\":\"#fc4f30\"},\"line_alpha\":{\"value\":0.1},\"line_color\":{\"value\":\"#fc4f30\"},\"size\":{\"value\":5.477225575051661},\"x\":{\"field\":\"principal component 1\"},\"y\":{\"field\":\"principal component 2\"}},\"id\":\"1732\",\"type\":\"Scatter\"},{\"attributes\":{\"end\":3.2604144520280904,\"reset_end\":3.2604144520280904,\"reset_start\":-3.1961060534153822,\"start\":-3.1961060534153822,\"tags\":[[[\"principal component 2\",\"principal component 2\",null]]]},\"id\":\"1667\",\"type\":\"Range1d\"},{\"attributes\":{\"axis_label\":\"principal component 1\",\"coordinates\":null,\"formatter\":{\"id\":\"1702\"},\"group\":null,\"major_label_policy\":{\"id\":\"1703\"},\"ticker\":{\"id\":\"1681\"}},\"id\":\"1680\",\"type\":\"LinearAxis\"},{\"attributes\":{\"data\":{\"class\":{\"__ndarray__\":\"AQAAAAEAAAABAAAAAQAAAAEAAAABAAAAAQAAAAEAAAABAAAAAQAAAAEAAAABAAAAAQAAAAEAAAABAAAAAQAAAAEAAAABAAAAAQAAAAEAAAABAAAAAQAAAAEAAAABAAAAAQAAAAEAAAABAAAAAQAAAAEAAAABAAAAAQAAAAEAAAABAAAAAQAAAAEAAAABAAAAAQAAAAEAAAABAAAAAQAAAAEAAAABAAAAAQAAAAEAAAABAAAAAQAAAAEAAAABAAAAAQAAAAEAAAABAAAAAQAAAAEAAAA=\",\"dtype\":\"int32\",\"order\":\"little\",\"shape\":[53]},\"principal component 1\":{\"__ndarray__\":\"eBWMhntt2T9GnJZFWCnxP2GBHlf2mtg/7P4dZv7c379qGywXnaPtP6fBkDZaWXQ/5t2FPizsv7+rz+h8JxTcP1NNsk78puE/NEUqJwTz5j+qz63ghxOjv5Ru06S8RdY/27Iv7V2iwz9k6iTH4XHzPyvYZACmFsQ/U61SDE473j8NyjX41qXzP4Yxy7fjI+Q/GNCK7kVq5j8ahVUnIzDlP8wb1FJINai/SD98rN0cvz8gkFg5BOqMPxXf6GWaNc4/C81ZRTXo8D+asJMoZVfMP82bvwf1kvA/ql4TnFcrsT9yNwN1kKDRP8V9yQ7wbdE/oY3+VwPx4z+w3kvRzh7VP8LEFNWD6de/0yTllsIb0j8jX21EL8y2P/sjQhu5t8w/7gRG5kBd4j/XjFDrsj/dv9yA0gDGJNA/218IKHdz8j/voUp+m+/WP1j35HGkDPQ/GeKIxsts9z/6RPpdThD0P4hitwdQKu8/8YqkmmBE9T9efP3wHsDyP9z2a9zEx/E/JjazatUo8z+SvvFQw4ztP9tfCCh3c/I/R9VbMZXv+D8z2SvtkrLuPw==\",\"dtype\":\"float64\",\"order\":\"little\",\"shape\":[53]},\"principal component 2\":{\"__ndarray__\":\"jc0hw3Uh/L+TAFcJ4hrLv+sVlNb76eK/X5Sza/eU/b9xi2FUCw+fP+TLA01tePC/8YKEXbZDBcCa9gYTsCWuv0jNqHx+XPy/1Xstxk+8x78pLLY26rLbv/S9JkVKZsi/kYnUeJ9N6b9h5T6HOSL6v7pAi9CC2fS/swipiLWp2r9Er8dW+Rvuv+TFU70Krdq/LTfCViNBsL9ZGdg+X7fMv2cFEZBX6vC/aMJ8cXkE+b9p1i92nSz5vz+ekB1e1Oi/Ci0SzX5h5L9ubj2aaPnRv7uLs++KR/a/fcdo/yc3y788ZwsN7Ub1vyMJ/oM76fG/4sUd1SI0nD9k68QlE6Xvv8zC5Ku5JADAnEs7dJBT67+hjkY+Z2PGv0f2R1TcWdi/hDq1mhitw7+y+86JpaH4v6N6HI5KEeO/RQhbdkNx5r83lg29Jfb4v44xaImirfK/n69g7els3L9NKnQyOXv7vzzNWXwPR+K/P2wdsBUn37/A2YlbzWjUv/qTgLFv8dK/SK/b9jwm6r+kAFtSILGTP0UIW3ZDcea/vlrVOlT47L/CCSw2mtGWvw==\",\"dtype\":\"float64\",\"order\":\"little\",\"shape\":[53]},\"principal_component_1\":{\"__ndarray__\":\"eBWMhntt2T9GnJZFWCnxP2GBHlf2mtg/7P4dZv7c379qGywXnaPtP6fBkDZaWXQ/5t2FPizsv7+rz+h8JxTcP1NNsk78puE/NEUqJwTz5j+qz63ghxOjv5Ru06S8RdY/27Iv7V2iwz9k6iTH4XHzPyvYZACmFsQ/U61SDE473j8NyjX41qXzP4Yxy7fjI+Q/GNCK7kVq5j8ahVUnIzDlP8wb1FJINai/SD98rN0cvz8gkFg5BOqMPxXf6GWaNc4/C81ZRTXo8D+asJMoZVfMP82bvwf1kvA/ql4TnFcrsT9yNwN1kKDRP8V9yQ7wbdE/oY3+VwPx4z+w3kvRzh7VP8LEFNWD6de/0yTllsIb0j8jX21EL8y2P/sjQhu5t8w/7gRG5kBd4j/XjFDrsj/dv9yA0gDGJNA/218IKHdz8j/voUp+m+/WP1j35HGkDPQ/GeKIxsts9z/6RPpdThD0P4hitwdQKu8/8YqkmmBE9T9efP3wHsDyP9z2a9zEx/E/JjazatUo8z+SvvFQw4ztP9tfCCh3c/I/R9VbMZXv+D8z2SvtkrLuPw==\",\"dtype\":\"float64\",\"order\":\"little\",\"shape\":[53]},\"principal_component_2\":{\"__ndarray__\":\"jc0hw3Uh/L+TAFcJ4hrLv+sVlNb76eK/X5Sza/eU/b9xi2FUCw+fP+TLA01tePC/8YKEXbZDBcCa9gYTsCWuv0jNqHx+XPy/1Xstxk+8x78pLLY26rLbv/S9JkVKZsi/kYnUeJ9N6b9h5T6HOSL6v7pAi9CC2fS/swipiLWp2r9Er8dW+Rvuv+TFU70Krdq/LTfCViNBsL9ZGdg+X7fMv2cFEZBX6vC/aMJ8cXkE+b9p1i92nSz5vz+ekB1e1Oi/Ci0SzX5h5L9ubj2aaPnRv7uLs++KR/a/fcdo/yc3y788ZwsN7Ub1vyMJ/oM76fG/4sUd1SI0nD9k68QlE6Xvv8zC5Ku5JADAnEs7dJBT67+hjkY+Z2PGv0f2R1TcWdi/hDq1mhitw7+y+86JpaH4v6N6HI5KEeO/RQhbdkNx5r83lg29Jfb4v44xaImirfK/n69g7els3L9NKnQyOXv7vzzNWXwPR+K/P2wdsBUn37/A2YlbzWjUv/qTgLFv8dK/SK/b9jwm6r+kAFtSILGTP0UIW3ZDcea/vlrVOlT47L/CCSw2mtGWvw==\",\"dtype\":\"float64\",\"order\":\"little\",\"shape\":[53]}},\"selected\":{\"id\":\"1729\"},\"selection_policy\":{\"id\":\"1745\"}},\"id\":\"1728\",\"type\":\"ColumnDataSource\"},{\"attributes\":{\"fill_alpha\":{\"value\":0.2},\"fill_color\":{\"value\":\"#fc4f30\"},\"hatch_alpha\":{\"value\":0.2},\"hatch_color\":{\"value\":\"#fc4f30\"},\"line_alpha\":{\"value\":0.2},\"line_color\":{\"value\":\"#fc4f30\"},\"size\":{\"value\":5.477225575051661},\"x\":{\"field\":\"principal component 1\"},\"y\":{\"field\":\"principal component 2\"}},\"id\":\"1733\",\"type\":\"Scatter\"},{\"attributes\":{\"data\":{\"class\":{\"__ndarray__\":\"AgAAAAIAAAACAAAAAgAAAAIAAAACAAAAAgAAAAIAAAACAAAAAgAAAAIAAAACAAAAAgAAAAIAAAACAAAAAgAAAAIAAAACAAAAAgAAAAIAAAACAAAAAgAAAAIAAAACAAAAAgAAAAIAAAACAAAAAgAAAAIAAAACAAAAAgAAAAIAAAACAAAAAgAAAAIAAAACAAAAAgAAAAIAAAACAAAAAgAAAAIAAAACAAAAAgAAAAIAAAACAAAAAgAAAAIAAAA=\",\"dtype\":\"int32\",\"order\":\"little\",\"shape\":[47]},\"principal component 1\":{\"__ndarray__\":\"b5icP/Wp8T/mdLjqfHDnP0VUdjeu3/M/i32nUXn15z95t9eWSwfsPwDqCkTLn+c/YYkX1wP06z/mYaNJSxH0PxNwyrRZu/U/WSqW1lWi2z+hboqoZcrwP11oZCMRkP0/WaOtkJqmAUCpkwP82gT3P76of1zh4v0/bkK5SJgIBkDhZzhbjmwCQPMm68uNAwBAHU9oqvMjAkBpi3vYw9r1P6cQOb/Elfk/Na6UReUl/j8V0QQIDXj5P3QdkBhdivc/PPYnSsB/A0AuhisDH3kKQJPn9rPvUgBAMy4taDwvB0A7qLnnkUT7P6AJnj3aUv8/HNLu7wVR8D+a2hYHfpP8P3kbVl0h1v0/hfhsDuZ7A0AutjE3VocCQGUtB9QUxP0/i042KVhoBkCt+a/eUEj5P+vOTXR+jfU/NwUQICao/T8MDMQGFyEAQLNqwqkqc/4/Ng5TGLJYAEC2eb2NdgMAQOvgNY2o7f0/8oJComFV+D8I9OTEsgX2Pw==\",\"dtype\":\"float64\",\"order\":\"little\",\"shape\":[47]},\"principal component 2\":{\"__ndarray__\":\"znb2/Z2e6z8WPDfKBSjjP8/NPSGgrOM/sF+rWRnr6D9aOXqk51HgP5dBqiETwtk/UJ7yIJwL0D8ziLBClya1vzoteShkC9U/Dwg+Gkhd6z+5k6QJ17XgP4Ysy2Xw5Os/BMTpFji+4T+BlDOr+pqpv/JEGSLnotI/mAetLdY66T9AO0mDhTXaP7CQnq/nKee/u42XATu+/j8yoQKF0jTmP2l9L85taNu/aadDi22E2j8xfGgVRqrlPzM3rDJONNA/fjlsMT10BEBykqQTDFhjvz10hSJpCe0/V5KR42l12T+QWt+y8znwP5mAK36oDfA/gqj7cmzHsD/ZvEvBKb3Iv4jkXX2vxeE/s17ipF+Szz8f4TWwbAIFQIKBO1NYo8e/QCs1XS0I6z+mj2oE2yjxPxv8A+M9Bts/t6TAq3yE5T/Z+zteX4jjP9t2Ilnq8+U/uCJfoH+r6z88eOdp3MbwP/hDMiongNg/ettvjSkT0T8fLdG5BEPwPw==\",\"dtype\":\"float64\",\"order\":\"little\",\"shape\":[47]},\"principal_component_1\":{\"__ndarray__\":\"b5icP/Wp8T/mdLjqfHDnP0VUdjeu3/M/i32nUXn15z95t9eWSwfsPwDqCkTLn+c/YYkX1wP06z/mYaNJSxH0PxNwyrRZu/U/WSqW1lWi2z+hboqoZcrwP11oZCMRkP0/WaOtkJqmAUCpkwP82gT3P76of1zh4v0/bkK5SJgIBkDhZzhbjmwCQPMm68uNAwBAHU9oqvMjAkBpi3vYw9r1P6cQOb/Elfk/Na6UReUl/j8V0QQIDXj5P3QdkBhdivc/PPYnSsB/A0AuhisDH3kKQJPn9rPvUgBAMy4taDwvB0A7qLnnkUT7P6AJnj3aUv8/HNLu7wVR8D+a2hYHfpP8P3kbVl0h1v0/hfhsDuZ7A0AutjE3VocCQGUtB9QUxP0/i042KVhoBkCt+a/eUEj5P+vOTXR+jfU/NwUQICao/T8MDMQGFyEAQLNqwqkqc/4/Ng5TGLJYAEC2eb2NdgMAQOvgNY2o7f0/8oJComFV+D8I9OTEsgX2Pw==\",\"dtype\":\"float64\",\"order\":\"little\",\"shape\":[47]},\"principal_component_2\":{\"__ndarray__\":\"znb2/Z2e6z8WPDfKBSjjP8/NPSGgrOM/sF+rWRnr6D9aOXqk51HgP5dBqiETwtk/UJ7yIJwL0D8ziLBClya1vzoteShkC9U/Dwg+Gkhd6z+5k6QJ17XgP4Ysy2Xw5Os/BMTpFji+4T+BlDOr+pqpv/JEGSLnotI/mAetLdY66T9AO0mDhTXaP7CQnq/nKee/u42XATu+/j8yoQKF0jTmP2l9L85taNu/aadDi22E2j8xfGgVRqrlPzM3rDJONNA/fjlsMT10BEBykqQTDFhjvz10hSJpCe0/V5KR42l12T+QWt+y8znwP5mAK36oDfA/gqj7cmzHsD/ZvEvBKb3Iv4jkXX2vxeE/s17ipF+Szz8f4TWwbAIFQIKBO1NYo8e/QCs1XS0I6z+mj2oE2yjxPxv8A+M9Bts/t6TAq3yE5T/Z+zteX4jjP9t2Ilnq8+U/uCJfoH+r6z88eOdp3MbwP/hDMiongNg/ettvjSkT0T8fLdG5BEPwPw==\",\"dtype\":\"float64\",\"order\":\"little\",\"shape\":[47]}},\"selected\":{\"id\":\"1751\"},\"selection_policy\":{\"id\":\"1769\"}},\"id\":\"1750\",\"type\":\"ColumnDataSource\"},{\"attributes\":{\"callback\":null,\"renderers\":[{\"id\":\"1713\"},{\"id\":\"1734\"},{\"id\":\"1756\"}],\"tags\":[\"hv_created\"],\"tooltips\":[[\"class\",\"@{class}\"],[\"principal component 1\",\"@{principal_component_1}\"],[\"principal component 2\",\"@{principal_component_2}\"]]},\"id\":\"1668\",\"type\":\"HoverTool\"},{\"attributes\":{},\"id\":\"1769\",\"type\":\"UnionRenderers\"},{\"attributes\":{\"axis\":{\"id\":\"1684\"},\"coordinates\":null,\"dimension\":1,\"grid_line_color\":null,\"group\":null,\"ticker\":null},\"id\":\"1687\",\"type\":\"Grid\"},{\"attributes\":{\"label\":{\"value\":\"0\"},\"renderers\":[{\"id\":\"1713\"}]},\"id\":\"1726\",\"type\":\"LegendItem\"},{\"attributes\":{\"click_policy\":\"mute\",\"coordinates\":null,\"group\":null,\"items\":[{\"id\":\"1726\"},{\"id\":\"1748\"},{\"id\":\"1772\"}],\"location\":[0,0],\"title\":\"class\"},\"id\":\"1725\",\"type\":\"Legend\"},{\"attributes\":{},\"id\":\"1706\",\"type\":\"AllLabels\"},{\"attributes\":{},\"id\":\"1705\",\"type\":\"BasicTickFormatter\"},{\"attributes\":{},\"id\":\"1722\",\"type\":\"UnionRenderers\"},{\"attributes\":{\"coordinates\":null,\"data_source\":{\"id\":\"1728\"},\"glyph\":{\"id\":\"1731\"},\"group\":null,\"hover_glyph\":null,\"muted_glyph\":{\"id\":\"1733\"},\"nonselection_glyph\":{\"id\":\"1732\"},\"selection_glyph\":{\"id\":\"1749\"},\"view\":{\"id\":\"1735\"}},\"id\":\"1734\",\"type\":\"GlyphRenderer\"},{\"attributes\":{\"children\":[{\"id\":\"1665\"},{\"id\":\"1671\"},{\"id\":\"1900\"}],\"margin\":[0,0,0,0],\"name\":\"Row02824\",\"tags\":[\"embedded\"]},\"id\":\"1664\",\"type\":\"Row\"},{\"attributes\":{\"coordinates\":null,\"data_source\":{\"id\":\"1707\"},\"glyph\":{\"id\":\"1710\"},\"group\":null,\"hover_glyph\":null,\"muted_glyph\":{\"id\":\"1712\"},\"nonselection_glyph\":{\"id\":\"1711\"},\"selection_glyph\":{\"id\":\"1727\"},\"view\":{\"id\":\"1714\"}},\"id\":\"1713\",\"type\":\"GlyphRenderer\"},{\"attributes\":{},\"id\":\"1676\",\"type\":\"LinearScale\"},{\"attributes\":{\"fill_alpha\":{\"value\":0.1},\"fill_color\":{\"value\":\"#30a2da\"},\"hatch_alpha\":{\"value\":0.1},\"hatch_color\":{\"value\":\"#30a2da\"},\"line_alpha\":{\"value\":0.1},\"line_color\":{\"value\":\"#30a2da\"},\"size\":{\"value\":5.477225575051661},\"x\":{\"field\":\"principal component 1\"},\"y\":{\"field\":\"principal component 2\"}},\"id\":\"1711\",\"type\":\"Scatter\"},{\"attributes\":{},\"id\":\"1708\",\"type\":\"Selection\"},{\"attributes\":{},\"id\":\"1751\",\"type\":\"Selection\"},{\"attributes\":{\"tools\":[{\"id\":\"1668\"},{\"id\":\"1688\"},{\"id\":\"1689\"},{\"id\":\"1690\"},{\"id\":\"1691\"},{\"id\":\"1692\"}]},\"id\":\"1694\",\"type\":\"Toolbar\"},{\"attributes\":{\"fill_alpha\":{\"value\":0.1},\"fill_color\":{\"value\":\"#e5ae38\"},\"hatch_alpha\":{\"value\":0.1},\"hatch_color\":{\"value\":\"#e5ae38\"},\"line_alpha\":{\"value\":0.1},\"line_color\":{\"value\":\"#e5ae38\"},\"size\":{\"value\":5.477225575051661},\"x\":{\"field\":\"principal component 1\"},\"y\":{\"field\":\"principal component 2\"}},\"id\":\"1754\",\"type\":\"Scatter\"},{\"attributes\":{\"source\":{\"id\":\"1707\"}},\"id\":\"1714\",\"type\":\"CDSView\"},{\"attributes\":{},\"id\":\"1703\",\"type\":\"AllLabels\"},{\"attributes\":{\"bottom_units\":\"screen\",\"coordinates\":null,\"fill_alpha\":0.5,\"fill_color\":\"lightgrey\",\"group\":null,\"left_units\":\"screen\",\"level\":\"overlay\",\"line_alpha\":1.0,\"line_color\":\"black\",\"line_dash\":[4,4],\"line_width\":2,\"right_units\":\"screen\",\"syncable\":false,\"top_units\":\"screen\"},\"id\":\"1693\",\"type\":\"BoxAnnotation\"},{\"attributes\":{\"margin\":[5,5,5,5],\"name\":\"HSpacer02829\",\"sizing_mode\":\"stretch_width\"},\"id\":\"1900\",\"type\":\"Spacer\"},{\"attributes\":{},\"id\":\"1688\",\"type\":\"SaveTool\"},{\"attributes\":{},\"id\":\"1689\",\"type\":\"PanTool\"},{\"attributes\":{\"source\":{\"id\":\"1750\"}},\"id\":\"1757\",\"type\":\"CDSView\"},{\"attributes\":{},\"id\":\"1692\",\"type\":\"ResetTool\"},{\"attributes\":{\"margin\":[5,5,5,5],\"name\":\"HSpacer02828\",\"sizing_mode\":\"stretch_width\"},\"id\":\"1665\",\"type\":\"Spacer\"},{\"attributes\":{},\"id\":\"1690\",\"type\":\"WheelZoomTool\"},{\"attributes\":{},\"id\":\"1729\",\"type\":\"Selection\"},{\"attributes\":{\"fill_alpha\":{\"value\":0.2},\"fill_color\":{\"value\":\"#e5ae38\"},\"hatch_alpha\":{\"value\":0.2},\"hatch_color\":{\"value\":\"#e5ae38\"},\"line_alpha\":{\"value\":0.2},\"line_color\":{\"value\":\"#e5ae38\"},\"size\":{\"value\":5.477225575051661},\"x\":{\"field\":\"principal component 1\"},\"y\":{\"field\":\"principal component 2\"}},\"id\":\"1755\",\"type\":\"Scatter\"},{\"attributes\":{\"fill_color\":{\"value\":\"#e5ae38\"},\"hatch_color\":{\"value\":\"#e5ae38\"},\"line_color\":{\"value\":\"#e5ae38\"},\"size\":{\"value\":5.477225575051661},\"x\":{\"field\":\"principal component 1\"},\"y\":{\"field\":\"principal component 2\"}},\"id\":\"1753\",\"type\":\"Scatter\"}],\"root_ids\":[\"1664\"]},\"title\":\"Bokeh Application\",\"version\":\"2.4.2\"}};\n",
       "    var render_items = [{\"docid\":\"73d991a9-a0c5-4cd5-881f-7ef12a40ed1b\",\"root_ids\":[\"1664\"],\"roots\":{\"1664\":\"fda36510-8b34-4778-898e-9d63340ba7b9\"}}];\n",
       "    root.Bokeh.embed.embed_items_notebook(docs_json, render_items);\n",
       "  }\n",
       "  if (root.Bokeh !== undefined && root.Bokeh.Panel !== undefined) {\n",
       "    embed_document(root);\n",
       "  } else {\n",
       "    var attempts = 0;\n",
       "    var timer = setInterval(function(root) {\n",
       "      if (root.Bokeh !== undefined && root.Bokeh.Panel !== undefined) {\n",
       "        clearInterval(timer);\n",
       "        embed_document(root);\n",
       "      } else if (document.readyState == \"complete\") {\n",
       "        attempts++;\n",
       "        if (attempts > 200) {\n",
       "          clearInterval(timer);\n",
       "          console.log(\"Bokeh: ERROR: Unable to run BokehJS code because BokehJS library is missing\");\n",
       "        }\n",
       "      }\n",
       "    }, 25, root)\n",
       "  }\n",
       "})(window);</script>"
      ],
      "text/plain": [
       ":NdOverlay   [class]\n",
       "   :Scatter   [principal component 1]   (principal component 2,class)"
      ]
     },
     "execution_count": 30,
     "metadata": {
      "application/vnd.holoviews_exec.v0+json": {
       "id": "1664"
      }
     },
     "output_type": "execute_result"
    }
   ],
   "source": [
    "df_iris_pca.hvplot.scatter(\n",
    "    x='principal component 1',\n",
    "    y='principal component 2',\n",
    "    hover_cols=['class'],\n",
    "    by='class',\n",
    ")"
   ]
  },
  {
   "cell_type": "code",
   "execution_count": 36,
   "metadata": {},
   "outputs": [
    {
     "data": {
      "text/html": [
       "<div>\n",
       "<style scoped>\n",
       "    .dataframe tbody tr th:only-of-type {\n",
       "        vertical-align: middle;\n",
       "    }\n",
       "\n",
       "    .dataframe tbody tr th {\n",
       "        vertical-align: top;\n",
       "    }\n",
       "\n",
       "    .dataframe thead th {\n",
       "        text-align: right;\n",
       "    }\n",
       "</style>\n",
       "<table border=\"1\" class=\"dataframe\">\n",
       "  <thead>\n",
       "    <tr style=\"text-align: right;\">\n",
       "      <th></th>\n",
       "      <th>sepal_length</th>\n",
       "      <th>petal_length</th>\n",
       "      <th>sepal_width</th>\n",
       "      <th>petal_width</th>\n",
       "    </tr>\n",
       "  </thead>\n",
       "  <tbody>\n",
       "    <tr>\n",
       "      <th>0</th>\n",
       "      <td>5.1</td>\n",
       "      <td>1.4</td>\n",
       "      <td>3.5</td>\n",
       "      <td>0.2</td>\n",
       "    </tr>\n",
       "    <tr>\n",
       "      <th>1</th>\n",
       "      <td>4.9</td>\n",
       "      <td>1.4</td>\n",
       "      <td>3.0</td>\n",
       "      <td>0.2</td>\n",
       "    </tr>\n",
       "    <tr>\n",
       "      <th>2</th>\n",
       "      <td>4.7</td>\n",
       "      <td>1.3</td>\n",
       "      <td>3.2</td>\n",
       "      <td>0.2</td>\n",
       "    </tr>\n",
       "    <tr>\n",
       "      <th>3</th>\n",
       "      <td>4.6</td>\n",
       "      <td>1.5</td>\n",
       "      <td>3.1</td>\n",
       "      <td>0.2</td>\n",
       "    </tr>\n",
       "    <tr>\n",
       "      <th>4</th>\n",
       "      <td>5.0</td>\n",
       "      <td>1.4</td>\n",
       "      <td>3.6</td>\n",
       "      <td>0.2</td>\n",
       "    </tr>\n",
       "    <tr>\n",
       "      <th>5</th>\n",
       "      <td>5.4</td>\n",
       "      <td>1.7</td>\n",
       "      <td>3.9</td>\n",
       "      <td>0.4</td>\n",
       "    </tr>\n",
       "    <tr>\n",
       "      <th>6</th>\n",
       "      <td>4.6</td>\n",
       "      <td>1.4</td>\n",
       "      <td>3.4</td>\n",
       "      <td>0.3</td>\n",
       "    </tr>\n",
       "    <tr>\n",
       "      <th>7</th>\n",
       "      <td>5.0</td>\n",
       "      <td>1.5</td>\n",
       "      <td>3.4</td>\n",
       "      <td>0.2</td>\n",
       "    </tr>\n",
       "    <tr>\n",
       "      <th>8</th>\n",
       "      <td>4.4</td>\n",
       "      <td>1.4</td>\n",
       "      <td>2.9</td>\n",
       "      <td>0.2</td>\n",
       "    </tr>\n",
       "    <tr>\n",
       "      <th>9</th>\n",
       "      <td>4.9</td>\n",
       "      <td>1.5</td>\n",
       "      <td>3.1</td>\n",
       "      <td>0.1</td>\n",
       "    </tr>\n",
       "  </tbody>\n",
       "</table>\n",
       "</div>"
      ],
      "text/plain": [
       "   sepal_length  petal_length  sepal_width  petal_width\n",
       "0           5.1           1.4          3.5          0.2\n",
       "1           4.9           1.4          3.0          0.2\n",
       "2           4.7           1.3          3.2          0.2\n",
       "3           4.6           1.5          3.1          0.2\n",
       "4           5.0           1.4          3.6          0.2\n",
       "5           5.4           1.7          3.9          0.4\n",
       "6           4.6           1.4          3.4          0.3\n",
       "7           5.0           1.5          3.4          0.2\n",
       "8           4.4           1.4          2.9          0.2\n",
       "9           4.9           1.5          3.1          0.1"
      ]
     },
     "execution_count": 36,
     "metadata": {},
     "output_type": "execute_result"
    }
   ],
   "source": [
    "file_path = r\"C:\\Users\\josep\\Documents\\GitHub\\Cryptocurrencies\\resources\\new_iris_data.csv\"\n",
    "df_iris = pd.read_csv(file_path)\n",
    "df_iris.head(10)"
   ]
  },
  {
   "cell_type": "code",
   "execution_count": 38,
   "metadata": {},
   "outputs": [
    {
     "name": "stdout",
     "output_type": "stream",
     "text": [
      "[[-0.90068117 -1.3412724   1.03205722 -1.31297673]\n",
      " [-1.14301691 -1.3412724  -0.1249576  -1.31297673]\n",
      " [-1.38535265 -1.39813811  0.33784833 -1.31297673]\n",
      " [-1.50652052 -1.2844067   0.10644536 -1.31297673]\n",
      " [-1.02184904 -1.3412724   1.26346019 -1.31297673]]\n"
     ]
    }
   ],
   "source": [
    "h_iris_scaled = StandardScaler().fit_transform(df_iris)\n",
    "print(h_iris_scaled[0:5])"
   ]
  },
  {
   "cell_type": "code",
   "execution_count": 39,
   "metadata": {},
   "outputs": [],
   "source": [
    "pca = PCA(n_components=2)"
   ]
  },
  {
   "cell_type": "code",
   "execution_count": 41,
   "metadata": {},
   "outputs": [],
   "source": [
    "h_iris_pca = pca.fit_transform(df_iris)"
   ]
  },
  {
   "cell_type": "code",
   "execution_count": 42,
   "metadata": {},
   "outputs": [
    {
     "data": {
      "text/html": [
       "<div>\n",
       "<style scoped>\n",
       "    .dataframe tbody tr th:only-of-type {\n",
       "        vertical-align: middle;\n",
       "    }\n",
       "\n",
       "    .dataframe tbody tr th {\n",
       "        vertical-align: top;\n",
       "    }\n",
       "\n",
       "    .dataframe thead th {\n",
       "        text-align: right;\n",
       "    }\n",
       "</style>\n",
       "<table border=\"1\" class=\"dataframe\">\n",
       "  <thead>\n",
       "    <tr style=\"text-align: right;\">\n",
       "      <th></th>\n",
       "      <th>principal component 1</th>\n",
       "      <th>principal component 2</th>\n",
       "    </tr>\n",
       "  </thead>\n",
       "  <tbody>\n",
       "    <tr>\n",
       "      <th>0</th>\n",
       "      <td>-2.684207</td>\n",
       "      <td>0.326607</td>\n",
       "    </tr>\n",
       "    <tr>\n",
       "      <th>1</th>\n",
       "      <td>-2.715391</td>\n",
       "      <td>-0.169557</td>\n",
       "    </tr>\n",
       "    <tr>\n",
       "      <th>2</th>\n",
       "      <td>-2.889820</td>\n",
       "      <td>-0.137346</td>\n",
       "    </tr>\n",
       "    <tr>\n",
       "      <th>3</th>\n",
       "      <td>-2.746437</td>\n",
       "      <td>-0.311124</td>\n",
       "    </tr>\n",
       "    <tr>\n",
       "      <th>4</th>\n",
       "      <td>-2.728593</td>\n",
       "      <td>0.333925</td>\n",
       "    </tr>\n",
       "  </tbody>\n",
       "</table>\n",
       "</div>"
      ],
      "text/plain": [
       "   principal component 1  principal component 2\n",
       "0              -2.684207               0.326607\n",
       "1              -2.715391              -0.169557\n",
       "2              -2.889820              -0.137346\n",
       "3              -2.746437              -0.311124\n",
       "4              -2.728593               0.333925"
      ]
     },
     "execution_count": 42,
     "metadata": {},
     "output_type": "execute_result"
    }
   ],
   "source": [
    "df_h_iris_pca = pd.DataFrame(\n",
    "    data= h_iris_pca, columns=['principal component 1', 'principal component 2']\n",
    ")\n",
    "df_h_iris_pca.head()"
   ]
  },
  {
   "cell_type": "code",
   "execution_count": 44,
   "metadata": {},
   "outputs": [],
   "source": [
    "import plotly.figure_factory as ff"
   ]
  },
  {
   "cell_type": "code",
   "execution_count": 45,
   "metadata": {},
   "outputs": [
    {
     "data": {
      "application/vnd.plotly.v1+json": {
       "config": {
        "plotlyServerURL": "https://plot.ly"
       },
       "data": [
        {
         "hoverinfo": "text",
         "marker": {
          "color": "rgb(0,116,217)"
         },
         "mode": "lines",
         "type": "scatter",
         "x": [
          15,
          15,
          25,
          25
         ],
         "xaxis": "x",
         "y": [
          0,
          0.0847172491572975,
          0.0847172491572975,
          0
         ],
         "yaxis": "y"
        },
        {
         "hoverinfo": "text",
         "marker": {
          "color": "rgb(0,116,217)"
         },
         "mode": "lines",
         "type": "scatter",
         "x": [
          45,
          45,
          55,
          55
         ],
         "xaxis": "x",
         "y": [
          0,
          0.07380168741632324,
          0.07380168741632324,
          0
         ],
         "yaxis": "y"
        },
        {
         "hoverinfo": "text",
         "marker": {
          "color": "rgb(0,116,217)"
         },
         "mode": "lines",
         "type": "scatter",
         "x": [
          35,
          35,
          50,
          50
         ],
         "xaxis": "x",
         "y": [
          0,
          0.16216909719211317,
          0.16216909719211317,
          0.07380168741632324
         ],
         "yaxis": "y"
        },
        {
         "hoverinfo": "text",
         "marker": {
          "color": "rgb(0,116,217)"
         },
         "mode": "lines",
         "type": "scatter",
         "x": [
          20,
          20,
          42.5,
          42.5
         ],
         "xaxis": "x",
         "y": [
          0.0847172491572975,
          0.2587372276793067,
          0.2587372276793067,
          0.16216909719211317
         ],
         "yaxis": "y"
        },
        {
         "hoverinfo": "text",
         "marker": {
          "color": "rgb(0,116,217)"
         },
         "mode": "lines",
         "type": "scatter",
         "x": [
          5,
          5,
          31.25,
          31.25
         ],
         "xaxis": "x",
         "y": [
          0,
          0.32078530575804126,
          0.32078530575804126,
          0.2587372276793067
         ],
         "yaxis": "y"
        },
        {
         "hoverinfo": "text",
         "marker": {
          "color": "rgb(0,116,217)"
         },
         "mode": "lines",
         "type": "scatter",
         "x": [
          65,
          65,
          75,
          75
         ],
         "xaxis": "x",
         "y": [
          0,
          0.09329414905897851,
          0.09329414905897851,
          0
         ],
         "yaxis": "y"
        },
        {
         "hoverinfo": "text",
         "marker": {
          "color": "rgb(0,116,217)"
         },
         "mode": "lines",
         "type": "scatter",
         "x": [
          85,
          85,
          95,
          95
         ],
         "xaxis": "x",
         "y": [
          0,
          0.1844960361259353,
          0.1844960361259353,
          0
         ],
         "yaxis": "y"
        },
        {
         "hoverinfo": "text",
         "marker": {
          "color": "rgb(0,116,217)"
         },
         "mode": "lines",
         "type": "scatter",
         "x": [
          70,
          70,
          90,
          90
         ],
         "xaxis": "x",
         "y": [
          0.09329414905897851,
          0.42822832964992313,
          0.42822832964992313,
          0.1844960361259353
         ],
         "yaxis": "y"
        },
        {
         "hoverinfo": "text",
         "marker": {
          "color": "rgb(0,116,217)"
         },
         "mode": "lines",
         "type": "scatter",
         "x": [
          18.125,
          18.125,
          80,
          80
         ],
         "xaxis": "x",
         "y": [
          0.32078530575804126,
          0.760225925324622,
          0.760225925324622,
          0.42822832964992313
         ],
         "yaxis": "y"
        },
        {
         "hoverinfo": "text",
         "marker": {
          "color": "rgb(0,116,217)"
         },
         "mode": "lines",
         "type": "scatter",
         "x": [
          105,
          105,
          115,
          115
         ],
         "xaxis": "x",
         "y": [
          0,
          0.3245694487615157,
          0.3245694487615157,
          0
         ],
         "yaxis": "y"
        },
        {
         "hoverinfo": "text",
         "marker": {
          "color": "rgb(0,116,217)"
         },
         "mode": "lines",
         "type": "scatter",
         "x": [
          135,
          135,
          145,
          145
         ],
         "xaxis": "x",
         "y": [
          0,
          0.13657958704961737,
          0.13657958704961737,
          0
         ],
         "yaxis": "y"
        },
        {
         "hoverinfo": "text",
         "marker": {
          "color": "rgb(0,116,217)"
         },
         "mode": "lines",
         "type": "scatter",
         "x": [
          125,
          125,
          140,
          140
         ],
         "xaxis": "x",
         "y": [
          0,
          0.494599865444635,
          0.494599865444635,
          0.13657958704961737
         ],
         "yaxis": "y"
        },
        {
         "hoverinfo": "text",
         "marker": {
          "color": "rgb(0,116,217)"
         },
         "mode": "lines",
         "type": "scatter",
         "x": [
          110,
          110,
          132.5,
          132.5
         ],
         "xaxis": "x",
         "y": [
          0.3245694487615157,
          1.250798628976133,
          1.250798628976133,
          0.494599865444635
         ],
         "yaxis": "y"
        },
        {
         "hoverinfo": "text",
         "marker": {
          "color": "rgb(0,116,217)"
         },
         "mode": "lines",
         "type": "scatter",
         "x": [
          49.0625,
          49.0625,
          121.25,
          121.25
         ],
         "xaxis": "x",
         "y": [
          0.760225925324622,
          1.4225964700733134,
          1.4225964700733134,
          1.250798628976133
         ],
         "yaxis": "y"
        },
        {
         "hoverinfo": "text",
         "marker": {
          "color": "rgb(0,116,217)"
         },
         "mode": "lines",
         "type": "scatter",
         "x": [
          165,
          165,
          175,
          175
         ],
         "xaxis": "x",
         "y": [
          0,
          0.03665378835608536,
          0.03665378835608536,
          0
         ],
         "yaxis": "y"
        },
        {
         "hoverinfo": "text",
         "marker": {
          "color": "rgb(0,116,217)"
         },
         "mode": "lines",
         "type": "scatter",
         "x": [
          155,
          155,
          170,
          170
         ],
         "xaxis": "x",
         "y": [
          0,
          0.19985311954573035,
          0.19985311954573035,
          0.03665378835608536
         ],
         "yaxis": "y"
        },
        {
         "hoverinfo": "text",
         "marker": {
          "color": "rgb(0,116,217)"
         },
         "mode": "lines",
         "type": "scatter",
         "x": [
          185,
          185,
          195,
          195
         ],
         "xaxis": "x",
         "y": [
          0,
          0.18443192806313582,
          0.18443192806313582,
          0
         ],
         "yaxis": "y"
        },
        {
         "hoverinfo": "text",
         "marker": {
          "color": "rgb(0,116,217)"
         },
         "mode": "lines",
         "type": "scatter",
         "x": [
          205,
          205,
          215,
          215
         ],
         "xaxis": "x",
         "y": [
          0,
          0.07904917504081371,
          0.07904917504081371,
          0
         ],
         "yaxis": "y"
        },
        {
         "hoverinfo": "text",
         "marker": {
          "color": "rgb(0,116,217)"
         },
         "mode": "lines",
         "type": "scatter",
         "x": [
          225,
          225,
          235,
          235
         ],
         "xaxis": "x",
         "y": [
          0,
          0.15560298899025127,
          0.15560298899025127,
          0
         ],
         "yaxis": "y"
        },
        {
         "hoverinfo": "text",
         "marker": {
          "color": "rgb(0,116,217)"
         },
         "mode": "lines",
         "type": "scatter",
         "x": [
          210,
          210,
          230,
          230
         ],
         "xaxis": "x",
         "y": [
          0.07904917504081371,
          0.234411082233449,
          0.234411082233449,
          0.15560298899025127
         ],
         "yaxis": "y"
        },
        {
         "hoverinfo": "text",
         "marker": {
          "color": "rgb(0,116,217)"
         },
         "mode": "lines",
         "type": "scatter",
         "x": [
          190,
          190,
          220,
          220
         ],
         "xaxis": "x",
         "y": [
          0.18443192806313582,
          0.43104011679059484,
          0.43104011679059484,
          0.234411082233449
         ],
         "yaxis": "y"
        },
        {
         "hoverinfo": "text",
         "marker": {
          "color": "rgb(0,116,217)"
         },
         "mode": "lines",
         "type": "scatter",
         "x": [
          162.5,
          162.5,
          205,
          205
         ],
         "xaxis": "x",
         "y": [
          0.19985311954573035,
          0.5805906476031638,
          0.5805906476031638,
          0.43104011679059484
         ],
         "yaxis": "y"
        },
        {
         "hoverinfo": "text",
         "marker": {
          "color": "rgb(0,116,217)"
         },
         "mode": "lines",
         "type": "scatter",
         "x": [
          245,
          245,
          255,
          255
         ],
         "xaxis": "x",
         "y": [
          0,
          0.172077539338592,
          0.172077539338592,
          0
         ],
         "yaxis": "y"
        },
        {
         "hoverinfo": "text",
         "marker": {
          "color": "rgb(0,116,217)"
         },
         "mode": "lines",
         "type": "scatter",
         "x": [
          275,
          275,
          285,
          285
         ],
         "xaxis": "x",
         "y": [
          0,
          0.04498495756897925,
          0.04498495756897925,
          0
         ],
         "yaxis": "y"
        },
        {
         "hoverinfo": "text",
         "marker": {
          "color": "rgb(0,116,217)"
         },
         "mode": "lines",
         "type": "scatter",
         "x": [
          305,
          305,
          315,
          315
         ],
         "xaxis": "x",
         "y": [
          0,
          0.004284497728340505,
          0.004284497728340505,
          0
         ],
         "yaxis": "y"
        },
        {
         "hoverinfo": "text",
         "marker": {
          "color": "rgb(0,116,217)"
         },
         "mode": "lines",
         "type": "scatter",
         "x": [
          295,
          295,
          310,
          310
         ],
         "xaxis": "x",
         "y": [
          0,
          0.08315343371369972,
          0.08315343371369972,
          0.004284497728340505
         ],
         "yaxis": "y"
        },
        {
         "hoverinfo": "text",
         "marker": {
          "color": "rgb(0,116,217)"
         },
         "mode": "lines",
         "type": "scatter",
         "x": [
          280,
          280,
          302.5,
          302.5
         ],
         "xaxis": "x",
         "y": [
          0.04498495756897925,
          0.14677823165701756,
          0.14677823165701756,
          0.08315343371369972
         ],
         "yaxis": "y"
        },
        {
         "hoverinfo": "text",
         "marker": {
          "color": "rgb(0,116,217)"
         },
         "mode": "lines",
         "type": "scatter",
         "x": [
          265,
          265,
          291.25,
          291.25
         ],
         "xaxis": "x",
         "y": [
          0,
          0.21035196270473566,
          0.21035196270473566,
          0.14677823165701756
         ],
         "yaxis": "y"
        },
        {
         "hoverinfo": "text",
         "marker": {
          "color": "rgb(0,116,217)"
         },
         "mode": "lines",
         "type": "scatter",
         "x": [
          250,
          250,
          278.125,
          278.125
         ],
         "xaxis": "x",
         "y": [
          0.172077539338592,
          0.4277158689251871,
          0.4277158689251871,
          0.21035196270473566
         ],
         "yaxis": "y"
        },
        {
         "hoverinfo": "text",
         "marker": {
          "color": "rgb(0,116,217)"
         },
         "mode": "lines",
         "type": "scatter",
         "x": [
          325,
          325,
          335,
          335
         ],
         "xaxis": "x",
         "y": [
          0,
          0.10756936922263836,
          0.10756936922263836,
          0
         ],
         "yaxis": "y"
        },
        {
         "hoverinfo": "text",
         "marker": {
          "color": "rgb(0,116,217)"
         },
         "mode": "lines",
         "type": "scatter",
         "x": [
          345,
          345,
          355,
          355
         ],
         "xaxis": "x",
         "y": [
          0,
          0.18901877498134662,
          0.18901877498134662,
          0
         ],
         "yaxis": "y"
        },
        {
         "hoverinfo": "text",
         "marker": {
          "color": "rgb(0,116,217)"
         },
         "mode": "lines",
         "type": "scatter",
         "x": [
          330,
          330,
          350,
          350
         ],
         "xaxis": "x",
         "y": [
          0.10756936922263836,
          0.5600160082760967,
          0.5600160082760967,
          0.18901877498134662
         ],
         "yaxis": "y"
        },
        {
         "hoverinfo": "text",
         "marker": {
          "color": "rgb(0,116,217)"
         },
         "mode": "lines",
         "type": "scatter",
         "x": [
          264.0625,
          264.0625,
          340,
          340
         ],
         "xaxis": "x",
         "y": [
          0.4277158689251871,
          0.6622184475947975,
          0.6622184475947975,
          0.5600160082760967
         ],
         "yaxis": "y"
        },
        {
         "hoverinfo": "text",
         "marker": {
          "color": "rgb(0,116,217)"
         },
         "mode": "lines",
         "type": "scatter",
         "x": [
          183.75,
          183.75,
          302.03125,
          302.03125
         ],
         "xaxis": "x",
         "y": [
          0.5805906476031638,
          1.013554347226868,
          1.013554347226868,
          0.6622184475947975
         ],
         "yaxis": "y"
        },
        {
         "hoverinfo": "text",
         "marker": {
          "color": "rgb(0,116,217)"
         },
         "mode": "lines",
         "type": "scatter",
         "x": [
          365,
          365,
          375,
          375
         ],
         "xaxis": "x",
         "y": [
          0,
          0.25492722544872687,
          0.25492722544872687,
          0
         ],
         "yaxis": "y"
        },
        {
         "hoverinfo": "text",
         "marker": {
          "color": "rgb(0,116,217)"
         },
         "mode": "lines",
         "type": "scatter",
         "x": [
          395,
          395,
          405,
          405
         ],
         "xaxis": "x",
         "y": [
          0,
          0.03438450150580692,
          0.03438450150580692,
          0
         ],
         "yaxis": "y"
        },
        {
         "hoverinfo": "text",
         "marker": {
          "color": "rgb(0,116,217)"
         },
         "mode": "lines",
         "type": "scatter",
         "x": [
          385,
          385,
          400,
          400
         ],
         "xaxis": "x",
         "y": [
          0,
          0.1491166127565298,
          0.1491166127565298,
          0.03438450150580692
         ],
         "yaxis": "y"
        },
        {
         "hoverinfo": "text",
         "marker": {
          "color": "rgb(0,116,217)"
         },
         "mode": "lines",
         "type": "scatter",
         "x": [
          415,
          415,
          425,
          425
         ],
         "xaxis": "x",
         "y": [
          0,
          0.1972904068626533,
          0.1972904068626533,
          0
         ],
         "yaxis": "y"
        },
        {
         "hoverinfo": "text",
         "marker": {
          "color": "rgb(0,116,217)"
         },
         "mode": "lines",
         "type": "scatter",
         "x": [
          445,
          445,
          455,
          455
         ],
         "xaxis": "x",
         "y": [
          0,
          0.0755915318047944,
          0.0755915318047944,
          0
         ],
         "yaxis": "y"
        },
        {
         "hoverinfo": "text",
         "marker": {
          "color": "rgb(0,116,217)"
         },
         "mode": "lines",
         "type": "scatter",
         "x": [
          435,
          435,
          450,
          450
         ],
         "xaxis": "x",
         "y": [
          0,
          0.20865768174933005,
          0.20865768174933005,
          0.0755915318047944
         ],
         "yaxis": "y"
        },
        {
         "hoverinfo": "text",
         "marker": {
          "color": "rgb(0,116,217)"
         },
         "mode": "lines",
         "type": "scatter",
         "x": [
          420,
          420,
          442.5,
          442.5
         ],
         "xaxis": "x",
         "y": [
          0.1972904068626533,
          0.3583574742912611,
          0.3583574742912611,
          0.20865768174933005
         ],
         "yaxis": "y"
        },
        {
         "hoverinfo": "text",
         "marker": {
          "color": "rgb(0,116,217)"
         },
         "mode": "lines",
         "type": "scatter",
         "x": [
          392.5,
          392.5,
          431.25,
          431.25
         ],
         "xaxis": "x",
         "y": [
          0.1491166127565298,
          0.4612687656680703,
          0.4612687656680703,
          0.3583574742912611
         ],
         "yaxis": "y"
        },
        {
         "hoverinfo": "text",
         "marker": {
          "color": "rgb(0,116,217)"
         },
         "mode": "lines",
         "type": "scatter",
         "x": [
          370,
          370,
          411.875,
          411.875
         ],
         "xaxis": "x",
         "y": [
          0.25492722544872687,
          0.6412714323242932,
          0.6412714323242932,
          0.4612687656680703
         ],
         "yaxis": "y"
        },
        {
         "hoverinfo": "text",
         "marker": {
          "color": "rgb(0,116,217)"
         },
         "mode": "lines",
         "type": "scatter",
         "x": [
          465,
          465,
          475,
          475
         ],
         "xaxis": "x",
         "y": [
          0,
          0.07088511613992078,
          0.07088511613992078,
          0
         ],
         "yaxis": "y"
        },
        {
         "hoverinfo": "text",
         "marker": {
          "color": "rgb(0,116,217)"
         },
         "mode": "lines",
         "type": "scatter",
         "x": [
          485,
          485,
          495,
          495
         ],
         "xaxis": "x",
         "y": [
          0,
          0.0959913641211991,
          0.0959913641211991,
          0
         ],
         "yaxis": "y"
        },
        {
         "hoverinfo": "text",
         "marker": {
          "color": "rgb(0,116,217)"
         },
         "mode": "lines",
         "type": "scatter",
         "x": [
          470,
          470,
          490,
          490
         ],
         "xaxis": "x",
         "y": [
          0.07088511613992078,
          0.17737816486951616,
          0.17737816486951616,
          0.0959913641211991
         ],
         "yaxis": "y"
        },
        {
         "hoverinfo": "text",
         "marker": {
          "color": "rgb(0,116,217)"
         },
         "mode": "lines",
         "type": "scatter",
         "x": [
          505,
          505,
          515,
          515
         ],
         "xaxis": "x",
         "y": [
          0,
          0.12464819651375497,
          0.12464819651375497,
          0
         ],
         "yaxis": "y"
        },
        {
         "hoverinfo": "text",
         "marker": {
          "color": "rgb(0,116,217)"
         },
         "mode": "lines",
         "type": "scatter",
         "x": [
          535,
          535,
          545,
          545
         ],
         "xaxis": "x",
         "y": [
          0,
          0.07888102765642824,
          0.07888102765642824,
          0
         ],
         "yaxis": "y"
        },
        {
         "hoverinfo": "text",
         "marker": {
          "color": "rgb(0,116,217)"
         },
         "mode": "lines",
         "type": "scatter",
         "x": [
          525,
          525,
          540,
          540
         ],
         "xaxis": "x",
         "y": [
          0,
          0.148997350716256,
          0.148997350716256,
          0.07888102765642824
         ],
         "yaxis": "y"
        },
        {
         "hoverinfo": "text",
         "marker": {
          "color": "rgb(0,116,217)"
         },
         "mode": "lines",
         "type": "scatter",
         "x": [
          510,
          510,
          532.5,
          532.5
         ],
         "xaxis": "x",
         "y": [
          0.12464819651375497,
          0.2847732936165187,
          0.2847732936165187,
          0.148997350716256
         ],
         "yaxis": "y"
        },
        {
         "hoverinfo": "text",
         "marker": {
          "color": "rgb(0,116,217)"
         },
         "mode": "lines",
         "type": "scatter",
         "x": [
          480,
          480,
          521.25,
          521.25
         ],
         "xaxis": "x",
         "y": [
          0.17737816486951616,
          0.42716191763994565,
          0.42716191763994565,
          0.2847732936165187
         ],
         "yaxis": "y"
        },
        {
         "hoverinfo": "text",
         "marker": {
          "color": "rgb(0,116,217)"
         },
         "mode": "lines",
         "type": "scatter",
         "x": [
          555,
          555,
          565,
          565
         ],
         "xaxis": "x",
         "y": [
          0,
          0.04876063891185653,
          0.04876063891185653,
          0
         ],
         "yaxis": "y"
        },
        {
         "hoverinfo": "text",
         "marker": {
          "color": "rgb(0,116,217)"
         },
         "mode": "lines",
         "type": "scatter",
         "x": [
          585,
          585,
          595,
          595
         ],
         "xaxis": "x",
         "y": [
          0,
          0,
          0,
          0
         ],
         "yaxis": "y"
        },
        {
         "hoverinfo": "text",
         "marker": {
          "color": "rgb(0,116,217)"
         },
         "mode": "lines",
         "type": "scatter",
         "x": [
          575,
          575,
          590,
          590
         ],
         "xaxis": "x",
         "y": [
          0,
          0.21813940274204727,
          0.21813940274204727,
          0
         ],
         "yaxis": "y"
        },
        {
         "hoverinfo": "text",
         "marker": {
          "color": "rgb(0,116,217)"
         },
         "mode": "lines",
         "type": "scatter",
         "x": [
          560,
          560,
          582.5,
          582.5
         ],
         "xaxis": "x",
         "y": [
          0.04876063891185653,
          0.22504760139793836,
          0.22504760139793836,
          0.21813940274204727
         ],
         "yaxis": "y"
        },
        {
         "hoverinfo": "text",
         "marker": {
          "color": "rgb(0,116,217)"
         },
         "mode": "lines",
         "type": "scatter",
         "x": [
          615,
          615,
          625,
          625
         ],
         "xaxis": "x",
         "y": [
          0,
          0.17476428298443222,
          0.17476428298443222,
          0
         ],
         "yaxis": "y"
        },
        {
         "hoverinfo": "text",
         "marker": {
          "color": "rgb(0,116,217)"
         },
         "mode": "lines",
         "type": "scatter",
         "x": [
          605,
          605,
          620,
          620
         ],
         "xaxis": "x",
         "y": [
          0,
          0.28371133526968656,
          0.28371133526968656,
          0.17476428298443222
         ],
         "yaxis": "y"
        },
        {
         "hoverinfo": "text",
         "marker": {
          "color": "rgb(0,116,217)"
         },
         "mode": "lines",
         "type": "scatter",
         "x": [
          571.25,
          571.25,
          612.5,
          612.5
         ],
         "xaxis": "x",
         "y": [
          0.22504760139793836,
          0.5907890587813934,
          0.5907890587813934,
          0.28371133526968656
         ],
         "yaxis": "y"
        },
        {
         "hoverinfo": "text",
         "marker": {
          "color": "rgb(0,116,217)"
         },
         "mode": "lines",
         "type": "scatter",
         "x": [
          500.625,
          500.625,
          591.875,
          591.875
         ],
         "xaxis": "x",
         "y": [
          0.42716191763994565,
          0.783707187448295,
          0.783707187448295,
          0.5907890587813934
         ],
         "yaxis": "y"
        },
        {
         "hoverinfo": "text",
         "marker": {
          "color": "rgb(0,116,217)"
         },
         "mode": "lines",
         "type": "scatter",
         "x": [
          390.9375,
          390.9375,
          546.25,
          546.25
         ],
         "xaxis": "x",
         "y": [
          0.6412714323242932,
          1.4630772024454513,
          1.4630772024454513,
          0.783707187448295
         ],
         "yaxis": "y"
        },
        {
         "hoverinfo": "text",
         "marker": {
          "color": "rgb(0,116,217)"
         },
         "mode": "lines",
         "type": "scatter",
         "x": [
          242.890625,
          242.890625,
          468.59375,
          468.59375
         ],
         "xaxis": "x",
         "y": [
          1.013554347226868,
          1.6744508022352318,
          1.6744508022352318,
          1.4630772024454513
         ],
         "yaxis": "y"
        },
        {
         "hoverinfo": "text",
         "marker": {
          "color": "rgb(0,116,217)"
         },
         "mode": "lines",
         "type": "scatter",
         "x": [
          85.15625,
          85.15625,
          355.7421875,
          355.7421875
         ],
         "xaxis": "x",
         "y": [
          1.4225964700733134,
          2.9210940078420062,
          2.9210940078420062,
          1.6744508022352318
         ],
         "yaxis": "y"
        },
        {
         "hoverinfo": "text",
         "marker": {
          "color": "rgb(0,116,217)"
         },
         "mode": "lines",
         "type": "scatter",
         "x": [
          635,
          635,
          645,
          645
         ],
         "xaxis": "x",
         "y": [
          0,
          0.17429523650940104,
          0.17429523650940104,
          0
         ],
         "yaxis": "y"
        },
        {
         "hoverinfo": "text",
         "marker": {
          "color": "rgb(0,116,217)"
         },
         "mode": "lines",
         "type": "scatter",
         "x": [
          675,
          675,
          685,
          685
         ],
         "xaxis": "x",
         "y": [
          0,
          0.06279882612862589,
          0.06279882612862589,
          0
         ],
         "yaxis": "y"
        },
        {
         "hoverinfo": "text",
         "marker": {
          "color": "rgb(0,116,217)"
         },
         "mode": "lines",
         "type": "scatter",
         "x": [
          665,
          665,
          680,
          680
         ],
         "xaxis": "x",
         "y": [
          0,
          0.16599777826262416,
          0.16599777826262416,
          0.06279882612862589
         ],
         "yaxis": "y"
        },
        {
         "hoverinfo": "text",
         "marker": {
          "color": "rgb(0,116,217)"
         },
         "mode": "lines",
         "type": "scatter",
         "x": [
          655,
          655,
          672.5,
          672.5
         ],
         "xaxis": "x",
         "y": [
          0,
          0.2539739107611393,
          0.2539739107611393,
          0.16599777826262416
         ],
         "yaxis": "y"
        },
        {
         "hoverinfo": "text",
         "marker": {
          "color": "rgb(0,116,217)"
         },
         "mode": "lines",
         "type": "scatter",
         "x": [
          640,
          640,
          663.75,
          663.75
         ],
         "xaxis": "x",
         "y": [
          0.17429523650940104,
          0.4968428130315535,
          0.4968428130315535,
          0.2539739107611393
         ],
         "yaxis": "y"
        },
        {
         "hoverinfo": "text",
         "marker": {
          "color": "rgb(0,116,217)"
         },
         "mode": "lines",
         "type": "scatter",
         "x": [
          715,
          715,
          725,
          725
         ],
         "xaxis": "x",
         "y": [
          0,
          0.04498495756897975,
          0.04498495756897975,
          0
         ],
         "yaxis": "y"
        },
        {
         "hoverinfo": "text",
         "marker": {
          "color": "rgb(0,116,217)"
         },
         "mode": "lines",
         "type": "scatter",
         "x": [
          705,
          705,
          720,
          720
         ],
         "xaxis": "x",
         "y": [
          0,
          0.3263889601128131,
          0.3263889601128131,
          0.04498495756897975
         ],
         "yaxis": "y"
        },
        {
         "hoverinfo": "text",
         "marker": {
          "color": "rgb(0,116,217)"
         },
         "mode": "lines",
         "type": "scatter",
         "x": [
          695,
          695,
          712.5,
          712.5
         ],
         "xaxis": "x",
         "y": [
          0,
          0.6472643469322013,
          0.6472643469322013,
          0.3263889601128131
         ],
         "yaxis": "y"
        },
        {
         "hoverinfo": "text",
         "marker": {
          "color": "rgb(0,116,217)"
         },
         "mode": "lines",
         "type": "scatter",
         "x": [
          651.875,
          651.875,
          703.75,
          703.75
         ],
         "xaxis": "x",
         "y": [
          0.4968428130315535,
          1.0651347869654535,
          1.0651347869654535,
          0.6472643469322013
         ],
         "yaxis": "y"
        },
        {
         "hoverinfo": "text",
         "marker": {
          "color": "rgb(0,116,217)"
         },
         "mode": "lines",
         "type": "scatter",
         "x": [
          745,
          745,
          755,
          755
         ],
         "xaxis": "x",
         "y": [
          0,
          0.14686705758760696,
          0.14686705758760696,
          0
         ],
         "yaxis": "y"
        },
        {
         "hoverinfo": "text",
         "marker": {
          "color": "rgb(0,116,217)"
         },
         "mode": "lines",
         "type": "scatter",
         "x": [
          775,
          775,
          785,
          785
         ],
         "xaxis": "x",
         "y": [
          0,
          0.10335169214420016,
          0.10335169214420016,
          0
         ],
         "yaxis": "y"
        },
        {
         "hoverinfo": "text",
         "marker": {
          "color": "rgb(0,116,217)"
         },
         "mode": "lines",
         "type": "scatter",
         "x": [
          765,
          765,
          780,
          780
         ],
         "xaxis": "x",
         "y": [
          0,
          0.23467684926109966,
          0.23467684926109966,
          0.10335169214420016
         ],
         "yaxis": "y"
        },
        {
         "hoverinfo": "text",
         "marker": {
          "color": "rgb(0,116,217)"
         },
         "mode": "lines",
         "type": "scatter",
         "x": [
          750,
          750,
          772.5,
          772.5
         ],
         "xaxis": "x",
         "y": [
          0.14686705758760696,
          0.3666137099824078,
          0.3666137099824078,
          0.23467684926109966
         ],
         "yaxis": "y"
        },
        {
         "hoverinfo": "text",
         "marker": {
          "color": "rgb(0,116,217)"
         },
         "mode": "lines",
         "type": "scatter",
         "x": [
          735,
          735,
          761.25,
          761.25
         ],
         "xaxis": "x",
         "y": [
          0,
          0.7073713262375638,
          0.7073713262375638,
          0.3666137099824078
         ],
         "yaxis": "y"
        },
        {
         "hoverinfo": "text",
         "marker": {
          "color": "rgb(0,116,217)"
         },
         "mode": "lines",
         "type": "scatter",
         "x": [
          805,
          805,
          815,
          815
         ],
         "xaxis": "x",
         "y": [
          0,
          0.06504309078482533,
          0.06504309078482533,
          0
         ],
         "yaxis": "y"
        },
        {
         "hoverinfo": "text",
         "marker": {
          "color": "rgb(0,116,217)"
         },
         "mode": "lines",
         "type": "scatter",
         "x": [
          795,
          795,
          810,
          810
         ],
         "xaxis": "x",
         "y": [
          0,
          0.08833326870422835,
          0.08833326870422835,
          0.06504309078482533
         ],
         "yaxis": "y"
        },
        {
         "hoverinfo": "text",
         "marker": {
          "color": "rgb(0,116,217)"
         },
         "mode": "lines",
         "type": "scatter",
         "x": [
          825,
          825,
          835,
          835
         ],
         "xaxis": "x",
         "y": [
          0,
          0.11902702016413937,
          0.11902702016413937,
          0
         ],
         "yaxis": "y"
        },
        {
         "hoverinfo": "text",
         "marker": {
          "color": "rgb(0,116,217)"
         },
         "mode": "lines",
         "type": "scatter",
         "x": [
          802.5,
          802.5,
          830,
          830
         ],
         "xaxis": "x",
         "y": [
          0.08833326870422835,
          0.16659722281578193,
          0.16659722281578193,
          0.11902702016413937
         ],
         "yaxis": "y"
        },
        {
         "hoverinfo": "text",
         "marker": {
          "color": "rgb(0,116,217)"
         },
         "mode": "lines",
         "type": "scatter",
         "x": [
          845,
          845,
          855,
          855
         ],
         "xaxis": "x",
         "y": [
          0,
          0.09174258493533148,
          0.09174258493533148,
          0
         ],
         "yaxis": "y"
        },
        {
         "hoverinfo": "text",
         "marker": {
          "color": "rgb(0,116,217)"
         },
         "mode": "lines",
         "type": "scatter",
         "x": [
          865,
          865,
          875,
          875
         ],
         "xaxis": "x",
         "y": [
          0,
          0.15833340796831794,
          0.15833340796831794,
          0
         ],
         "yaxis": "y"
        },
        {
         "hoverinfo": "text",
         "marker": {
          "color": "rgb(0,116,217)"
         },
         "mode": "lines",
         "type": "scatter",
         "x": [
          850,
          850,
          870,
          870
         ],
         "xaxis": "x",
         "y": [
          0.09174258493533148,
          0.2330380692926281,
          0.2330380692926281,
          0.15833340796831794
         ],
         "yaxis": "y"
        },
        {
         "hoverinfo": "text",
         "marker": {
          "color": "rgb(0,116,217)"
         },
         "mode": "lines",
         "type": "scatter",
         "x": [
          816.25,
          816.25,
          860,
          860
         ],
         "xaxis": "x",
         "y": [
          0.16659722281578193,
          0.43047950630589155,
          0.43047950630589155,
          0.2330380692926281
         ],
         "yaxis": "y"
        },
        {
         "hoverinfo": "text",
         "marker": {
          "color": "rgb(0,116,217)"
         },
         "mode": "lines",
         "type": "scatter",
         "x": [
          895,
          895,
          905,
          905
         ],
         "xaxis": "x",
         "y": [
          0,
          0.06809705824098666,
          0.06809705824098666,
          0
         ],
         "yaxis": "y"
        },
        {
         "hoverinfo": "text",
         "marker": {
          "color": "rgb(0,116,217)"
         },
         "mode": "lines",
         "type": "scatter",
         "x": [
          885,
          885,
          900,
          900
         ],
         "xaxis": "x",
         "y": [
          0,
          0.1499055320038311,
          0.1499055320038311,
          0.06809705824098666
         ],
         "yaxis": "y"
        },
        {
         "hoverinfo": "text",
         "marker": {
          "color": "rgb(0,116,217)"
         },
         "mode": "lines",
         "type": "scatter",
         "x": [
          915,
          915,
          925,
          925
         ],
         "xaxis": "x",
         "y": [
          0,
          0.21461288389407196,
          0.21461288389407196,
          0
         ],
         "yaxis": "y"
        },
        {
         "hoverinfo": "text",
         "marker": {
          "color": "rgb(0,116,217)"
         },
         "mode": "lines",
         "type": "scatter",
         "x": [
          892.5,
          892.5,
          920,
          920
         ],
         "xaxis": "x",
         "y": [
          0.1499055320038311,
          0.3598796605518377,
          0.3598796605518377,
          0.21461288389407196
         ],
         "yaxis": "y"
        },
        {
         "hoverinfo": "text",
         "marker": {
          "color": "rgb(0,116,217)"
         },
         "mode": "lines",
         "type": "scatter",
         "x": [
          935,
          935,
          945,
          945
         ],
         "xaxis": "x",
         "y": [
          0,
          0.08605258204850295,
          0.08605258204850295,
          0
         ],
         "yaxis": "y"
        },
        {
         "hoverinfo": "text",
         "marker": {
          "color": "rgb(0,116,217)"
         },
         "mode": "lines",
         "type": "scatter",
         "x": [
          955,
          955,
          965,
          965
         ],
         "xaxis": "x",
         "y": [
          0,
          0.15018394816959185,
          0.15018394816959185,
          0
         ],
         "yaxis": "y"
        },
        {
         "hoverinfo": "text",
         "marker": {
          "color": "rgb(0,116,217)"
         },
         "mode": "lines",
         "type": "scatter",
         "x": [
          940,
          940,
          960,
          960
         ],
         "xaxis": "x",
         "y": [
          0.08605258204850295,
          0.17574012687219595,
          0.17574012687219595,
          0.15018394816959185
         ],
         "yaxis": "y"
        },
        {
         "hoverinfo": "text",
         "marker": {
          "color": "rgb(0,116,217)"
         },
         "mode": "lines",
         "type": "scatter",
         "x": [
          985,
          985,
          995,
          995
         ],
         "xaxis": "x",
         "y": [
          0,
          0.10335169214420042,
          0.10335169214420042,
          0
         ],
         "yaxis": "y"
        },
        {
         "hoverinfo": "text",
         "marker": {
          "color": "rgb(0,116,217)"
         },
         "mode": "lines",
         "type": "scatter",
         "x": [
          975,
          975,
          990,
          990
         ],
         "xaxis": "x",
         "y": [
          0,
          0.24158896700232826,
          0.24158896700232826,
          0.10335169214420042
         ],
         "yaxis": "y"
        },
        {
         "hoverinfo": "text",
         "marker": {
          "color": "rgb(0,116,217)"
         },
         "mode": "lines",
         "type": "scatter",
         "x": [
          950,
          950,
          982.5,
          982.5
         ],
         "xaxis": "x",
         "y": [
          0.17574012687219595,
          0.3940817995837776,
          0.3940817995837776,
          0.24158896700232826
         ],
         "yaxis": "y"
        },
        {
         "hoverinfo": "text",
         "marker": {
          "color": "rgb(0,116,217)"
         },
         "mode": "lines",
         "type": "scatter",
         "x": [
          906.25,
          906.25,
          966.25,
          966.25
         ],
         "xaxis": "x",
         "y": [
          0.3598796605518377,
          0.7491687177996121,
          0.7491687177996121,
          0.3940817995837776
         ],
         "yaxis": "y"
        },
        {
         "hoverinfo": "text",
         "marker": {
          "color": "rgb(0,116,217)"
         },
         "mode": "lines",
         "type": "scatter",
         "x": [
          838.125,
          838.125,
          936.25,
          936.25
         ],
         "xaxis": "x",
         "y": [
          0.43047950630589155,
          0.8694739475425222,
          0.8694739475425222,
          0.7491687177996121
         ],
         "yaxis": "y"
        },
        {
         "hoverinfo": "text",
         "marker": {
          "color": "rgb(0,116,217)"
         },
         "mode": "lines",
         "type": "scatter",
         "x": [
          748.125,
          748.125,
          887.1875,
          887.1875
         ],
         "xaxis": "x",
         "y": [
          0.7073713262375638,
          1.4159669073419427,
          1.4159669073419427,
          0.8694739475425222
         ],
         "yaxis": "y"
        },
        {
         "hoverinfo": "text",
         "marker": {
          "color": "rgb(0,116,217)"
         },
         "mode": "lines",
         "type": "scatter",
         "x": [
          677.8125,
          677.8125,
          817.65625,
          817.65625
         ],
         "xaxis": "x",
         "y": [
          1.0651347869654535,
          1.9937342669462093,
          1.9937342669462093,
          1.4159669073419427
         ],
         "yaxis": "y"
        },
        {
         "hoverinfo": "text",
         "marker": {
          "color": "rgb(0,116,217)"
         },
         "mode": "lines",
         "type": "scatter",
         "x": [
          1015,
          1015,
          1025,
          1025
         ],
         "xaxis": "x",
         "y": [
          0,
          0.09786333493630618,
          0.09786333493630618,
          0
         ],
         "yaxis": "y"
        },
        {
         "hoverinfo": "text",
         "marker": {
          "color": "rgb(0,116,217)"
         },
         "mode": "lines",
         "type": "scatter",
         "x": [
          1005,
          1005,
          1020,
          1020
         ],
         "xaxis": "x",
         "y": [
          0,
          0.3246330931935368,
          0.3246330931935368,
          0.09786333493630618
         ],
         "yaxis": "y"
        },
        {
         "hoverinfo": "text",
         "marker": {
          "color": "rgb(0,116,217)"
         },
         "mode": "lines",
         "type": "scatter",
         "x": [
          1035,
          1035,
          1045,
          1045
         ],
         "xaxis": "x",
         "y": [
          0,
          0.15431742749962135,
          0.15431742749962135,
          0
         ],
         "yaxis": "y"
        },
        {
         "hoverinfo": "text",
         "marker": {
          "color": "rgb(0,116,217)"
         },
         "mode": "lines",
         "type": "scatter",
         "x": [
          1055,
          1055,
          1065,
          1065
         ],
         "xaxis": "x",
         "y": [
          0,
          0.025181719700702918,
          0.025181719700702918,
          0
         ],
         "yaxis": "y"
        },
        {
         "hoverinfo": "text",
         "marker": {
          "color": "rgb(0,116,217)"
         },
         "mode": "lines",
         "type": "scatter",
         "x": [
          1085,
          1085,
          1095,
          1095
         ],
         "xaxis": "x",
         "y": [
          0,
          0.07495276600191611,
          0.07495276600191611,
          0
         ],
         "yaxis": "y"
        },
        {
         "hoverinfo": "text",
         "marker": {
          "color": "rgb(0,116,217)"
         },
         "mode": "lines",
         "type": "scatter",
         "x": [
          1075,
          1075,
          1090,
          1090
         ],
         "xaxis": "x",
         "y": [
          0,
          0.12699313535734683,
          0.12699313535734683,
          0.07495276600191611
         ],
         "yaxis": "y"
        },
        {
         "hoverinfo": "text",
         "marker": {
          "color": "rgb(0,116,217)"
         },
         "mode": "lines",
         "type": "scatter",
         "x": [
          1060,
          1060,
          1082.5,
          1082.5
         ],
         "xaxis": "x",
         "y": [
          0.025181719700702918,
          0.25618574521525034,
          0.25618574521525034,
          0.12699313535734683
         ],
         "yaxis": "y"
        },
        {
         "hoverinfo": "text",
         "marker": {
          "color": "rgb(0,116,217)"
         },
         "mode": "lines",
         "type": "scatter",
         "x": [
          1040,
          1040,
          1071.25,
          1071.25
         ],
         "xaxis": "x",
         "y": [
          0.15431742749962135,
          0.5057964293737662,
          0.5057964293737662,
          0.25618574521525034
         ],
         "yaxis": "y"
        },
        {
         "hoverinfo": "text",
         "marker": {
          "color": "rgb(0,116,217)"
         },
         "mode": "lines",
         "type": "scatter",
         "x": [
          1012.5,
          1012.5,
          1055.625,
          1055.625
         ],
         "xaxis": "x",
         "y": [
          0.3246330931935368,
          0.7764218164838746,
          0.7764218164838746,
          0.5057964293737662
         ],
         "yaxis": "y"
        },
        {
         "hoverinfo": "text",
         "marker": {
          "color": "rgb(0,116,217)"
         },
         "mode": "lines",
         "type": "scatter",
         "x": [
          1135,
          1135,
          1145,
          1145
         ],
         "xaxis": "x",
         "y": [
          0,
          0.05337030503855285,
          0.05337030503855285,
          0
         ],
         "yaxis": "y"
        },
        {
         "hoverinfo": "text",
         "marker": {
          "color": "rgb(0,116,217)"
         },
         "mode": "lines",
         "type": "scatter",
         "x": [
          1125,
          1125,
          1140,
          1140
         ],
         "xaxis": "x",
         "y": [
          0,
          0.13043450604523207,
          0.13043450604523207,
          0.05337030503855285
         ],
         "yaxis": "y"
        },
        {
         "hoverinfo": "text",
         "marker": {
          "color": "rgb(0,116,217)"
         },
         "mode": "lines",
         "type": "scatter",
         "x": [
          1115,
          1115,
          1132.5,
          1132.5
         ],
         "xaxis": "x",
         "y": [
          0,
          0.2529239866958287,
          0.2529239866958287,
          0.13043450604523207
         ],
         "yaxis": "y"
        },
        {
         "hoverinfo": "text",
         "marker": {
          "color": "rgb(0,116,217)"
         },
         "mode": "lines",
         "type": "scatter",
         "x": [
          1165,
          1165,
          1175,
          1175
         ],
         "xaxis": "x",
         "y": [
          0,
          0.13043450604523138,
          0.13043450604523138,
          0
         ],
         "yaxis": "y"
        },
        {
         "hoverinfo": "text",
         "marker": {
          "color": "rgb(0,116,217)"
         },
         "mode": "lines",
         "type": "scatter",
         "x": [
          1155,
          1155,
          1170,
          1170
         ],
         "xaxis": "x",
         "y": [
          0,
          0.34393427040927493,
          0.34393427040927493,
          0.13043450604523138
         ],
         "yaxis": "y"
        },
        {
         "hoverinfo": "text",
         "marker": {
          "color": "rgb(0,116,217)"
         },
         "mode": "lines",
         "type": "scatter",
         "x": [
          1123.75,
          1123.75,
          1162.5,
          1162.5
         ],
         "xaxis": "x",
         "y": [
          0.2529239866958287,
          0.5172635886429414,
          0.5172635886429414,
          0.34393427040927493
         ],
         "yaxis": "y"
        },
        {
         "hoverinfo": "text",
         "marker": {
          "color": "rgb(0,116,217)"
         },
         "mode": "lines",
         "type": "scatter",
         "x": [
          1105,
          1105,
          1143.125,
          1143.125
         ],
         "xaxis": "x",
         "y": [
          0,
          0.7123882565637587,
          0.7123882565637587,
          0.5172635886429414
         ],
         "yaxis": "y"
        },
        {
         "hoverinfo": "text",
         "marker": {
          "color": "rgb(0,116,217)"
         },
         "mode": "lines",
         "type": "scatter",
         "x": [
          1185,
          1185,
          1195,
          1195
         ],
         "xaxis": "x",
         "y": [
          0,
          0.05078844873107969,
          0.05078844873107969,
          0
         ],
         "yaxis": "y"
        },
        {
         "hoverinfo": "text",
         "marker": {
          "color": "rgb(0,116,217)"
         },
         "mode": "lines",
         "type": "scatter",
         "x": [
          1205,
          1205,
          1215,
          1215
         ],
         "xaxis": "x",
         "y": [
          0,
          0.06809705824098675,
          0.06809705824098675,
          0
         ],
         "yaxis": "y"
        },
        {
         "hoverinfo": "text",
         "marker": {
          "color": "rgb(0,116,217)"
         },
         "mode": "lines",
         "type": "scatter",
         "x": [
          1190,
          1190,
          1210,
          1210
         ],
         "xaxis": "x",
         "y": [
          0.05078844873107969,
          0.14790949531569147,
          0.14790949531569147,
          0.06809705824098675
         ],
         "yaxis": "y"
        },
        {
         "hoverinfo": "text",
         "marker": {
          "color": "rgb(0,116,217)"
         },
         "mode": "lines",
         "type": "scatter",
         "x": [
          1225,
          1225,
          1235,
          1235
         ],
         "xaxis": "x",
         "y": [
          0,
          0.07495276600191576,
          0.07495276600191576,
          0
         ],
         "yaxis": "y"
        },
        {
         "hoverinfo": "text",
         "marker": {
          "color": "rgb(0,116,217)"
         },
         "mode": "lines",
         "type": "scatter",
         "x": [
          1255,
          1255,
          1265,
          1265
         ],
         "xaxis": "x",
         "y": [
          0,
          0.008502847928636313,
          0.008502847928636313,
          0
         ],
         "yaxis": "y"
        },
        {
         "hoverinfo": "text",
         "marker": {
          "color": "rgb(0,116,217)"
         },
         "mode": "lines",
         "type": "scatter",
         "x": [
          1245,
          1245,
          1260,
          1260
         ],
         "xaxis": "x",
         "y": [
          0,
          0.04498495756897309,
          0.04498495756897309,
          0.008502847928636313
         ],
         "yaxis": "y"
        },
        {
         "hoverinfo": "text",
         "marker": {
          "color": "rgb(0,116,217)"
         },
         "mode": "lines",
         "type": "scatter",
         "x": [
          1275,
          1275,
          1285,
          1285
         ],
         "xaxis": "x",
         "y": [
          0,
          0.0753531055419683,
          0.0753531055419683,
          0
         ],
         "yaxis": "y"
        },
        {
         "hoverinfo": "text",
         "marker": {
          "color": "rgb(0,116,217)"
         },
         "mode": "lines",
         "type": "scatter",
         "x": [
          1252.5,
          1252.5,
          1280,
          1280
         ],
         "xaxis": "x",
         "y": [
          0.04498495756897309,
          0.13895640735572504,
          0.13895640735572504,
          0.0753531055419683
         ],
         "yaxis": "y"
        },
        {
         "hoverinfo": "text",
         "marker": {
          "color": "rgb(0,116,217)"
         },
         "mode": "lines",
         "type": "scatter",
         "x": [
          1230,
          1230,
          1266.25,
          1266.25
         ],
         "xaxis": "x",
         "y": [
          0.07495276600191576,
          0.19278274694600925,
          0.19278274694600925,
          0.13895640735572504
         ],
         "yaxis": "y"
        },
        {
         "hoverinfo": "text",
         "marker": {
          "color": "rgb(0,116,217)"
         },
         "mode": "lines",
         "type": "scatter",
         "x": [
          1200,
          1200,
          1248.125,
          1248.125
         ],
         "xaxis": "x",
         "y": [
          0.14790949531569147,
          0.3522490862188129,
          0.3522490862188129,
          0.19278274694600925
         ],
         "yaxis": "y"
        },
        {
         "hoverinfo": "text",
         "marker": {
          "color": "rgb(0,116,217)"
         },
         "mode": "lines",
         "type": "scatter",
         "x": [
          1305,
          1305,
          1315,
          1315
         ],
         "xaxis": "x",
         "y": [
          0,
          0.10157689746215981,
          0.10157689746215981,
          0
         ],
         "yaxis": "y"
        },
        {
         "hoverinfo": "text",
         "marker": {
          "color": "rgb(0,116,217)"
         },
         "mode": "lines",
         "type": "scatter",
         "x": [
          1295,
          1295,
          1310,
          1310
         ],
         "xaxis": "x",
         "y": [
          0,
          0.20274429761280677,
          0.20274429761280677,
          0.10157689746215981
         ],
         "yaxis": "y"
        },
        {
         "hoverinfo": "text",
         "marker": {
          "color": "rgb(0,116,217)"
         },
         "mode": "lines",
         "type": "scatter",
         "x": [
          1325,
          1325,
          1335,
          1335
         ],
         "xaxis": "x",
         "y": [
          0,
          0.08605258204850316,
          0.08605258204850316,
          0
         ],
         "yaxis": "y"
        },
        {
         "hoverinfo": "text",
         "marker": {
          "color": "rgb(0,116,217)"
         },
         "mode": "lines",
         "type": "scatter",
         "x": [
          1345,
          1345,
          1355,
          1355
         ],
         "xaxis": "x",
         "y": [
          0,
          0.1466602365393329,
          0.1466602365393329,
          0
         ],
         "yaxis": "y"
        },
        {
         "hoverinfo": "text",
         "marker": {
          "color": "rgb(0,116,217)"
         },
         "mode": "lines",
         "type": "scatter",
         "x": [
          1330,
          1330,
          1350,
          1350
         ],
         "xaxis": "x",
         "y": [
          0.08605258204850316,
          0.23242490746697966,
          0.23242490746697966,
          0.1466602365393329
         ],
         "yaxis": "y"
        },
        {
         "hoverinfo": "text",
         "marker": {
          "color": "rgb(0,116,217)"
         },
         "mode": "lines",
         "type": "scatter",
         "x": [
          1302.5,
          1302.5,
          1340,
          1340
         ],
         "xaxis": "x",
         "y": [
          0.20274429761280677,
          0.49628123224063525,
          0.49628123224063525,
          0.23242490746697966
         ],
         "yaxis": "y"
        },
        {
         "hoverinfo": "text",
         "marker": {
          "color": "rgb(0,116,217)"
         },
         "mode": "lines",
         "type": "scatter",
         "x": [
          1224.0625,
          1224.0625,
          1321.25,
          1321.25
         ],
         "xaxis": "x",
         "y": [
          0.3522490862188129,
          0.5981607742159631,
          0.5981607742159631,
          0.49628123224063525
         ],
         "yaxis": "y"
        },
        {
         "hoverinfo": "text",
         "marker": {
          "color": "rgb(0,116,217)"
         },
         "mode": "lines",
         "type": "scatter",
         "x": [
          1385,
          1385,
          1395,
          1395
         ],
         "xaxis": "x",
         "y": [
          0,
          0.07312515084022696,
          0.07312515084022696,
          0
         ],
         "yaxis": "y"
        },
        {
         "hoverinfo": "text",
         "marker": {
          "color": "rgb(0,116,217)"
         },
         "mode": "lines",
         "type": "scatter",
         "x": [
          1415,
          1415,
          1425,
          1425
         ],
         "xaxis": "x",
         "y": [
          0,
          0,
          0,
          0
         ],
         "yaxis": "y"
        },
        {
         "hoverinfo": "text",
         "marker": {
          "color": "rgb(0,116,217)"
         },
         "mode": "lines",
         "type": "scatter",
         "x": [
          1405,
          1405,
          1420,
          1420
         ],
         "xaxis": "x",
         "y": [
          0,
          0,
          0,
          0
         ],
         "yaxis": "y"
        },
        {
         "hoverinfo": "text",
         "marker": {
          "color": "rgb(0,116,217)"
         },
         "mode": "lines",
         "type": "scatter",
         "x": [
          1435,
          1435,
          1445,
          1445
         ],
         "xaxis": "x",
         "y": [
          0,
          0.04498495756897948,
          0.04498495756897948,
          0
         ],
         "yaxis": "y"
        },
        {
         "hoverinfo": "text",
         "marker": {
          "color": "rgb(0,116,217)"
         },
         "mode": "lines",
         "type": "scatter",
         "x": [
          1412.5,
          1412.5,
          1440,
          1440
         ],
         "xaxis": "x",
         "y": [
          0,
          0.12456698592194586,
          0.12456698592194586,
          0.04498495756897948
         ],
         "yaxis": "y"
        },
        {
         "hoverinfo": "text",
         "marker": {
          "color": "rgb(0,116,217)"
         },
         "mode": "lines",
         "type": "scatter",
         "x": [
          1390,
          1390,
          1426.25,
          1426.25
         ],
         "xaxis": "x",
         "y": [
          0.07312515084022696,
          0.14227499635983654,
          0.14227499635983654,
          0.12456698592194586
         ],
         "yaxis": "y"
        },
        {
         "hoverinfo": "text",
         "marker": {
          "color": "rgb(0,116,217)"
         },
         "mode": "lines",
         "type": "scatter",
         "x": [
          1375,
          1375,
          1408.125,
          1408.125
         ],
         "xaxis": "x",
         "y": [
          0,
          0.23215810726145758,
          0.23215810726145758,
          0.14227499635983654
         ],
         "yaxis": "y"
        },
        {
         "hoverinfo": "text",
         "marker": {
          "color": "rgb(0,116,217)"
         },
         "mode": "lines",
         "type": "scatter",
         "x": [
          1455,
          1455,
          1465,
          1465
         ],
         "xaxis": "x",
         "y": [
          0,
          0.13030556757308143,
          0.13030556757308143,
          0
         ],
         "yaxis": "y"
        },
        {
         "hoverinfo": "text",
         "marker": {
          "color": "rgb(0,116,217)"
         },
         "mode": "lines",
         "type": "scatter",
         "x": [
          1485,
          1485,
          1495,
          1495
         ],
         "xaxis": "x",
         "y": [
          0,
          0.08833326870422763,
          0.08833326870422763,
          0
         ],
         "yaxis": "y"
        },
        {
         "hoverinfo": "text",
         "marker": {
          "color": "rgb(0,116,217)"
         },
         "mode": "lines",
         "type": "scatter",
         "x": [
          1475,
          1475,
          1490,
          1490
         ],
         "xaxis": "x",
         "y": [
          0,
          0.2157489153120672,
          0.2157489153120672,
          0.08833326870422763
         ],
         "yaxis": "y"
        },
        {
         "hoverinfo": "text",
         "marker": {
          "color": "rgb(0,116,217)"
         },
         "mode": "lines",
         "type": "scatter",
         "x": [
          1460,
          1460,
          1482.5,
          1482.5
         ],
         "xaxis": "x",
         "y": [
          0.13030556757308143,
          0.31904317290874895,
          0.31904317290874895,
          0.2157489153120672
         ],
         "yaxis": "y"
        },
        {
         "hoverinfo": "text",
         "marker": {
          "color": "rgb(0,116,217)"
         },
         "mode": "lines",
         "type": "scatter",
         "x": [
          1391.5625,
          1391.5625,
          1471.25,
          1471.25
         ],
         "xaxis": "x",
         "y": [
          0.23215810726145758,
          0.4191707843674929,
          0.4191707843674929,
          0.31904317290874895
         ],
         "yaxis": "y"
        },
        {
         "hoverinfo": "text",
         "marker": {
          "color": "rgb(0,116,217)"
         },
         "mode": "lines",
         "type": "scatter",
         "x": [
          1365,
          1365,
          1431.40625,
          1431.40625
         ],
         "xaxis": "x",
         "y": [
          0,
          0.761548703791807,
          0.761548703791807,
          0.4191707843674929
         ],
         "yaxis": "y"
        },
        {
         "hoverinfo": "text",
         "marker": {
          "color": "rgb(0,116,217)"
         },
         "mode": "lines",
         "type": "scatter",
         "x": [
          1272.65625,
          1272.65625,
          1398.203125,
          1398.203125
         ],
         "xaxis": "x",
         "y": [
          0.5981607742159631,
          1.0510700600328646,
          1.0510700600328646,
          0.761548703791807
         ],
         "yaxis": "y"
        },
        {
         "hoverinfo": "text",
         "marker": {
          "color": "rgb(0,116,217)"
         },
         "mode": "lines",
         "type": "scatter",
         "x": [
          1124.0625,
          1124.0625,
          1335.4296875,
          1335.4296875
         ],
         "xaxis": "x",
         "y": [
          0.7123882565637587,
          1.5185863736284662,
          1.5185863736284662,
          1.0510700600328646
         ],
         "yaxis": "y"
        },
        {
         "hoverinfo": "text",
         "marker": {
          "color": "rgb(0,116,217)"
         },
         "mode": "lines",
         "type": "scatter",
         "x": [
          1034.0625,
          1034.0625,
          1229.74609375,
          1229.74609375
         ],
         "xaxis": "x",
         "y": [
          0.7764218164838746,
          2.325273221514671,
          2.325273221514671,
          1.5185863736284662
         ],
         "yaxis": "y"
        },
        {
         "hoverinfo": "text",
         "marker": {
          "color": "rgb(0,116,217)"
         },
         "mode": "lines",
         "type": "scatter",
         "x": [
          747.734375,
          747.734375,
          1131.904296875,
          1131.904296875
         ],
         "xaxis": "x",
         "y": [
          1.9937342669462093,
          4.226265890516508,
          4.226265890516508,
          2.325273221514671
         ],
         "yaxis": "y"
        },
        {
         "hoverinfo": "text",
         "marker": {
          "color": "rgb(0,116,217)"
         },
         "mode": "lines",
         "type": "scatter",
         "x": [
          220.44921875,
          220.44921875,
          939.8193359375,
          939.8193359375
         ],
         "xaxis": "x",
         "y": [
          2.9210940078420062,
          7.06053672703355,
          7.06053672703355,
          4.226265890516508
         ],
         "yaxis": "y"
        }
       ],
       "layout": {
        "autosize": false,
        "height": 500,
        "hovermode": "closest",
        "showlegend": false,
        "template": {
         "data": {
          "bar": [
           {
            "error_x": {
             "color": "#2a3f5f"
            },
            "error_y": {
             "color": "#2a3f5f"
            },
            "marker": {
             "line": {
              "color": "#E5ECF6",
              "width": 0.5
             },
             "pattern": {
              "fillmode": "overlay",
              "size": 10,
              "solidity": 0.2
             }
            },
            "type": "bar"
           }
          ],
          "barpolar": [
           {
            "marker": {
             "line": {
              "color": "#E5ECF6",
              "width": 0.5
             },
             "pattern": {
              "fillmode": "overlay",
              "size": 10,
              "solidity": 0.2
             }
            },
            "type": "barpolar"
           }
          ],
          "carpet": [
           {
            "aaxis": {
             "endlinecolor": "#2a3f5f",
             "gridcolor": "white",
             "linecolor": "white",
             "minorgridcolor": "white",
             "startlinecolor": "#2a3f5f"
            },
            "baxis": {
             "endlinecolor": "#2a3f5f",
             "gridcolor": "white",
             "linecolor": "white",
             "minorgridcolor": "white",
             "startlinecolor": "#2a3f5f"
            },
            "type": "carpet"
           }
          ],
          "choropleth": [
           {
            "colorbar": {
             "outlinewidth": 0,
             "ticks": ""
            },
            "type": "choropleth"
           }
          ],
          "contour": [
           {
            "colorbar": {
             "outlinewidth": 0,
             "ticks": ""
            },
            "colorscale": [
             [
              0,
              "#0d0887"
             ],
             [
              0.1111111111111111,
              "#46039f"
             ],
             [
              0.2222222222222222,
              "#7201a8"
             ],
             [
              0.3333333333333333,
              "#9c179e"
             ],
             [
              0.4444444444444444,
              "#bd3786"
             ],
             [
              0.5555555555555556,
              "#d8576b"
             ],
             [
              0.6666666666666666,
              "#ed7953"
             ],
             [
              0.7777777777777778,
              "#fb9f3a"
             ],
             [
              0.8888888888888888,
              "#fdca26"
             ],
             [
              1,
              "#f0f921"
             ]
            ],
            "type": "contour"
           }
          ],
          "contourcarpet": [
           {
            "colorbar": {
             "outlinewidth": 0,
             "ticks": ""
            },
            "type": "contourcarpet"
           }
          ],
          "heatmap": [
           {
            "colorbar": {
             "outlinewidth": 0,
             "ticks": ""
            },
            "colorscale": [
             [
              0,
              "#0d0887"
             ],
             [
              0.1111111111111111,
              "#46039f"
             ],
             [
              0.2222222222222222,
              "#7201a8"
             ],
             [
              0.3333333333333333,
              "#9c179e"
             ],
             [
              0.4444444444444444,
              "#bd3786"
             ],
             [
              0.5555555555555556,
              "#d8576b"
             ],
             [
              0.6666666666666666,
              "#ed7953"
             ],
             [
              0.7777777777777778,
              "#fb9f3a"
             ],
             [
              0.8888888888888888,
              "#fdca26"
             ],
             [
              1,
              "#f0f921"
             ]
            ],
            "type": "heatmap"
           }
          ],
          "heatmapgl": [
           {
            "colorbar": {
             "outlinewidth": 0,
             "ticks": ""
            },
            "colorscale": [
             [
              0,
              "#0d0887"
             ],
             [
              0.1111111111111111,
              "#46039f"
             ],
             [
              0.2222222222222222,
              "#7201a8"
             ],
             [
              0.3333333333333333,
              "#9c179e"
             ],
             [
              0.4444444444444444,
              "#bd3786"
             ],
             [
              0.5555555555555556,
              "#d8576b"
             ],
             [
              0.6666666666666666,
              "#ed7953"
             ],
             [
              0.7777777777777778,
              "#fb9f3a"
             ],
             [
              0.8888888888888888,
              "#fdca26"
             ],
             [
              1,
              "#f0f921"
             ]
            ],
            "type": "heatmapgl"
           }
          ],
          "histogram": [
           {
            "marker": {
             "pattern": {
              "fillmode": "overlay",
              "size": 10,
              "solidity": 0.2
             }
            },
            "type": "histogram"
           }
          ],
          "histogram2d": [
           {
            "colorbar": {
             "outlinewidth": 0,
             "ticks": ""
            },
            "colorscale": [
             [
              0,
              "#0d0887"
             ],
             [
              0.1111111111111111,
              "#46039f"
             ],
             [
              0.2222222222222222,
              "#7201a8"
             ],
             [
              0.3333333333333333,
              "#9c179e"
             ],
             [
              0.4444444444444444,
              "#bd3786"
             ],
             [
              0.5555555555555556,
              "#d8576b"
             ],
             [
              0.6666666666666666,
              "#ed7953"
             ],
             [
              0.7777777777777778,
              "#fb9f3a"
             ],
             [
              0.8888888888888888,
              "#fdca26"
             ],
             [
              1,
              "#f0f921"
             ]
            ],
            "type": "histogram2d"
           }
          ],
          "histogram2dcontour": [
           {
            "colorbar": {
             "outlinewidth": 0,
             "ticks": ""
            },
            "colorscale": [
             [
              0,
              "#0d0887"
             ],
             [
              0.1111111111111111,
              "#46039f"
             ],
             [
              0.2222222222222222,
              "#7201a8"
             ],
             [
              0.3333333333333333,
              "#9c179e"
             ],
             [
              0.4444444444444444,
              "#bd3786"
             ],
             [
              0.5555555555555556,
              "#d8576b"
             ],
             [
              0.6666666666666666,
              "#ed7953"
             ],
             [
              0.7777777777777778,
              "#fb9f3a"
             ],
             [
              0.8888888888888888,
              "#fdca26"
             ],
             [
              1,
              "#f0f921"
             ]
            ],
            "type": "histogram2dcontour"
           }
          ],
          "mesh3d": [
           {
            "colorbar": {
             "outlinewidth": 0,
             "ticks": ""
            },
            "type": "mesh3d"
           }
          ],
          "parcoords": [
           {
            "line": {
             "colorbar": {
              "outlinewidth": 0,
              "ticks": ""
             }
            },
            "type": "parcoords"
           }
          ],
          "pie": [
           {
            "automargin": true,
            "type": "pie"
           }
          ],
          "scatter": [
           {
            "marker": {
             "colorbar": {
              "outlinewidth": 0,
              "ticks": ""
             }
            },
            "type": "scatter"
           }
          ],
          "scatter3d": [
           {
            "line": {
             "colorbar": {
              "outlinewidth": 0,
              "ticks": ""
             }
            },
            "marker": {
             "colorbar": {
              "outlinewidth": 0,
              "ticks": ""
             }
            },
            "type": "scatter3d"
           }
          ],
          "scattercarpet": [
           {
            "marker": {
             "colorbar": {
              "outlinewidth": 0,
              "ticks": ""
             }
            },
            "type": "scattercarpet"
           }
          ],
          "scattergeo": [
           {
            "marker": {
             "colorbar": {
              "outlinewidth": 0,
              "ticks": ""
             }
            },
            "type": "scattergeo"
           }
          ],
          "scattergl": [
           {
            "marker": {
             "colorbar": {
              "outlinewidth": 0,
              "ticks": ""
             }
            },
            "type": "scattergl"
           }
          ],
          "scattermapbox": [
           {
            "marker": {
             "colorbar": {
              "outlinewidth": 0,
              "ticks": ""
             }
            },
            "type": "scattermapbox"
           }
          ],
          "scatterpolar": [
           {
            "marker": {
             "colorbar": {
              "outlinewidth": 0,
              "ticks": ""
             }
            },
            "type": "scatterpolar"
           }
          ],
          "scatterpolargl": [
           {
            "marker": {
             "colorbar": {
              "outlinewidth": 0,
              "ticks": ""
             }
            },
            "type": "scatterpolargl"
           }
          ],
          "scatterternary": [
           {
            "marker": {
             "colorbar": {
              "outlinewidth": 0,
              "ticks": ""
             }
            },
            "type": "scatterternary"
           }
          ],
          "surface": [
           {
            "colorbar": {
             "outlinewidth": 0,
             "ticks": ""
            },
            "colorscale": [
             [
              0,
              "#0d0887"
             ],
             [
              0.1111111111111111,
              "#46039f"
             ],
             [
              0.2222222222222222,
              "#7201a8"
             ],
             [
              0.3333333333333333,
              "#9c179e"
             ],
             [
              0.4444444444444444,
              "#bd3786"
             ],
             [
              0.5555555555555556,
              "#d8576b"
             ],
             [
              0.6666666666666666,
              "#ed7953"
             ],
             [
              0.7777777777777778,
              "#fb9f3a"
             ],
             [
              0.8888888888888888,
              "#fdca26"
             ],
             [
              1,
              "#f0f921"
             ]
            ],
            "type": "surface"
           }
          ],
          "table": [
           {
            "cells": {
             "fill": {
              "color": "#EBF0F8"
             },
             "line": {
              "color": "white"
             }
            },
            "header": {
             "fill": {
              "color": "#C8D4E3"
             },
             "line": {
              "color": "white"
             }
            },
            "type": "table"
           }
          ]
         },
         "layout": {
          "annotationdefaults": {
           "arrowcolor": "#2a3f5f",
           "arrowhead": 0,
           "arrowwidth": 1
          },
          "autotypenumbers": "strict",
          "coloraxis": {
           "colorbar": {
            "outlinewidth": 0,
            "ticks": ""
           }
          },
          "colorscale": {
           "diverging": [
            [
             0,
             "#8e0152"
            ],
            [
             0.1,
             "#c51b7d"
            ],
            [
             0.2,
             "#de77ae"
            ],
            [
             0.3,
             "#f1b6da"
            ],
            [
             0.4,
             "#fde0ef"
            ],
            [
             0.5,
             "#f7f7f7"
            ],
            [
             0.6,
             "#e6f5d0"
            ],
            [
             0.7,
             "#b8e186"
            ],
            [
             0.8,
             "#7fbc41"
            ],
            [
             0.9,
             "#4d9221"
            ],
            [
             1,
             "#276419"
            ]
           ],
           "sequential": [
            [
             0,
             "#0d0887"
            ],
            [
             0.1111111111111111,
             "#46039f"
            ],
            [
             0.2222222222222222,
             "#7201a8"
            ],
            [
             0.3333333333333333,
             "#9c179e"
            ],
            [
             0.4444444444444444,
             "#bd3786"
            ],
            [
             0.5555555555555556,
             "#d8576b"
            ],
            [
             0.6666666666666666,
             "#ed7953"
            ],
            [
             0.7777777777777778,
             "#fb9f3a"
            ],
            [
             0.8888888888888888,
             "#fdca26"
            ],
            [
             1,
             "#f0f921"
            ]
           ],
           "sequentialminus": [
            [
             0,
             "#0d0887"
            ],
            [
             0.1111111111111111,
             "#46039f"
            ],
            [
             0.2222222222222222,
             "#7201a8"
            ],
            [
             0.3333333333333333,
             "#9c179e"
            ],
            [
             0.4444444444444444,
             "#bd3786"
            ],
            [
             0.5555555555555556,
             "#d8576b"
            ],
            [
             0.6666666666666666,
             "#ed7953"
            ],
            [
             0.7777777777777778,
             "#fb9f3a"
            ],
            [
             0.8888888888888888,
             "#fdca26"
            ],
            [
             1,
             "#f0f921"
            ]
           ]
          },
          "colorway": [
           "#636efa",
           "#EF553B",
           "#00cc96",
           "#ab63fa",
           "#FFA15A",
           "#19d3f3",
           "#FF6692",
           "#B6E880",
           "#FF97FF",
           "#FECB52"
          ],
          "font": {
           "color": "#2a3f5f"
          },
          "geo": {
           "bgcolor": "white",
           "lakecolor": "white",
           "landcolor": "#E5ECF6",
           "showlakes": true,
           "showland": true,
           "subunitcolor": "white"
          },
          "hoverlabel": {
           "align": "left"
          },
          "hovermode": "closest",
          "mapbox": {
           "style": "light"
          },
          "paper_bgcolor": "white",
          "plot_bgcolor": "#E5ECF6",
          "polar": {
           "angularaxis": {
            "gridcolor": "white",
            "linecolor": "white",
            "ticks": ""
           },
           "bgcolor": "#E5ECF6",
           "radialaxis": {
            "gridcolor": "white",
            "linecolor": "white",
            "ticks": ""
           }
          },
          "scene": {
           "xaxis": {
            "backgroundcolor": "#E5ECF6",
            "gridcolor": "white",
            "gridwidth": 2,
            "linecolor": "white",
            "showbackground": true,
            "ticks": "",
            "zerolinecolor": "white"
           },
           "yaxis": {
            "backgroundcolor": "#E5ECF6",
            "gridcolor": "white",
            "gridwidth": 2,
            "linecolor": "white",
            "showbackground": true,
            "ticks": "",
            "zerolinecolor": "white"
           },
           "zaxis": {
            "backgroundcolor": "#E5ECF6",
            "gridcolor": "white",
            "gridwidth": 2,
            "linecolor": "white",
            "showbackground": true,
            "ticks": "",
            "zerolinecolor": "white"
           }
          },
          "shapedefaults": {
           "line": {
            "color": "#2a3f5f"
           }
          },
          "ternary": {
           "aaxis": {
            "gridcolor": "white",
            "linecolor": "white",
            "ticks": ""
           },
           "baxis": {
            "gridcolor": "white",
            "linecolor": "white",
            "ticks": ""
           },
           "bgcolor": "#E5ECF6",
           "caxis": {
            "gridcolor": "white",
            "linecolor": "white",
            "ticks": ""
           }
          },
          "title": {
           "x": 0.05
          },
          "xaxis": {
           "automargin": true,
           "gridcolor": "white",
           "linecolor": "white",
           "ticks": "",
           "title": {
            "standoff": 15
           },
           "zerolinecolor": "white",
           "zerolinewidth": 2
          },
          "yaxis": {
           "automargin": true,
           "gridcolor": "white",
           "linecolor": "white",
           "ticks": "",
           "title": {
            "standoff": 15
           },
           "zerolinecolor": "white",
           "zerolinewidth": 2
          }
         }
        },
        "width": 800,
        "xaxis": {
         "mirror": "allticks",
         "rangemode": "tozero",
         "showgrid": false,
         "showline": true,
         "showticklabels": true,
         "tickmode": "array",
         "ticks": "outside",
         "ticktext": [
          "125",
          "102",
          "143",
          "129",
          "120",
          "144",
          "107",
          "130",
          "109",
          "135",
          "117",
          "131",
          "118",
          "105",
          "122",
          "108",
          "128",
          "132",
          "100",
          "104",
          "112",
          "136",
          "124",
          "140",
          "103",
          "111",
          "147",
          "116",
          "137",
          "145",
          "115",
          "148",
          "77",
          "110",
          "139",
          "141",
          "50",
          "52",
          "65",
          "51",
          "75",
          "76",
          "86",
          "54",
          "56",
          "58",
          "126",
          "127",
          "70",
          "138",
          "72",
          "83",
          "133",
          "123",
          "149",
          "113",
          "119",
          "121",
          "101",
          "142",
          "134",
          "114",
          "146",
          "64",
          "79",
          "81",
          "69",
          "59",
          "80",
          "60",
          "98",
          "57",
          "93",
          "106",
          "53",
          "89",
          "90",
          "62",
          "94",
          "92",
          "67",
          "99",
          "82",
          "88",
          "95",
          "96",
          "61",
          "71",
          "84",
          "55",
          "66",
          "68",
          "87",
          "63",
          "73",
          "78",
          "91",
          "97",
          "74",
          "85",
          "15",
          "14",
          "33",
          "5",
          "18",
          "16",
          "32",
          "36",
          "10",
          "48",
          "41",
          "42",
          "3",
          "12",
          "47",
          "13",
          "8",
          "38",
          "19",
          "46",
          "21",
          "27",
          "7",
          "39",
          "0",
          "17",
          "28",
          "4",
          "40",
          "44",
          "20",
          "31",
          "26",
          "43",
          "23",
          "24",
          "22",
          "25",
          "1",
          "45",
          "37",
          "9",
          "34",
          "29",
          "30",
          "11",
          "49",
          "35",
          "2",
          "6"
         ],
         "tickvals": [
          5,
          15,
          25,
          35,
          45,
          55,
          65,
          75,
          85,
          95,
          105,
          115,
          125,
          135,
          145,
          155,
          165,
          175,
          185,
          195,
          205,
          215,
          225,
          235,
          245,
          255,
          265,
          275,
          285,
          295,
          305,
          315,
          325,
          335,
          345,
          355,
          365,
          375,
          385,
          395,
          405,
          415,
          425,
          435,
          445,
          455,
          465,
          475,
          485,
          495,
          505,
          515,
          525,
          535,
          545,
          555,
          565,
          575,
          585,
          595,
          605,
          615,
          625,
          635,
          645,
          655,
          665,
          675,
          685,
          695,
          705,
          715,
          725,
          735,
          745,
          755,
          765,
          775,
          785,
          795,
          805,
          815,
          825,
          835,
          845,
          855,
          865,
          875,
          885,
          895,
          905,
          915,
          925,
          935,
          945,
          955,
          965,
          975,
          985,
          995,
          1005,
          1015,
          1025,
          1035,
          1045,
          1055,
          1065,
          1075,
          1085,
          1095,
          1105,
          1115,
          1125,
          1135,
          1145,
          1155,
          1165,
          1175,
          1185,
          1195,
          1205,
          1215,
          1225,
          1235,
          1245,
          1255,
          1265,
          1275,
          1285,
          1295,
          1305,
          1315,
          1325,
          1335,
          1345,
          1355,
          1365,
          1375,
          1385,
          1395,
          1405,
          1415,
          1425,
          1435,
          1445,
          1455,
          1465,
          1475,
          1485,
          1495
         ],
         "type": "linear",
         "zeroline": false
        },
        "yaxis": {
         "mirror": "allticks",
         "rangemode": "tozero",
         "showgrid": false,
         "showline": true,
         "showticklabels": true,
         "ticks": "outside",
         "type": "linear",
         "zeroline": false
        }
       }
      }
     },
     "metadata": {},
     "output_type": "display_data"
    }
   ],
   "source": [
    "# Create the dendogram\n",
    "fig = ff.create_dendrogram(df_h_iris_pca, color_threshold=0)\n",
    "fig.update_layout(width=800, height=500)\n",
    "fig.show()"
   ]
  },
  {
   "cell_type": "code",
   "execution_count": 46,
   "metadata": {},
   "outputs": [],
   "source": [
    "agg = AgglomerativeClustering(n_clusters=3)\n",
    "model = agg.fit(df_h_iris_pca)"
   ]
  },
  {
   "cell_type": "code",
   "execution_count": 47,
   "metadata": {},
   "outputs": [],
   "source": [
    "df_iris_pca = df_h_iris_pca"
   ]
  },
  {
   "cell_type": "code",
   "execution_count": 48,
   "metadata": {},
   "outputs": [
    {
     "data": {
      "text/html": [
       "<div>\n",
       "<style scoped>\n",
       "    .dataframe tbody tr th:only-of-type {\n",
       "        vertical-align: middle;\n",
       "    }\n",
       "\n",
       "    .dataframe tbody tr th {\n",
       "        vertical-align: top;\n",
       "    }\n",
       "\n",
       "    .dataframe thead th {\n",
       "        text-align: right;\n",
       "    }\n",
       "</style>\n",
       "<table border=\"1\" class=\"dataframe\">\n",
       "  <thead>\n",
       "    <tr style=\"text-align: right;\">\n",
       "      <th></th>\n",
       "      <th>principal component 1</th>\n",
       "      <th>principal component 2</th>\n",
       "      <th>class</th>\n",
       "    </tr>\n",
       "  </thead>\n",
       "  <tbody>\n",
       "    <tr>\n",
       "      <th>0</th>\n",
       "      <td>-2.684207</td>\n",
       "      <td>0.326607</td>\n",
       "      <td>1</td>\n",
       "    </tr>\n",
       "    <tr>\n",
       "      <th>1</th>\n",
       "      <td>-2.715391</td>\n",
       "      <td>-0.169557</td>\n",
       "      <td>1</td>\n",
       "    </tr>\n",
       "    <tr>\n",
       "      <th>2</th>\n",
       "      <td>-2.889820</td>\n",
       "      <td>-0.137346</td>\n",
       "      <td>1</td>\n",
       "    </tr>\n",
       "    <tr>\n",
       "      <th>3</th>\n",
       "      <td>-2.746437</td>\n",
       "      <td>-0.311124</td>\n",
       "      <td>1</td>\n",
       "    </tr>\n",
       "    <tr>\n",
       "      <th>4</th>\n",
       "      <td>-2.728593</td>\n",
       "      <td>0.333925</td>\n",
       "      <td>1</td>\n",
       "    </tr>\n",
       "  </tbody>\n",
       "</table>\n",
       "</div>"
      ],
      "text/plain": [
       "   principal component 1  principal component 2  class\n",
       "0              -2.684207               0.326607      1\n",
       "1              -2.715391              -0.169557      1\n",
       "2              -2.889820              -0.137346      1\n",
       "3              -2.746437              -0.311124      1\n",
       "4              -2.728593               0.333925      1"
      ]
     },
     "execution_count": 48,
     "metadata": {},
     "output_type": "execute_result"
    }
   ],
   "source": [
    "df_iris_pca['class'] = model.labels_\n",
    "df_iris_pca.head()"
   ]
  },
  {
   "cell_type": "code",
   "execution_count": 49,
   "metadata": {},
   "outputs": [
    {
     "data": {},
     "metadata": {},
     "output_type": "display_data"
    },
    {
     "data": {
      "application/vnd.holoviews_exec.v0+json": "",
      "text/html": [
       "<div id='1972'>\n",
       "\n",
       "\n",
       "\n",
       "\n",
       "\n",
       "  <div class=\"bk-root\" id=\"d56a2e79-bd5a-4e40-93cc-b726e1121d76\" data-root-id=\"1972\"></div>\n",
       "</div>\n",
       "<script type=\"application/javascript\">(function(root) {\n",
       "  function embed_document(root) {\n",
       "    var docs_json = {\"20f8888e-1ddc-4945-b7b7-d6d658d05f6e\":{\"defs\":[{\"extends\":null,\"module\":null,\"name\":\"ReactiveHTML1\",\"overrides\":[],\"properties\":[]},{\"extends\":null,\"module\":null,\"name\":\"FlexBox1\",\"overrides\":[],\"properties\":[{\"default\":\"flex-start\",\"kind\":null,\"name\":\"align_content\"},{\"default\":\"flex-start\",\"kind\":null,\"name\":\"align_items\"},{\"default\":\"row\",\"kind\":null,\"name\":\"flex_direction\"},{\"default\":\"wrap\",\"kind\":null,\"name\":\"flex_wrap\"},{\"default\":\"flex-start\",\"kind\":null,\"name\":\"justify_content\"}]},{\"extends\":null,\"module\":null,\"name\":\"GridStack1\",\"overrides\":[],\"properties\":[{\"default\":\"warn\",\"kind\":null,\"name\":\"mode\"},{\"default\":null,\"kind\":null,\"name\":\"ncols\"},{\"default\":null,\"kind\":null,\"name\":\"nrows\"},{\"default\":true,\"kind\":null,\"name\":\"allow_resize\"},{\"default\":true,\"kind\":null,\"name\":\"allow_drag\"},{\"default\":[],\"kind\":null,\"name\":\"state\"}]},{\"extends\":null,\"module\":null,\"name\":\"click1\",\"overrides\":[],\"properties\":[{\"default\":\"\",\"kind\":null,\"name\":\"terminal_output\"},{\"default\":\"\",\"kind\":null,\"name\":\"debug_name\"},{\"default\":0,\"kind\":null,\"name\":\"clears\"}]},{\"extends\":null,\"module\":null,\"name\":\"TemplateActions1\",\"overrides\":[],\"properties\":[{\"default\":0,\"kind\":null,\"name\":\"open_modal\"},{\"default\":0,\"kind\":null,\"name\":\"close_modal\"}]},{\"extends\":null,\"module\":null,\"name\":\"MaterialTemplateActions1\",\"overrides\":[],\"properties\":[{\"default\":0,\"kind\":null,\"name\":\"open_modal\"},{\"default\":0,\"kind\":null,\"name\":\"close_modal\"}]}],\"roots\":{\"references\":[{\"attributes\":{\"label\":{\"value\":\"1\"},\"renderers\":[{\"id\":\"2042\"}]},\"id\":\"2056\",\"type\":\"LegendItem\"},{\"attributes\":{},\"id\":\"2014\",\"type\":\"AllLabels\"},{\"attributes\":{\"fill_color\":{\"value\":\"#e5ae38\"},\"hatch_color\":{\"value\":\"#e5ae38\"},\"line_color\":{\"value\":\"#e5ae38\"},\"size\":{\"value\":5.477225575051661},\"x\":{\"field\":\"principal component 1\"},\"y\":{\"field\":\"principal component 2\"}},\"id\":\"2061\",\"type\":\"Scatter\"},{\"attributes\":{\"tools\":[{\"id\":\"1976\"},{\"id\":\"1996\"},{\"id\":\"1997\"},{\"id\":\"1998\"},{\"id\":\"1999\"},{\"id\":\"2000\"}]},\"id\":\"2002\",\"type\":\"Toolbar\"},{\"attributes\":{\"fill_color\":{\"value\":\"#30a2da\"},\"hatch_color\":{\"value\":\"#30a2da\"},\"line_color\":{\"value\":\"#30a2da\"},\"size\":{\"value\":5.477225575051661},\"x\":{\"field\":\"principal component 1\"},\"y\":{\"field\":\"principal component 2\"}},\"id\":\"2018\",\"type\":\"Scatter\"},{\"attributes\":{\"fill_alpha\":{\"value\":0.2},\"fill_color\":{\"value\":\"#e5ae38\"},\"hatch_alpha\":{\"value\":0.2},\"hatch_color\":{\"value\":\"#e5ae38\"},\"line_alpha\":{\"value\":0.2},\"line_color\":{\"value\":\"#e5ae38\"},\"size\":{\"value\":5.477225575051661},\"x\":{\"field\":\"principal component 1\"},\"y\":{\"field\":\"principal component 2\"}},\"id\":\"2063\",\"type\":\"Scatter\"},{\"attributes\":{\"click_policy\":\"mute\",\"coordinates\":null,\"group\":null,\"items\":[{\"id\":\"2034\"},{\"id\":\"2056\"},{\"id\":\"2080\"}],\"location\":[0,0],\"title\":\"class\"},\"id\":\"2033\",\"type\":\"Legend\"},{\"attributes\":{\"source\":{\"id\":\"2015\"}},\"id\":\"2022\",\"type\":\"CDSView\"},{\"attributes\":{\"bottom_units\":\"screen\",\"coordinates\":null,\"fill_alpha\":0.5,\"fill_color\":\"lightgrey\",\"group\":null,\"left_units\":\"screen\",\"level\":\"overlay\",\"line_alpha\":1.0,\"line_color\":\"black\",\"line_dash\":[4,4],\"line_width\":2,\"right_units\":\"screen\",\"syncable\":false,\"top_units\":\"screen\"},\"id\":\"2001\",\"type\":\"BoxAnnotation\"},{\"attributes\":{\"margin\":[5,5,5,5],\"name\":\"HSpacer03455\",\"sizing_mode\":\"stretch_width\"},\"id\":\"1973\",\"type\":\"Spacer\"},{\"attributes\":{},\"id\":\"1996\",\"type\":\"SaveTool\"},{\"attributes\":{},\"id\":\"1997\",\"type\":\"PanTool\"},{\"attributes\":{},\"id\":\"2000\",\"type\":\"ResetTool\"},{\"attributes\":{},\"id\":\"1989\",\"type\":\"BasicTicker\"},{\"attributes\":{\"end\":4.095539174387895,\"reset_end\":4.095539174387895,\"reset_start\":-3.5260527594529054,\"start\":-3.5260527594529054,\"tags\":[[[\"principal component 1\",\"principal component 1\",null]]]},\"id\":\"1974\",\"type\":\"Range1d\"},{\"attributes\":{\"fill_alpha\":{\"value\":0.1},\"fill_color\":{\"value\":\"#fc4f30\"},\"hatch_alpha\":{\"value\":0.1},\"hatch_color\":{\"value\":\"#fc4f30\"},\"line_alpha\":{\"value\":0.1},\"line_color\":{\"value\":\"#fc4f30\"},\"size\":{\"value\":5.477225575051661},\"x\":{\"field\":\"principal component 1\"},\"y\":{\"field\":\"principal component 2\"}},\"id\":\"2040\",\"type\":\"Scatter\"},{\"attributes\":{},\"id\":\"1998\",\"type\":\"WheelZoomTool\"},{\"attributes\":{\"coordinates\":null,\"group\":null,\"text_color\":\"black\",\"text_font_size\":\"12pt\"},\"id\":\"1980\",\"type\":\"Title\"},{\"attributes\":{\"coordinates\":null,\"data_source\":{\"id\":\"2015\"},\"glyph\":{\"id\":\"2018\"},\"group\":null,\"hover_glyph\":null,\"muted_glyph\":{\"id\":\"2020\"},\"nonselection_glyph\":{\"id\":\"2019\"},\"selection_glyph\":{\"id\":\"2035\"},\"view\":{\"id\":\"2022\"}},\"id\":\"2021\",\"type\":\"GlyphRenderer\"},{\"attributes\":{\"angle\":{\"value\":0.0},\"fill_alpha\":{\"value\":1.0},\"fill_color\":{\"value\":\"#30a2da\"},\"hatch_alpha\":{\"value\":1.0},\"hatch_color\":{\"value\":\"#30a2da\"},\"hatch_scale\":{\"value\":12.0},\"hatch_weight\":{\"value\":1.0},\"line_alpha\":{\"value\":1.0},\"line_cap\":{\"value\":\"butt\"},\"line_color\":{\"value\":\"#30a2da\"},\"line_dash\":{\"value\":[]},\"line_dash_offset\":{\"value\":0},\"line_join\":{\"value\":\"bevel\"},\"line_width\":{\"value\":1},\"marker\":{\"value\":\"circle\"},\"size\":{\"value\":5.477225575051661},\"x\":{\"field\":\"principal component 1\"},\"y\":{\"field\":\"principal component 2\"}},\"id\":\"2035\",\"type\":\"Scatter\"},{\"attributes\":{\"fill_alpha\":{\"value\":0.1},\"fill_color\":{\"value\":\"#30a2da\"},\"hatch_alpha\":{\"value\":0.1},\"hatch_color\":{\"value\":\"#30a2da\"},\"line_alpha\":{\"value\":0.1},\"line_color\":{\"value\":\"#30a2da\"},\"size\":{\"value\":5.477225575051661},\"x\":{\"field\":\"principal component 1\"},\"y\":{\"field\":\"principal component 2\"}},\"id\":\"2019\",\"type\":\"Scatter\"},{\"attributes\":{\"source\":{\"id\":\"2058\"}},\"id\":\"2065\",\"type\":\"CDSView\"},{\"attributes\":{\"overlay\":{\"id\":\"2001\"}},\"id\":\"1999\",\"type\":\"BoxZoomTool\"},{\"attributes\":{\"coordinates\":null,\"data_source\":{\"id\":\"2058\"},\"glyph\":{\"id\":\"2061\"},\"group\":null,\"hover_glyph\":null,\"muted_glyph\":{\"id\":\"2063\"},\"nonselection_glyph\":{\"id\":\"2062\"},\"selection_glyph\":{\"id\":\"2081\"},\"view\":{\"id\":\"2065\"}},\"id\":\"2064\",\"type\":\"GlyphRenderer\"},{\"attributes\":{\"margin\":[5,5,5,5],\"name\":\"HSpacer03456\",\"sizing_mode\":\"stretch_width\"},\"id\":\"2208\",\"type\":\"Spacer\"},{\"attributes\":{\"fill_alpha\":{\"value\":0.2},\"fill_color\":{\"value\":\"#fc4f30\"},\"hatch_alpha\":{\"value\":0.2},\"hatch_color\":{\"value\":\"#fc4f30\"},\"line_alpha\":{\"value\":0.2},\"line_color\":{\"value\":\"#fc4f30\"},\"size\":{\"value\":5.477225575051661},\"x\":{\"field\":\"principal component 1\"},\"y\":{\"field\":\"principal component 2\"}},\"id\":\"2041\",\"type\":\"Scatter\"},{\"attributes\":{\"axis\":{\"id\":\"1988\"},\"coordinates\":null,\"grid_line_color\":null,\"group\":null,\"ticker\":null},\"id\":\"1991\",\"type\":\"Grid\"},{\"attributes\":{},\"id\":\"1993\",\"type\":\"BasicTicker\"},{\"attributes\":{},\"id\":\"2030\",\"type\":\"UnionRenderers\"},{\"attributes\":{\"below\":[{\"id\":\"1988\"}],\"center\":[{\"id\":\"1991\"},{\"id\":\"1995\"}],\"height\":300,\"left\":[{\"id\":\"1992\"}],\"margin\":[5,5,5,5],\"min_border_bottom\":10,\"min_border_left\":10,\"min_border_right\":10,\"min_border_top\":10,\"renderers\":[{\"id\":\"2021\"},{\"id\":\"2042\"},{\"id\":\"2064\"}],\"right\":[{\"id\":\"2033\"}],\"sizing_mode\":\"fixed\",\"title\":{\"id\":\"1980\"},\"toolbar\":{\"id\":\"2002\"},\"width\":700,\"x_range\":{\"id\":\"1974\"},\"x_scale\":{\"id\":\"1984\"},\"y_range\":{\"id\":\"1975\"},\"y_scale\":{\"id\":\"1986\"}},\"id\":\"1979\",\"subtype\":\"Figure\",\"type\":\"Plot\"},{\"attributes\":{},\"id\":\"2010\",\"type\":\"BasicTickFormatter\"},{\"attributes\":{\"end\":1.6338256349601812,\"reset_end\":1.6338256349601812,\"reset_start\":-1.5257935528459878,\"start\":-1.5257935528459878,\"tags\":[[[\"principal component 2\",\"principal component 2\",null]]]},\"id\":\"1975\",\"type\":\"Range1d\"},{\"attributes\":{},\"id\":\"2013\",\"type\":\"BasicTickFormatter\"},{\"attributes\":{},\"id\":\"2053\",\"type\":\"UnionRenderers\"},{\"attributes\":{},\"id\":\"2037\",\"type\":\"Selection\"},{\"attributes\":{\"source\":{\"id\":\"2036\"}},\"id\":\"2043\",\"type\":\"CDSView\"},{\"attributes\":{\"angle\":{\"value\":0.0},\"fill_alpha\":{\"value\":1.0},\"fill_color\":{\"value\":\"#fc4f30\"},\"hatch_alpha\":{\"value\":1.0},\"hatch_color\":{\"value\":\"#fc4f30\"},\"hatch_scale\":{\"value\":12.0},\"hatch_weight\":{\"value\":1.0},\"line_alpha\":{\"value\":1.0},\"line_cap\":{\"value\":\"butt\"},\"line_color\":{\"value\":\"#fc4f30\"},\"line_dash\":{\"value\":[]},\"line_dash_offset\":{\"value\":0},\"line_join\":{\"value\":\"bevel\"},\"line_width\":{\"value\":1},\"marker\":{\"value\":\"circle\"},\"size\":{\"value\":5.477225575051661},\"x\":{\"field\":\"principal component 1\"},\"y\":{\"field\":\"principal component 2\"}},\"id\":\"2057\",\"type\":\"Scatter\"},{\"attributes\":{},\"id\":\"2059\",\"type\":\"Selection\"},{\"attributes\":{},\"id\":\"1986\",\"type\":\"LinearScale\"},{\"attributes\":{\"data\":{\"class\":[1,1,1,1,1,1,1,1,1,1,1,1,1,1,1,1,1,1,1,1,1,1,1,1,1,1,1,1,1,1,1,1,1,1,1,1,1,1,1,1,1,1,1,1,1,1,1,1,1,1],\"principal component 1\":{\"__ndarray__\":\"xBfQlUF5BcB0HBC3HrkFwHoB8LRZHgfA2Ku3ELT4BcAjfKiOKNQFwPIu3tM6PQLAmHRMIi+RBsCX3sb9CAMFwJiOMgWKGgfA/VXgrghkBcBXEdbqXQ0EwKwJll635wTAj1U1L6pMBsB5XT7kNc0JwEyZcvz5JQXAYD99FCoSA8CNoJoE7/oEwHUCKtTDLwXAhZitL7aXAcDEpwaP4rIEwNMWbAv4ewLA1VEHi4tYBMC1fGGZE7oJwGMBnqfObALAd7QIOnDZAsDpvzLoNhAEwHWXS26gwAPArtch08Z/BMCDs/ecWh4FwEWsYpASEAXA9keKlyu1BMDmJH6g1kcDwHhw3yJcLgXA2kxEjPvGBMD9VeCuCGQFwKmyoZ2d7wbAQqUCyHcABcD9VeCuCGQFwJDrulPQ2gfA2bpHR/u4BMCZQtiWPikGwHbuJAtU0QbAtGxt2IL8B8BMrVgtfj4DwMsgpJywqwHA1Crpq665BcC7oH1E80wEwNIIQF/6uAbAFDVVoWtXBMBsupzHnKEFwA==\",\"dtype\":\"float64\",\"order\":\"little\",\"shape\":[50]},\"principal component 2\":{\"__ndarray__\":\"9AjjXSLn1D9ocojtCbTFv/pawHqKlMG/q0pJ9nXp07+z4vYhBV/VP3UdOgPW7ec/33+0Hc0Etb9siGys18/FP6Xl9jj6Q+K/P15fwiVQu7+P6VrRptzkP72Q1SmBCZY/fteXK5cmzb/pKP933hrgv7uauoCn+vI/zJ2wIR2E9T8bzrJlyi3qPyxyvDO8bNQ/dMVxf8Qi7D+IQSNVuKfgPzi5dpiqdtk/Ksnd8nop3D+yPF6EdSDCP1/V18SIA7s/3/56EWj1n7/WQB0gmczBv2N8WaFKpsE/H/rU9dT61z9eL8+ZP2/UP/VsKqJnVMi/WSBSKi1Eyb8vPKKm0sHaP7QxxDdMPeo/Dsnal7CZ8T8/Xl/CJVC7vzscnD3twrM/gEPs2edq4z8/Xl/CJVC7v+NPb7NqvN6/ORvJPjE3zj8ZgcqbCVnRP3FJm3gI2u2/uQnrmEtl1b8tZ0MT0RPJP+mKLrshVdw/4DIy1C8Qz7/KYJhR7lTgP4aelW/YO8y/1sTDbNDC4j/W5cHoWXG9Pw==\",\"dtype\":\"float64\",\"order\":\"little\",\"shape\":[50]},\"principal_component_1\":{\"__ndarray__\":\"xBfQlUF5BcB0HBC3HrkFwHoB8LRZHgfA2Ku3ELT4BcAjfKiOKNQFwPIu3tM6PQLAmHRMIi+RBsCX3sb9CAMFwJiOMgWKGgfA/VXgrghkBcBXEdbqXQ0EwKwJll635wTAj1U1L6pMBsB5XT7kNc0JwEyZcvz5JQXAYD99FCoSA8CNoJoE7/oEwHUCKtTDLwXAhZitL7aXAcDEpwaP4rIEwNMWbAv4ewLA1VEHi4tYBMC1fGGZE7oJwGMBnqfObALAd7QIOnDZAsDpvzLoNhAEwHWXS26gwAPArtch08Z/BMCDs/ecWh4FwEWsYpASEAXA9keKlyu1BMDmJH6g1kcDwHhw3yJcLgXA2kxEjPvGBMD9VeCuCGQFwKmyoZ2d7wbAQqUCyHcABcD9VeCuCGQFwJDrulPQ2gfA2bpHR/u4BMCZQtiWPikGwHbuJAtU0QbAtGxt2IL8B8BMrVgtfj4DwMsgpJywqwHA1Crpq665BcC7oH1E80wEwNIIQF/6uAbAFDVVoWtXBMBsupzHnKEFwA==\",\"dtype\":\"float64\",\"order\":\"little\",\"shape\":[50]},\"principal_component_2\":{\"__ndarray__\":\"9AjjXSLn1D9ocojtCbTFv/pawHqKlMG/q0pJ9nXp07+z4vYhBV/VP3UdOgPW7ec/33+0Hc0Etb9siGys18/FP6Xl9jj6Q+K/P15fwiVQu7+P6VrRptzkP72Q1SmBCZY/fteXK5cmzb/pKP933hrgv7uauoCn+vI/zJ2wIR2E9T8bzrJlyi3qPyxyvDO8bNQ/dMVxf8Qi7D+IQSNVuKfgPzi5dpiqdtk/Ksnd8nop3D+yPF6EdSDCP1/V18SIA7s/3/56EWj1n7/WQB0gmczBv2N8WaFKpsE/H/rU9dT61z9eL8+ZP2/UP/VsKqJnVMi/WSBSKi1Eyb8vPKKm0sHaP7QxxDdMPeo/Dsnal7CZ8T8/Xl/CJVC7vzscnD3twrM/gEPs2edq4z8/Xl/CJVC7v+NPb7NqvN6/ORvJPjE3zj8ZgcqbCVnRP3FJm3gI2u2/uQnrmEtl1b8tZ0MT0RPJP+mKLrshVdw/4DIy1C8Qz7/KYJhR7lTgP4aelW/YO8y/1sTDbNDC4j/W5cHoWXG9Pw==\",\"dtype\":\"float64\",\"order\":\"little\",\"shape\":[50]}},\"selected\":{\"id\":\"2037\"},\"selection_policy\":{\"id\":\"2053\"}},\"id\":\"2036\",\"type\":\"ColumnDataSource\"},{\"attributes\":{\"axis_label\":\"principal component 2\",\"coordinates\":null,\"formatter\":{\"id\":\"2013\"},\"group\":null,\"major_label_policy\":{\"id\":\"2014\"},\"ticker\":{\"id\":\"1993\"}},\"id\":\"1992\",\"type\":\"LinearAxis\"},{\"attributes\":{\"angle\":{\"value\":0.0},\"fill_alpha\":{\"value\":1.0},\"fill_color\":{\"value\":\"#e5ae38\"},\"hatch_alpha\":{\"value\":1.0},\"hatch_color\":{\"value\":\"#e5ae38\"},\"hatch_scale\":{\"value\":12.0},\"hatch_weight\":{\"value\":1.0},\"line_alpha\":{\"value\":1.0},\"line_cap\":{\"value\":\"butt\"},\"line_color\":{\"value\":\"#e5ae38\"},\"line_dash\":{\"value\":[]},\"line_dash_offset\":{\"value\":0},\"line_join\":{\"value\":\"bevel\"},\"line_width\":{\"value\":1},\"marker\":{\"value\":\"circle\"},\"size\":{\"value\":5.477225575051661},\"x\":{\"field\":\"principal component 1\"},\"y\":{\"field\":\"principal component 2\"}},\"id\":\"2081\",\"type\":\"Scatter\"},{\"attributes\":{\"fill_alpha\":{\"value\":0.1},\"fill_color\":{\"value\":\"#e5ae38\"},\"hatch_alpha\":{\"value\":0.1},\"hatch_color\":{\"value\":\"#e5ae38\"},\"line_alpha\":{\"value\":0.1},\"line_color\":{\"value\":\"#e5ae38\"},\"size\":{\"value\":5.477225575051661},\"x\":{\"field\":\"principal component 1\"},\"y\":{\"field\":\"principal component 2\"}},\"id\":\"2062\",\"type\":\"Scatter\"},{\"attributes\":{\"axis_label\":\"principal component 1\",\"coordinates\":null,\"formatter\":{\"id\":\"2010\"},\"group\":null,\"major_label_policy\":{\"id\":\"2011\"},\"ticker\":{\"id\":\"1989\"}},\"id\":\"1988\",\"type\":\"LinearAxis\"},{\"attributes\":{\"label\":{\"value\":\"0\"},\"renderers\":[{\"id\":\"2021\"}]},\"id\":\"2034\",\"type\":\"LegendItem\"},{\"attributes\":{\"fill_color\":{\"value\":\"#fc4f30\"},\"hatch_color\":{\"value\":\"#fc4f30\"},\"line_color\":{\"value\":\"#fc4f30\"},\"size\":{\"value\":5.477225575051661},\"x\":{\"field\":\"principal component 1\"},\"y\":{\"field\":\"principal component 2\"}},\"id\":\"2039\",\"type\":\"Scatter\"},{\"attributes\":{\"children\":[{\"id\":\"1973\"},{\"id\":\"1979\"},{\"id\":\"2208\"}],\"margin\":[0,0,0,0],\"name\":\"Row03451\",\"tags\":[\"embedded\"]},\"id\":\"1972\",\"type\":\"Row\"},{\"attributes\":{\"callback\":null,\"renderers\":[{\"id\":\"2021\"},{\"id\":\"2042\"},{\"id\":\"2064\"}],\"tags\":[\"hv_created\"],\"tooltips\":[[\"class\",\"@{class}\"],[\"principal component 1\",\"@{principal_component_1}\"],[\"principal component 2\",\"@{principal_component_2}\"]]},\"id\":\"1976\",\"type\":\"HoverTool\"},{\"attributes\":{},\"id\":\"1984\",\"type\":\"LinearScale\"},{\"attributes\":{\"label\":{\"value\":\"2\"},\"renderers\":[{\"id\":\"2064\"}]},\"id\":\"2080\",\"type\":\"LegendItem\"},{\"attributes\":{},\"id\":\"2077\",\"type\":\"UnionRenderers\"},{\"attributes\":{\"axis\":{\"id\":\"1992\"},\"coordinates\":null,\"dimension\":1,\"grid_line_color\":null,\"group\":null,\"ticker\":null},\"id\":\"1995\",\"type\":\"Grid\"},{\"attributes\":{\"data\":{\"class\":[2,2,2,2,2,2,2,2,2,2,2,2,2,2,2,2,2,2,2,2,2,2,2,2,2,2,2,2,2,2,2,2,2,2,2,2,2],\"principal component 1\":{\"__ndarray__\":\"tEt3Whjr+D8gHDsT+kAEQOaJeHuP7gRAeS6yQHWI/z9qrPTpTcwCQGwDPmHPLAtAd0OaFr90B0BK4RicsI4CQHu41sJWWAdAcXNYGUmX+j+N+EbxYtb8PxGtPieyUgFAxR37ZtR5/j99A559HzD/P19UyNL96AtAYan7yIRbDkAzs7X04mwDQFev+OZ+/gtAbAASwvI0AkDOCIJ03ukEQKW7I96a+wBAaSaKXbsZA0BWhLq4SboGQOob7ZfW2wlAAtHJnxhFAUACeJznZ3n8P+DDHV63nAhAk1R/3u4oAUDgOu2LUXr+P9ZzNY953ABAQKWHf7GDAkC1kujbW8L+P0TIlFavgQRA4lWqyOlaA0CzvfyesRr/P4muGzuIOfw/V8X3mxJt/j8=\",\"dtype\":\"float64\",\"order\":\"little\",\"shape\":[37]},\"principal component 2\":{\"__ndarray__\":\"yK29yfUc0T9BFqcYvkCIvxJdvYpE4tU/iIeccyAvx78lzxQqoXGlv+ww/49mguE/DTBaSViN1j8etixZH27Pv3e2Mszg+Og/gYhqRB37zj+pnCtD9KrLv07ER+hNjss/rxZq4Otqvj+7U2a4mNqkPyy19n2lvvI/S+ghzIA10D9okxAhMh3YP6GjksfGO90/VFFDcDRW1T9wrNNdJN7hP+PDq/hK/cq/DvHoV+qZ3T84cJi9A9vXP41njpyq7fU/k/H4TBfyy782cqvl/wvgv5ybhkXI8eU/G8UpF7HHwT9EIQXZrpmoP/+m0Htdxtc/+j0PEbpfxz9Mgji7fzHaP1KZafWQqdE/9PWox5ts0z8e6LrUOP3HPweX0lnVGbQ/mYIXPBmqvT8=\",\"dtype\":\"float64\",\"order\":\"little\",\"shape\":[37]},\"principal_component_1\":{\"__ndarray__\":\"tEt3Whjr+D8gHDsT+kAEQOaJeHuP7gRAeS6yQHWI/z9qrPTpTcwCQGwDPmHPLAtAd0OaFr90B0BK4RicsI4CQHu41sJWWAdAcXNYGUmX+j+N+EbxYtb8PxGtPieyUgFAxR37ZtR5/j99A559HzD/P19UyNL96AtAYan7yIRbDkAzs7X04mwDQFev+OZ+/gtAbAASwvI0AkDOCIJ03ukEQKW7I96a+wBAaSaKXbsZA0BWhLq4SboGQOob7ZfW2wlAAtHJnxhFAUACeJznZ3n8P+DDHV63nAhAk1R/3u4oAUDgOu2LUXr+P9ZzNY953ABAQKWHf7GDAkC1kujbW8L+P0TIlFavgQRA4lWqyOlaA0CzvfyesRr/P4muGzuIOfw/V8X3mxJt/j8=\",\"dtype\":\"float64\",\"order\":\"little\",\"shape\":[37]},\"principal_component_2\":{\"__ndarray__\":\"yK29yfUc0T9BFqcYvkCIvxJdvYpE4tU/iIeccyAvx78lzxQqoXGlv+ww/49mguE/DTBaSViN1j8etixZH27Pv3e2Mszg+Og/gYhqRB37zj+pnCtD9KrLv07ER+hNjss/rxZq4Otqvj+7U2a4mNqkPyy19n2lvvI/S+ghzIA10D9okxAhMh3YP6GjksfGO90/VFFDcDRW1T9wrNNdJN7hP+PDq/hK/cq/DvHoV+qZ3T84cJi9A9vXP41njpyq7fU/k/H4TBfyy782cqvl/wvgv5ybhkXI8eU/G8UpF7HHwT9EIQXZrpmoP/+m0Htdxtc/+j0PEbpfxz9Mgji7fzHaP1KZafWQqdE/9PWox5ts0z8e6LrUOP3HPweX0lnVGbQ/mYIXPBmqvT8=\",\"dtype\":\"float64\",\"order\":\"little\",\"shape\":[37]}},\"selected\":{\"id\":\"2059\"},\"selection_policy\":{\"id\":\"2077\"}},\"id\":\"2058\",\"type\":\"ColumnDataSource\"},{\"attributes\":{},\"id\":\"2011\",\"type\":\"AllLabels\"},{\"attributes\":{\"data\":{\"class\":[0,0,0,0,0,0,0,0,0,0,0,0,0,0,0,0,0,0,0,0,0,0,0,0,0,0,0,0,0,0,0,0,0,0,0,0,0,0,0,0,0,0,0,0,0,0,0,0,0,0,0,0,0,0,0,0,0,0,0,0,0,0,0],\"principal component 1\":{\"__ndarray__\":\"RPUNxYSO9D/9AlATT9btP0TLypDLbPc/drd09O4pxz9Vhs4h52TxP3F4yzV1fuQ/NtX/SwmG8T/bSSPRBAzovzb3gQNZsfA/GhQpJIjehL+Kzhlw0Vrgv+jn9VHqWuA/LvVP6RvK0D+x6mn8Sn3vPzVd2JDxYca/GetVc62u7T/UjzVWYhvlP2kLyQltBc4/3vtIvdMn7j+3uylmZCSmP6/Grzsf3PE/fPgeVJfV1j83JQQfVr70Pw9CnvjBdO0/r3vVwCfZ5j9lXr6i28nsP6mjORbyS/U/982Mx6L/6T/15h9lX6vTv3sUi9f9AbK/fKYYyauPyL86Kqi4g0fBP9LorIJOD/Y/6HE8ovTK4j8IGCyfoNTpP7HKEYbghvM/B2zzTwMD6j/WeUwYjmLPPzalTKnGDsU/CjCPukyi3T/LdkjCMXzsP8z5LaHoS80/nLjB7Wig5r/bLf2lDcHWPy+TZxQvMdU/q0JiNOcD2D/CXdwMuojkP5ItLLIhEu2/+2Oz5UgP0z8M2pQyCqD2P2hdd5zJnuA/x4bpOXWD9T+OLl8+QV35P/4Kf371xfQ/EoN1Jmgr8z8go4Of4zP2P7GhdJU7H/Q/vpBvN5Wm9D9lE6nB8hb3P3MQE7Kfs/I/DNqUMgqg9j/vCJNEHmn4P2JzL44SPPY/\",\"dtype\":\"float64\",\"order\":\"little\",\"shape\":[63]},\"principal component 2\":{\"__ndarray__\":\"1876KB7v5T8K/zHTvW3UP9n0crdSIuA/BnUj9lhr6r8oj23YyEyzP3phzY1ttdq/KZGmCkYr0j8mFMBPiQTwv+j7scF1Ts0/OrzZBfMO578J0VTDKjP0v8i0EoZKL7q/wuyWhleI4b8bgcWhFda/v+Jsmg6/HdC/WKfd/JT33T9wksSQx4bWv0oVfA41PtW/RvnfoZtW4b89aoXBj5vivx32eLMMj7W/5Aiay10bsb9BobyXxPbUv1WrzEKRWMe/SuhixJ8/wz/YOm2mWBjVP2ZMqLJUUc8/uR+b8kfHxL/Pb4I9lF3Xv1B0H9Qwe+a/uvxtpgCu5b9UklAADfPTv81+YmUG9dq/OSUhIyHu3r9bEa09h/fIP4gHAj9AHdo/FQDGZzS5179wA4Z3EhLRv/FR4WjJv+W/pKWl78Js5b/kJpdP3U+hv70Nz76Wvtm/kQrFAIIi8L9+YkSoXRrgv/n22mrzB8u/ajXWbO+p0r8LFU79ZIeTP0uU6drZDOi/KQDcyIQ11r8Vaxk7yWXiv1Yc6MnGD/O/HdJnKWXY6L+q0tjdAELhv4IfJeY5Wui/EpZ9Iedg478+P1j3rx3Kv0Dbtwz27ca/7yQJmQvOvb9Z0d2kFGjCv5V0aPxqDsW/FWsZO8ll4r/yVJNxVwDYv6mMF9vQGtK/\",\"dtype\":\"float64\",\"order\":\"little\",\"shape\":[63]},\"principal_component_1\":{\"__ndarray__\":\"RPUNxYSO9D/9AlATT9btP0TLypDLbPc/drd09O4pxz9Vhs4h52TxP3F4yzV1fuQ/NtX/SwmG8T/bSSPRBAzovzb3gQNZsfA/GhQpJIjehL+Kzhlw0Vrgv+jn9VHqWuA/LvVP6RvK0D+x6mn8Sn3vPzVd2JDxYca/GetVc62u7T/UjzVWYhvlP2kLyQltBc4/3vtIvdMn7j+3uylmZCSmP6/Grzsf3PE/fPgeVJfV1j83JQQfVr70Pw9CnvjBdO0/r3vVwCfZ5j9lXr6i28nsP6mjORbyS/U/982Mx6L/6T/15h9lX6vTv3sUi9f9AbK/fKYYyauPyL86Kqi4g0fBP9LorIJOD/Y/6HE8ovTK4j8IGCyfoNTpP7HKEYbghvM/B2zzTwMD6j/WeUwYjmLPPzalTKnGDsU/CjCPukyi3T/LdkjCMXzsP8z5LaHoS80/nLjB7Wig5r/bLf2lDcHWPy+TZxQvMdU/q0JiNOcD2D/CXdwMuojkP5ItLLIhEu2/+2Oz5UgP0z8M2pQyCqD2P2hdd5zJnuA/x4bpOXWD9T+OLl8+QV35P/4Kf371xfQ/EoN1Jmgr8z8go4Of4zP2P7GhdJU7H/Q/vpBvN5Wm9D9lE6nB8hb3P3MQE7Kfs/I/DNqUMgqg9j/vCJNEHmn4P2JzL44SPPY/\",\"dtype\":\"float64\",\"order\":\"little\",\"shape\":[63]},\"principal_component_2\":{\"__ndarray__\":\"1876KB7v5T8K/zHTvW3UP9n0crdSIuA/BnUj9lhr6r8oj23YyEyzP3phzY1ttdq/KZGmCkYr0j8mFMBPiQTwv+j7scF1Ts0/OrzZBfMO578J0VTDKjP0v8i0EoZKL7q/wuyWhleI4b8bgcWhFda/v+Jsmg6/HdC/WKfd/JT33T9wksSQx4bWv0oVfA41PtW/RvnfoZtW4b89aoXBj5vivx32eLMMj7W/5Aiay10bsb9BobyXxPbUv1WrzEKRWMe/SuhixJ8/wz/YOm2mWBjVP2ZMqLJUUc8/uR+b8kfHxL/Pb4I9lF3Xv1B0H9Qwe+a/uvxtpgCu5b9UklAADfPTv81+YmUG9dq/OSUhIyHu3r9bEa09h/fIP4gHAj9AHdo/FQDGZzS5179wA4Z3EhLRv/FR4WjJv+W/pKWl78Js5b/kJpdP3U+hv70Nz76Wvtm/kQrFAIIi8L9+YkSoXRrgv/n22mrzB8u/ajXWbO+p0r8LFU79ZIeTP0uU6drZDOi/KQDcyIQ11r8Vaxk7yWXiv1Yc6MnGD/O/HdJnKWXY6L+q0tjdAELhv4IfJeY5Wui/EpZ9Iedg478+P1j3rx3Kv0Dbtwz27ca/7yQJmQvOvb9Z0d2kFGjCv5V0aPxqDsW/FWsZO8ll4r/yVJNxVwDYv6mMF9vQGtK/\",\"dtype\":\"float64\",\"order\":\"little\",\"shape\":[63]}},\"selected\":{\"id\":\"2016\"},\"selection_policy\":{\"id\":\"2030\"}},\"id\":\"2015\",\"type\":\"ColumnDataSource\"},{\"attributes\":{\"fill_alpha\":{\"value\":0.2},\"fill_color\":{\"value\":\"#30a2da\"},\"hatch_alpha\":{\"value\":0.2},\"hatch_color\":{\"value\":\"#30a2da\"},\"line_alpha\":{\"value\":0.2},\"line_color\":{\"value\":\"#30a2da\"},\"size\":{\"value\":5.477225575051661},\"x\":{\"field\":\"principal component 1\"},\"y\":{\"field\":\"principal component 2\"}},\"id\":\"2020\",\"type\":\"Scatter\"},{\"attributes\":{},\"id\":\"2016\",\"type\":\"Selection\"},{\"attributes\":{\"coordinates\":null,\"data_source\":{\"id\":\"2036\"},\"glyph\":{\"id\":\"2039\"},\"group\":null,\"hover_glyph\":null,\"muted_glyph\":{\"id\":\"2041\"},\"nonselection_glyph\":{\"id\":\"2040\"},\"selection_glyph\":{\"id\":\"2057\"},\"view\":{\"id\":\"2043\"}},\"id\":\"2042\",\"type\":\"GlyphRenderer\"}],\"root_ids\":[\"1972\"]},\"title\":\"Bokeh Application\",\"version\":\"2.4.2\"}};\n",
       "    var render_items = [{\"docid\":\"20f8888e-1ddc-4945-b7b7-d6d658d05f6e\",\"root_ids\":[\"1972\"],\"roots\":{\"1972\":\"d56a2e79-bd5a-4e40-93cc-b726e1121d76\"}}];\n",
       "    root.Bokeh.embed.embed_items_notebook(docs_json, render_items);\n",
       "  }\n",
       "  if (root.Bokeh !== undefined && root.Bokeh.Panel !== undefined) {\n",
       "    embed_document(root);\n",
       "  } else {\n",
       "    var attempts = 0;\n",
       "    var timer = setInterval(function(root) {\n",
       "      if (root.Bokeh !== undefined && root.Bokeh.Panel !== undefined) {\n",
       "        clearInterval(timer);\n",
       "        embed_document(root);\n",
       "      } else if (document.readyState == \"complete\") {\n",
       "        attempts++;\n",
       "        if (attempts > 200) {\n",
       "          clearInterval(timer);\n",
       "          console.log(\"Bokeh: ERROR: Unable to run BokehJS code because BokehJS library is missing\");\n",
       "        }\n",
       "      }\n",
       "    }, 25, root)\n",
       "  }\n",
       "})(window);</script>"
      ],
      "text/plain": [
       ":NdOverlay   [class]\n",
       "   :Scatter   [principal component 1]   (principal component 2,class)"
      ]
     },
     "execution_count": 49,
     "metadata": {
      "application/vnd.holoviews_exec.v0+json": {
       "id": "1972"
      }
     },
     "output_type": "execute_result"
    }
   ],
   "source": [
    "df_iris_pca.hvplot.scatter(\n",
    "    x='principal component 1',\n",
    "    y='principal component 2',\n",
    "    hover_cols= ['class'],\n",
    "    by='class'\n",
    ")"
   ]
  },
  {
   "cell_type": "code",
   "execution_count": null,
   "metadata": {},
   "outputs": [],
   "source": []
  }
 ],
 "metadata": {
  "kernelspec": {
   "display_name": "mlenv",
   "language": "python",
   "name": "python3"
  },
  "language_info": {
   "codemirror_mode": {
    "name": "ipython",
    "version": 3
   },
   "file_extension": ".py",
   "mimetype": "text/x-python",
   "name": "python",
   "nbconvert_exporter": "python",
   "pygments_lexer": "ipython3",
   "version": "3.7.13"
  },
  "orig_nbformat": 4,
  "vscode": {
   "interpreter": {
    "hash": "29c8b8e84ddc553c59067f00f5ca77a754c00f6026ea37a663804841b5e1aaef"
   }
  }
 },
 "nbformat": 4,
 "nbformat_minor": 2
}
